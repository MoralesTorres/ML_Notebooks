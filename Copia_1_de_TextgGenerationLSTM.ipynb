{
  "nbformat": 4,
  "nbformat_minor": 0,
  "metadata": {
    "colab": {
      "name": "Copia 1 de TextgGenerationLSTM.ipynb",
      "provenance": [],
      "collapsed_sections": [],
      "authorship_tag": "ABX9TyNXbeWbe6+qPqoOq4y4dL5C",
      "include_colab_link": true
    },
    "kernelspec": {
      "name": "python3",
      "display_name": "Python 3"
    },
    "accelerator": "GPU"
  },
  "cells": [
    {
      "cell_type": "markdown",
      "metadata": {
        "id": "view-in-github",
        "colab_type": "text"
      },
      "source": [
        "<a href=\"https://colab.research.google.com/github/MoralesTorres/ML_Notebooks/blob/master/Copia_1_de_TextgGenerationLSTM.ipynb\" target=\"_parent\"><img src=\"https://colab.research.google.com/assets/colab-badge.svg\" alt=\"Open In Colab\"/></a>"
      ]
    },
    {
      "cell_type": "markdown",
      "metadata": {
        "id": "lfdDuCiMgT8q"
      },
      "source": [
        "1. IMPORTING DEPENDENCIES\n"
      ]
    },
    {
      "cell_type": "code",
      "metadata": {
        "id": "FTZDVs0Tjcyr",
        "colab": {
          "base_uri": "https://localhost:8080/"
        },
        "outputId": "d17f1d9e-7346-4409-8bdd-a4dd0e571475"
      },
      "source": [
        "!pip install -q gradio"
      ],
      "execution_count": 1,
      "outputs": [
        {
          "output_type": "stream",
          "text": [
            "\u001b[K     |████████████████████████████████| 1.1MB 6.4MB/s \n",
            "\u001b[K     |████████████████████████████████| 215kB 25.8MB/s \n",
            "\u001b[K     |████████████████████████████████| 962kB 25.7MB/s \n",
            "\u001b[K     |████████████████████████████████| 71kB 10.8MB/s \n",
            "\u001b[K     |████████████████████████████████| 3.2MB 53.2MB/s \n",
            "\u001b[?25h  Building wheel for ffmpy (setup.py) ... \u001b[?25l\u001b[?25hdone\n",
            "  Building wheel for flask-cachebuster (setup.py) ... \u001b[?25l\u001b[?25hdone\n",
            "  Building wheel for Flask-BasicAuth (setup.py) ... \u001b[?25l\u001b[?25hdone\n"
          ],
          "name": "stdout"
        }
      ]
    },
    {
      "cell_type": "code",
      "metadata": {
        "id": "e1jwzAFAqxjT"
      },
      "source": [
        "%tensorflow_version 2.x\n",
        "import tensorflow as tf \n",
        "import string \n",
        "import requests \n",
        "import math\n",
        "import re\n",
        "import time\n",
        "from google.colab import drive"
      ],
      "execution_count": 2,
      "outputs": []
    },
    {
      "cell_type": "code",
      "metadata": {
        "id": "3U7deAQhrRG1",
        "colab": {
          "base_uri": "https://localhost:8080/"
        },
        "outputId": "5a4369a6-1526-447f-c48f-631cfd4497a7"
      },
      "source": [
        "drive.mount(\"/content/drive\")"
      ],
      "execution_count": 3,
      "outputs": [
        {
          "output_type": "stream",
          "text": [
            "Mounted at /content/drive\n"
          ],
          "name": "stdout"
        }
      ]
    },
    {
      "cell_type": "code",
      "metadata": {
        "id": "cW8cmpCErqmt"
      },
      "source": [
        "with open(\"/content/drive/MyDrive/basic.txt\",\n",
        "          mode='r',\n",
        "          encoding='utf-8') as f:\n",
        "    advanced = f.read()"
      ],
      "execution_count": 4,
      "outputs": []
    },
    {
      "cell_type": "code",
      "metadata": {
        "colab": {
          "base_uri": "https://localhost:8080/",
          "height": 51
        },
        "id": "XyggXHhLr8yY",
        "outputId": "ba3de373-a4cf-42bc-910c-b7b4f376430c"
      },
      "source": [
        "data = advanced.split('\\n')\n",
        "data[0]\n"
      ],
      "execution_count": 5,
      "outputs": [
        {
          "output_type": "execute_result",
          "data": {
            "application/vnd.google.colaboratory.intrinsic+json": {
              "type": "string"
            },
            "text/plain": [
              "'On weekdays except Friday (this is, from Monday to Thursday) I get up early – at half past seven. I have a white coffee and biscuits for breakfast and I go to work. I work from eight to five. I always have lunch at the office. I usually have a sandwich and a juice or a piece of fruit for lunch.'"
            ]
          },
          "metadata": {
            "tags": []
          },
          "execution_count": 5
        }
      ]
    },
    {
      "cell_type": "code",
      "metadata": {
        "id": "Nv7JcfSMtBZx"
      },
      "source": [
        ""
      ],
      "execution_count": null,
      "outputs": []
    },
    {
      "cell_type": "code",
      "metadata": {
        "colab": {
          "base_uri": "https://localhost:8080/",
          "height": 35
        },
        "id": "LgPUTQagtMp7",
        "outputId": "91987025-75c1-43a1-ecd0-41969dc82654"
      },
      "source": [
        "data[3]"
      ],
      "execution_count": 6,
      "outputs": [
        {
          "output_type": "execute_result",
          "data": {
            "application/vnd.google.colaboratory.intrinsic+json": {
              "type": "string"
            },
            "text/plain": [
              "\"On Friday I work from nine to one. Then I have lunch and at four I go to my course. I'm taking a course on the Internet. It's interesting. I finish at six. Then I go out for a drink with my friends.\""
            ]
          },
          "metadata": {
            "tags": []
          },
          "execution_count": 6
        }
      ]
    },
    {
      "cell_type": "code",
      "metadata": {
        "colab": {
          "base_uri": "https://localhost:8080/"
        },
        "id": "65T-y30XtPx7",
        "outputId": "d8c2de25-cbd7-445e-a734-dc2a7711f6a1"
      },
      "source": [
        "len(data)"
      ],
      "execution_count": 7,
      "outputs": [
        {
          "output_type": "execute_result",
          "data": {
            "text/plain": [
              "10"
            ]
          },
          "metadata": {
            "tags": []
          },
          "execution_count": 7
        }
      ]
    },
    {
      "cell_type": "code",
      "metadata": {
        "id": "jYwQAkleteV0",
        "colab": {
          "base_uri": "https://localhost:8080/",
          "height": 100
        },
        "outputId": "359f02ae-0424-4a16-b8fe-a4ce3ff110a3"
      },
      "source": [
        "data = \" \".join(data)\n",
        "data[:1000]"
      ],
      "execution_count": 8,
      "outputs": [
        {
          "output_type": "execute_result",
          "data": {
            "application/vnd.google.colaboratory.intrinsic+json": {
              "type": "string"
            },
            "text/plain": [
              "\"On weekdays except Friday (this is, from Monday to Thursday) I get up early – at half past seven. I have a white coffee and biscuits for breakfast and I go to work. I work from eight to five. I always have lunch at the office. I usually have a sandwich and a juice or a piece of fruit for lunch.  In the afternoon, I go to my English class. That's from five to six. After that, I go shopping for food and things for the house. Then I often listen to my audio CD. And I listen and repeat! Sometimes I do my homework. At about half past eight I cook dinner for my family and me. We usually have dinner at nine thirty. Then we watch TV or read. I often go to bed at about half past eleven. On Friday I work from nine to one. Then I have lunch and at four I go to my course. I'm taking a course on the Internet. It's interesting. I finish at six. Then I go out for a drink with my friends. At the weekend my day is different. On Saturday, in the morning, oh well, on Saturday morning my family and I do s\""
            ]
          },
          "metadata": {
            "tags": []
          },
          "execution_count": 8
        }
      ]
    },
    {
      "cell_type": "code",
      "metadata": {
        "id": "2SwqFn-uuBUT"
      },
      "source": [
        "def clean_text(doc):\n",
        "  tokens = doc.split()\n",
        "  table = str.maketrans('' , '', string.punctuation)\n",
        "  tokens = [w.translate(table) for w in tokens]\n",
        "  tokens = [word for word in tokens if word.isalpha()]\n",
        "  tokens = [word.lower() for word in tokens]\n",
        "  return tokens "
      ],
      "execution_count": 9,
      "outputs": []
    },
    {
      "cell_type": "code",
      "metadata": {
        "colab": {
          "base_uri": "https://localhost:8080/"
        },
        "id": "88LVOAmIvXS-",
        "outputId": "f12da708-e267-4261-9813-0779625d8349"
      },
      "source": [
        "tokens = clean_text(data)\n",
        "print(tokens[:50])"
      ],
      "execution_count": 10,
      "outputs": [
        {
          "output_type": "stream",
          "text": [
            "['on', 'weekdays', 'except', 'friday', 'this', 'is', 'from', 'monday', 'to', 'thursday', 'i', 'get', 'up', 'early', 'at', 'half', 'past', 'seven', 'i', 'have', 'a', 'white', 'coffee', 'and', 'biscuits', 'for', 'breakfast', 'and', 'i', 'go', 'to', 'work', 'i', 'work', 'from', 'eight', 'to', 'five', 'i', 'always', 'have', 'lunch', 'at', 'the', 'office', 'i', 'usually', 'have', 'a', 'sandwich']\n"
          ],
          "name": "stdout"
        }
      ]
    },
    {
      "cell_type": "code",
      "metadata": {
        "colab": {
          "base_uri": "https://localhost:8080/"
        },
        "id": "QGpSCE5rwet5",
        "outputId": "520cb898-dc61-42a4-dc2b-db7a1726a4ab"
      },
      "source": [
        "len(tokens)"
      ],
      "execution_count": 11,
      "outputs": [
        {
          "output_type": "execute_result",
          "data": {
            "text/plain": [
              "292"
            ]
          },
          "metadata": {
            "tags": []
          },
          "execution_count": 11
        }
      ]
    },
    {
      "cell_type": "code",
      "metadata": {
        "colab": {
          "base_uri": "https://localhost:8080/"
        },
        "id": "pq742MlfwjXO",
        "outputId": "42aa506a-d436-446a-b7ca-ddc71ecb682e"
      },
      "source": [
        "len(set(tokens))"
      ],
      "execution_count": 12,
      "outputs": [
        {
          "output_type": "execute_result",
          "data": {
            "text/plain": [
              "124"
            ]
          },
          "metadata": {
            "tags": []
          },
          "execution_count": 12
        }
      ]
    },
    {
      "cell_type": "code",
      "metadata": {
        "colab": {
          "base_uri": "https://localhost:8080/"
        },
        "id": "vRCf_l9ehLTp",
        "outputId": "76c48d44-19b2-4352-ae86-2de785ca3738"
      },
      "source": [
        "\n",
        "from random import randint\n",
        "\n",
        "def generate_sequence(length, n_unique):\n",
        "  return [randint(0, n_unique-1) for _ in range(length)]\n",
        "\n",
        "sequence = generate_sequence(10, 50)\n",
        "print(sequence)"
      ],
      "execution_count": 13,
      "outputs": [
        {
          "output_type": "stream",
          "text": [
            "[5, 43, 25, 4, 43, 43, 37, 2, 20, 41]\n"
          ],
          "name": "stdout"
        }
      ]
    },
    {
      "cell_type": "code",
      "metadata": {
        "id": "wGklBHb8hiY3"
      },
      "source": [
        "def one_hot_encode(sequence, n_unique):\n",
        "\tencoding = list()\n",
        "\tfor value in sequence:\n",
        "\t\tvector = [0 for _ in range(n_unique)]\n",
        "\t\tvector[value] = 1\n",
        "\t\tencoding.append(vector)\n",
        "\treturn array(encoding)"
      ],
      "execution_count": 14,
      "outputs": []
    },
    {
      "cell_type": "code",
      "metadata": {
        "id": "b-3hyvNGhrjw"
      },
      "source": [
        "\n",
        "\n",
        "def one_hot_decode(encoded_seq):\n",
        "\treturn [argmax(vector) for vector in encoded_seq]\n"
      ],
      "execution_count": 15,
      "outputs": []
    },
    {
      "cell_type": "code",
      "metadata": {
        "colab": {
          "base_uri": "https://localhost:8080/"
        },
        "id": "voG9_frMh0bv",
        "outputId": "e45e61f1-b6a3-428b-eb61-b4dafec56d35"
      },
      "source": [
        "\n",
        "from random import randint\n",
        "from numpy import array\n",
        "from numpy import argmax\n",
        "\n",
        "# generate a sequence of random integers\n",
        "def generate_sequence(length, n_unique):\n",
        "\treturn [randint(0, n_unique-1) for _ in range(length)]\n",
        "\n",
        "# one hot encode sequence\n",
        "def one_hot_encode(sequence, n_unique):\n",
        "\tencoding = list()\n",
        "\tfor value in sequence:\n",
        "\t\tvector = [0 for _ in range(n_unique)]\n",
        "\t\tvector[value] = 1\n",
        "\t\tencoding.append(vector)\n",
        "\treturn array(encoding)\n",
        "\n",
        "# decode a one hot encoded string\n",
        "def one_hot_decode(encoded_seq):\n",
        "\treturn [argmax(vector) for vector in encoded_seq]\n",
        "\n",
        "# generate random sequence\n",
        "sequence = generate_sequence(5, 50)\n",
        "print(sequence)\n",
        "# one hot encode\n",
        "encoded = one_hot_encode(sequence, 50)\n",
        "print(encoded)\n",
        "# decode\n",
        "decoded = one_hot_decode(encoded)\n",
        "print(decoded)\n",
        "\n"
      ],
      "execution_count": 17,
      "outputs": [
        {
          "output_type": "stream",
          "text": [
            "[42, 23, 13, 35, 9]\n",
            "[[0 0 0 0 0 0 0 0 0 0 0 0 0 0 0 0 0 0 0 0 0 0 0 0 0 0 0 0 0 0 0 0 0 0 0 0\n",
            "  0 0 0 0 0 0 1 0 0 0 0 0 0 0]\n",
            " [0 0 0 0 0 0 0 0 0 0 0 0 0 0 0 0 0 0 0 0 0 0 0 1 0 0 0 0 0 0 0 0 0 0 0 0\n",
            "  0 0 0 0 0 0 0 0 0 0 0 0 0 0]\n",
            " [0 0 0 0 0 0 0 0 0 0 0 0 0 1 0 0 0 0 0 0 0 0 0 0 0 0 0 0 0 0 0 0 0 0 0 0\n",
            "  0 0 0 0 0 0 0 0 0 0 0 0 0 0]\n",
            " [0 0 0 0 0 0 0 0 0 0 0 0 0 0 0 0 0 0 0 0 0 0 0 0 0 0 0 0 0 0 0 0 0 0 0 1\n",
            "  0 0 0 0 0 0 0 0 0 0 0 0 0 0]\n",
            " [0 0 0 0 0 0 0 0 0 1 0 0 0 0 0 0 0 0 0 0 0 0 0 0 0 0 0 0 0 0 0 0 0 0 0 0\n",
            "  0 0 0 0 0 0 0 0 0 0 0 0 0 0]]\n",
            "[42, 23, 13, 35, 9]\n"
          ],
          "name": "stdout"
        }
      ]
    },
    {
      "cell_type": "code",
      "metadata": {
        "id": "RoAJIGM_iDVo"
      },
      "source": [
        "# prepare data for the LSTM\n",
        "def get_pair(n_in, n_out, n_unique):\n",
        "\t# generate random sequence\n",
        "\tsequence_in = generate_sequence(n_in, n_unique)\n",
        "\tsequence_out = sequence_in[:n_out] + [0 for _ in range(n_in-n_out)]\n",
        "\t# one hot encode\n",
        "\tX = one_hot_encode(sequence_in, n_unique)\n",
        "\ty = one_hot_encode(sequence_out, n_unique)\n",
        "\t# reshape as 3D\n",
        "\tX = X.reshape((1, X.shape[0], X.shape[1]))\n",
        "\ty = y.reshape((1, y.shape[0], y.shape[1]))\n",
        "\treturn X,y"
      ],
      "execution_count": 18,
      "outputs": []
    },
    {
      "cell_type": "code",
      "metadata": {
        "colab": {
          "base_uri": "https://localhost:8080/"
        },
        "id": "pGSg_mCeiElP",
        "outputId": "53e5f898-7481-4707-e22f-b0df067cb179"
      },
      "source": [
        "from random import randint\n",
        "from numpy import array\n",
        "from numpy import argmax\n",
        " \n",
        "# generate a sequence of random integers\n",
        "def generate_sequence(length, n_unique):\n",
        "\treturn [randint(0, n_unique-1) for _ in range(length)]\n",
        " \n",
        "# one hot encode sequence\n",
        "def one_hot_encode(sequence, n_unique):\n",
        "\tencoding = list()\n",
        "\tfor value in sequence:\n",
        "\t\tvector = [0 for _ in range(n_unique)]\n",
        "\t\tvector[value] = 1\n",
        "\t\tencoding.append(vector)\n",
        "\treturn array(encoding)\n",
        " \n",
        "# decode a one hot encoded string\n",
        "def one_hot_decode(encoded_seq):\n",
        "\treturn [argmax(vector) for vector in encoded_seq]\n",
        " \n",
        "# prepare data for the LSTM\n",
        "def get_pair(n_in, n_out, n_unique):\n",
        "\t# generate random sequence\n",
        "\tsequence_in = generate_sequence(n_in, n_unique)\n",
        "\tsequence_out = sequence_in[:n_out] + [0 for _ in range(n_in-n_out)]\n",
        "\t# one hot encode\n",
        "\tX = one_hot_encode(sequence_in, n_unique)\n",
        "\ty = one_hot_encode(sequence_out, n_unique)\n",
        "\t# reshape as 3D\n",
        "\tX = X.reshape((1, X.shape[0], X.shape[1]))\n",
        "\ty = y.reshape((1, y.shape[0], y.shape[1]))\n",
        "\treturn X,y\n",
        " \n",
        "# generate random sequence\n",
        "X, y = get_pair(5, 2, 50)\n",
        "print(X.shape, y.shape)\n",
        "print('X=%s, y=%s' % (one_hot_decode(X[0]), one_hot_decode(y[0])))"
      ],
      "execution_count": 19,
      "outputs": [
        {
          "output_type": "stream",
          "text": [
            "(1, 5, 50) (1, 5, 50)\n",
            "X=[33, 12, 42, 47, 40], y=[33, 12, 0, 0, 0]\n"
          ],
          "name": "stdout"
        }
      ]
    },
    {
      "cell_type": "code",
      "metadata": {
        "id": "QOq0bng1iEoX"
      },
      "source": [
        ""
      ],
      "execution_count": null,
      "outputs": []
    },
    {
      "cell_type": "code",
      "metadata": {
        "id": "wBltTNR4iErS"
      },
      "source": [
        ""
      ],
      "execution_count": null,
      "outputs": []
    },
    {
      "cell_type": "code",
      "metadata": {
        "id": "OKMMC7-8iEvS"
      },
      "source": [
        ""
      ],
      "execution_count": null,
      "outputs": []
    },
    {
      "cell_type": "code",
      "metadata": {
        "colab": {
          "base_uri": "https://localhost:8080/"
        },
        "id": "WtUc7dZPxAMI",
        "outputId": "2077c321-9ecf-42c1-a3b4-7024081eb26d"
      },
      "source": [
        "length = 10 + 1\n",
        "lines = []\n",
        "\n",
        "for i in range(length, len(tokens)):\n",
        "  seq = tokens[i-length:i]\n",
        "  line = ' '.join(seq)\n",
        "  lines.append(line)\n",
        "  if i > 5000:\n",
        "    break\n",
        "\n",
        "print(len(lines))"
      ],
      "execution_count": 20,
      "outputs": [
        {
          "output_type": "stream",
          "text": [
            "281\n"
          ],
          "name": "stdout"
        }
      ]
    },
    {
      "cell_type": "code",
      "metadata": {
        "colab": {
          "base_uri": "https://localhost:8080/",
          "height": 35
        },
        "id": "6gfOaLjqZuaU",
        "outputId": "cf1f7c55-387b-48e4-fb5f-1c3bfed5286f"
      },
      "source": [
        "lines[2]"
      ],
      "execution_count": 21,
      "outputs": [
        {
          "output_type": "execute_result",
          "data": {
            "application/vnd.google.colaboratory.intrinsic+json": {
              "type": "string"
            },
            "text/plain": [
              "'except friday this is from monday to thursday i get up'"
            ]
          },
          "metadata": {
            "tags": []
          },
          "execution_count": 21
        }
      ]
    },
    {
      "cell_type": "markdown",
      "metadata": {
        "id": "lnNM9qroyyJ5"
      },
      "source": [
        "## Construction of our LSTM model / Training X and Y\n"
      ]
    },
    {
      "cell_type": "code",
      "metadata": {
        "colab": {
          "base_uri": "https://localhost:8080/",
          "height": 35
        },
        "id": "McTn9gREyY-P",
        "outputId": "a4488cec-d32d-4495-ba59-c120d778d985"
      },
      "source": [
        "tokens[30]"
      ],
      "execution_count": 22,
      "outputs": [
        {
          "output_type": "execute_result",
          "data": {
            "application/vnd.google.colaboratory.intrinsic+json": {
              "type": "string"
            },
            "text/plain": [
              "'to'"
            ]
          },
          "metadata": {
            "tags": []
          },
          "execution_count": 22
        }
      ]
    },
    {
      "cell_type": "code",
      "metadata": {
        "id": "qeP4la-izKNT"
      },
      "source": [
        "import numpy as np \n",
        "from tensorflow.keras.preprocessing.text import Tokenizer\n",
        "from tensorflow.keras.utils import to_categorical\n",
        "from tensorflow.keras.models import Sequential\n",
        "from tensorflow.keras.layers import Dense, LSTM, Embedding\n",
        "from tensorflow.keras.preprocessing.sequence import pad_sequences "
      ],
      "execution_count": 23,
      "outputs": []
    },
    {
      "cell_type": "code",
      "metadata": {
        "id": "TzYUYwT6zwzQ"
      },
      "source": [
        "tokenizer = Tokenizer()\n",
        "tokenizer.fit_on_texts(lines)\n",
        "sequences = tokenizer.texts_to_sequences(lines)\n",
        "\n"
      ],
      "execution_count": 24,
      "outputs": []
    },
    {
      "cell_type": "code",
      "metadata": {
        "id": "ybuHI89A0PpE",
        "colab": {
          "base_uri": "https://localhost:8080/"
        },
        "outputId": "b7b1a727-30aa-466a-a33a-5d9e179363b5"
      },
      "source": [
        "sequences = np.array(sequences)\n",
        "X, y = sequences[:, :-1], sequences[:,-1]\n",
        "X[0]\n"
      ],
      "execution_count": 25,
      "outputs": [
        {
          "output_type": "execute_result",
          "data": {
            "text/plain": [
              "array([  9, 123, 121,  49, 120,  47,  16, 119,   3, 117])"
            ]
          },
          "metadata": {
            "tags": []
          },
          "execution_count": 25
        }
      ]
    },
    {
      "cell_type": "code",
      "metadata": {
        "colab": {
          "base_uri": "https://localhost:8080/"
        },
        "id": "5UxRoMta1RcS",
        "outputId": "f717b62e-be6d-45ff-8561-832b1ef49acc"
      },
      "source": [
        "X[1]"
      ],
      "execution_count": 26,
      "outputs": [
        {
          "output_type": "execute_result",
          "data": {
            "text/plain": [
              "array([123, 121,  49, 120,  47,  16, 119,   3, 117,   1])"
            ]
          },
          "metadata": {
            "tags": []
          },
          "execution_count": 26
        }
      ]
    },
    {
      "cell_type": "code",
      "metadata": {
        "id": "aXp1nRvz12Ff"
      },
      "source": [
        "vocab_size = len(tokenizer.word_index) + 1"
      ],
      "execution_count": 27,
      "outputs": []
    },
    {
      "cell_type": "code",
      "metadata": {
        "colab": {
          "base_uri": "https://localhost:8080/"
        },
        "id": "_rUoqRQi1ZZS",
        "outputId": "e8929ad8-36b2-40e0-b2eb-7b419c881f33"
      },
      "source": [
        "y[1]"
      ],
      "execution_count": 28,
      "outputs": [
        {
          "output_type": "execute_result",
          "data": {
            "text/plain": [
              "51"
            ]
          },
          "metadata": {
            "tags": []
          },
          "execution_count": 28
        }
      ]
    },
    {
      "cell_type": "code",
      "metadata": {
        "colab": {
          "base_uri": "https://localhost:8080/"
        },
        "id": "v7P79ceW1m2I",
        "outputId": "33e30aa2-1ae8-4cd1-a524-2ad4ebc697dc"
      },
      "source": [
        "y = to_categorical(y, num_classes=vocab_size )\n",
        "X.shape[1]"
      ],
      "execution_count": 29,
      "outputs": [
        {
          "output_type": "execute_result",
          "data": {
            "text/plain": [
              "10"
            ]
          },
          "metadata": {
            "tags": []
          },
          "execution_count": 29
        }
      ]
    },
    {
      "cell_type": "code",
      "metadata": {
        "id": "vUJAkcAz20hc",
        "colab": {
          "base_uri": "https://localhost:8080/"
        },
        "outputId": "687a78d3-e0f6-4e4b-ee68-4bc11742d468"
      },
      "source": [
        "seq_length = X.shape[1]\n",
        "seq_length\n"
      ],
      "execution_count": 30,
      "outputs": [
        {
          "output_type": "execute_result",
          "data": {
            "text/plain": [
              "10"
            ]
          },
          "metadata": {
            "tags": []
          },
          "execution_count": 30
        }
      ]
    },
    {
      "cell_type": "code",
      "metadata": {
        "id": "Ohv0WKTNH89H"
      },
      "source": [
        ""
      ],
      "execution_count": null,
      "outputs": []
    },
    {
      "cell_type": "code",
      "metadata": {
        "id": "W17FVAMlH9Am"
      },
      "source": [
        ""
      ],
      "execution_count": null,
      "outputs": []
    },
    {
      "cell_type": "markdown",
      "metadata": {
        "id": "zK7o6QKa3B3T"
      },
      "source": [
        "## LSTM MODEL"
      ]
    },
    {
      "cell_type": "code",
      "metadata": {
        "colab": {
          "base_uri": "https://localhost:8080/"
        },
        "id": "WMtzdJGvJTtN",
        "outputId": "566534f7-c006-486b-83e3-66eabf606dd8"
      },
      "source": [
        "pip install attention"
      ],
      "execution_count": 31,
      "outputs": [
        {
          "output_type": "stream",
          "text": [
            "Collecting attention\n",
            "  Downloading https://files.pythonhosted.org/packages/cb/3f/d8b19195a2f5827dcbf0ee6d7e6fe4352f42dcc60693bdb1e431440c8b59/attention-4.0-py2.py3-none-any.whl\n",
            "Requirement already satisfied: numpy>=1.18.1 in /usr/local/lib/python3.7/dist-packages (from attention) (1.19.5)\n",
            "Requirement already satisfied: tensorflow>=2.1 in /usr/local/lib/python3.7/dist-packages (from attention) (2.4.1)\n",
            "Requirement already satisfied: tensorflow-estimator<2.5.0,>=2.4.0 in /usr/local/lib/python3.7/dist-packages (from tensorflow>=2.1->attention) (2.4.0)\n",
            "Requirement already satisfied: grpcio~=1.32.0 in /usr/local/lib/python3.7/dist-packages (from tensorflow>=2.1->attention) (1.32.0)\n",
            "Requirement already satisfied: absl-py~=0.10 in /usr/local/lib/python3.7/dist-packages (from tensorflow>=2.1->attention) (0.12.0)\n",
            "Requirement already satisfied: tensorboard~=2.4 in /usr/local/lib/python3.7/dist-packages (from tensorflow>=2.1->attention) (2.4.1)\n",
            "Requirement already satisfied: astunparse~=1.6.3 in /usr/local/lib/python3.7/dist-packages (from tensorflow>=2.1->attention) (1.6.3)\n",
            "Requirement already satisfied: opt-einsum~=3.3.0 in /usr/local/lib/python3.7/dist-packages (from tensorflow>=2.1->attention) (3.3.0)\n",
            "Requirement already satisfied: typing-extensions~=3.7.4 in /usr/local/lib/python3.7/dist-packages (from tensorflow>=2.1->attention) (3.7.4.3)\n",
            "Requirement already satisfied: gast==0.3.3 in /usr/local/lib/python3.7/dist-packages (from tensorflow>=2.1->attention) (0.3.3)\n",
            "Requirement already satisfied: protobuf>=3.9.2 in /usr/local/lib/python3.7/dist-packages (from tensorflow>=2.1->attention) (3.12.4)\n",
            "Requirement already satisfied: wheel~=0.35 in /usr/local/lib/python3.7/dist-packages (from tensorflow>=2.1->attention) (0.36.2)\n",
            "Requirement already satisfied: six~=1.15.0 in /usr/local/lib/python3.7/dist-packages (from tensorflow>=2.1->attention) (1.15.0)\n",
            "Requirement already satisfied: flatbuffers~=1.12.0 in /usr/local/lib/python3.7/dist-packages (from tensorflow>=2.1->attention) (1.12)\n",
            "Requirement already satisfied: keras-preprocessing~=1.1.2 in /usr/local/lib/python3.7/dist-packages (from tensorflow>=2.1->attention) (1.1.2)\n",
            "Requirement already satisfied: termcolor~=1.1.0 in /usr/local/lib/python3.7/dist-packages (from tensorflow>=2.1->attention) (1.1.0)\n",
            "Requirement already satisfied: google-pasta~=0.2 in /usr/local/lib/python3.7/dist-packages (from tensorflow>=2.1->attention) (0.2.0)\n",
            "Requirement already satisfied: h5py~=2.10.0 in /usr/local/lib/python3.7/dist-packages (from tensorflow>=2.1->attention) (2.10.0)\n",
            "Requirement already satisfied: wrapt~=1.12.1 in /usr/local/lib/python3.7/dist-packages (from tensorflow>=2.1->attention) (1.12.1)\n",
            "Requirement already satisfied: google-auth<2,>=1.6.3 in /usr/local/lib/python3.7/dist-packages (from tensorboard~=2.4->tensorflow>=2.1->attention) (1.28.1)\n",
            "Requirement already satisfied: google-auth-oauthlib<0.5,>=0.4.1 in /usr/local/lib/python3.7/dist-packages (from tensorboard~=2.4->tensorflow>=2.1->attention) (0.4.4)\n",
            "Requirement already satisfied: markdown>=2.6.8 in /usr/local/lib/python3.7/dist-packages (from tensorboard~=2.4->tensorflow>=2.1->attention) (3.3.4)\n",
            "Requirement already satisfied: werkzeug>=0.11.15 in /usr/local/lib/python3.7/dist-packages (from tensorboard~=2.4->tensorflow>=2.1->attention) (1.0.1)\n",
            "Requirement already satisfied: tensorboard-plugin-wit>=1.6.0 in /usr/local/lib/python3.7/dist-packages (from tensorboard~=2.4->tensorflow>=2.1->attention) (1.8.0)\n",
            "Requirement already satisfied: setuptools>=41.0.0 in /usr/local/lib/python3.7/dist-packages (from tensorboard~=2.4->tensorflow>=2.1->attention) (54.2.0)\n",
            "Requirement already satisfied: requests<3,>=2.21.0 in /usr/local/lib/python3.7/dist-packages (from tensorboard~=2.4->tensorflow>=2.1->attention) (2.23.0)\n",
            "Requirement already satisfied: cachetools<5.0,>=2.0.0 in /usr/local/lib/python3.7/dist-packages (from google-auth<2,>=1.6.3->tensorboard~=2.4->tensorflow>=2.1->attention) (4.2.1)\n",
            "Requirement already satisfied: rsa<5,>=3.1.4; python_version >= \"3.6\" in /usr/local/lib/python3.7/dist-packages (from google-auth<2,>=1.6.3->tensorboard~=2.4->tensorflow>=2.1->attention) (4.7.2)\n",
            "Requirement already satisfied: pyasn1-modules>=0.2.1 in /usr/local/lib/python3.7/dist-packages (from google-auth<2,>=1.6.3->tensorboard~=2.4->tensorflow>=2.1->attention) (0.2.8)\n",
            "Requirement already satisfied: requests-oauthlib>=0.7.0 in /usr/local/lib/python3.7/dist-packages (from google-auth-oauthlib<0.5,>=0.4.1->tensorboard~=2.4->tensorflow>=2.1->attention) (1.3.0)\n",
            "Requirement already satisfied: importlib-metadata; python_version < \"3.8\" in /usr/local/lib/python3.7/dist-packages (from markdown>=2.6.8->tensorboard~=2.4->tensorflow>=2.1->attention) (3.10.0)\n",
            "Requirement already satisfied: urllib3!=1.25.0,!=1.25.1,<1.26,>=1.21.1 in /usr/local/lib/python3.7/dist-packages (from requests<3,>=2.21.0->tensorboard~=2.4->tensorflow>=2.1->attention) (1.24.3)\n",
            "Requirement already satisfied: chardet<4,>=3.0.2 in /usr/local/lib/python3.7/dist-packages (from requests<3,>=2.21.0->tensorboard~=2.4->tensorflow>=2.1->attention) (3.0.4)\n",
            "Requirement already satisfied: certifi>=2017.4.17 in /usr/local/lib/python3.7/dist-packages (from requests<3,>=2.21.0->tensorboard~=2.4->tensorflow>=2.1->attention) (2020.12.5)\n",
            "Requirement already satisfied: idna<3,>=2.5 in /usr/local/lib/python3.7/dist-packages (from requests<3,>=2.21.0->tensorboard~=2.4->tensorflow>=2.1->attention) (2.10)\n",
            "Requirement already satisfied: pyasn1>=0.1.3 in /usr/local/lib/python3.7/dist-packages (from rsa<5,>=3.1.4; python_version >= \"3.6\"->google-auth<2,>=1.6.3->tensorboard~=2.4->tensorflow>=2.1->attention) (0.4.8)\n",
            "Requirement already satisfied: oauthlib>=3.0.0 in /usr/local/lib/python3.7/dist-packages (from requests-oauthlib>=0.7.0->google-auth-oauthlib<0.5,>=0.4.1->tensorboard~=2.4->tensorflow>=2.1->attention) (3.1.0)\n",
            "Requirement already satisfied: zipp>=0.5 in /usr/local/lib/python3.7/dist-packages (from importlib-metadata; python_version < \"3.8\"->markdown>=2.6.8->tensorboard~=2.4->tensorflow>=2.1->attention) (3.4.1)\n",
            "Installing collected packages: attention\n",
            "Successfully installed attention-4.0\n"
          ],
          "name": "stdout"
        }
      ]
    },
    {
      "cell_type": "code",
      "metadata": {
        "colab": {
          "base_uri": "https://localhost:8080/"
        },
        "id": "492I7HBvYlne",
        "outputId": "1fa114d7-9c2d-4f79-e845-4f2c4e47b4a8"
      },
      "source": [
        "pip install keras-self-attention"
      ],
      "execution_count": 32,
      "outputs": [
        {
          "output_type": "stream",
          "text": [
            "Collecting keras-self-attention\n",
            "  Downloading https://files.pythonhosted.org/packages/c3/34/e21dc6adcdab2be03781bde78c6c5d2b2136d35a1dd3e692d7e160ba062a/keras-self-attention-0.49.0.tar.gz\n",
            "Requirement already satisfied: numpy in /usr/local/lib/python3.7/dist-packages (from keras-self-attention) (1.19.5)\n",
            "Requirement already satisfied: Keras in /usr/local/lib/python3.7/dist-packages (from keras-self-attention) (2.4.3)\n",
            "Requirement already satisfied: h5py in /usr/local/lib/python3.7/dist-packages (from Keras->keras-self-attention) (2.10.0)\n",
            "Requirement already satisfied: scipy>=0.14 in /usr/local/lib/python3.7/dist-packages (from Keras->keras-self-attention) (1.4.1)\n",
            "Requirement already satisfied: pyyaml in /usr/local/lib/python3.7/dist-packages (from Keras->keras-self-attention) (3.13)\n",
            "Requirement already satisfied: six in /usr/local/lib/python3.7/dist-packages (from h5py->Keras->keras-self-attention) (1.15.0)\n",
            "Building wheels for collected packages: keras-self-attention\n",
            "  Building wheel for keras-self-attention (setup.py) ... \u001b[?25l\u001b[?25hdone\n",
            "  Created wheel for keras-self-attention: filename=keras_self_attention-0.49.0-cp37-none-any.whl size=19468 sha256=5e22d76296c1ff125b4af979e52e6e4b438e9c0a1ef51d6ad76b8521a8010761\n",
            "  Stored in directory: /root/.cache/pip/wheels/6f/9d/c5/26693a5092d9313daeae94db04818fc0a2b7a48ea381989f34\n",
            "Successfully built keras-self-attention\n",
            "Installing collected packages: keras-self-attention\n",
            "Successfully installed keras-self-attention-0.49.0\n"
          ],
          "name": "stdout"
        }
      ]
    },
    {
      "cell_type": "code",
      "metadata": {
        "id": "mbzx1RRWjKsc"
      },
      "source": [
        ""
      ],
      "execution_count": null,
      "outputs": []
    },
    {
      "cell_type": "code",
      "metadata": {
        "id": "rytz4nfBZDQc"
      },
      "source": [
        "model = Sequential()\n",
        "model.add(Embedding(vocab_size, 50, input_length=seq_length))\n",
        "model.add(LSTM(100, return_sequences=True))\n",
        "model.add(LSTM(100))\n",
        "model.add(Dense(100, activation='relu'))\n",
        "model.add(Dense(vocab_size, activation='softmax'))"
      ],
      "execution_count": 33,
      "outputs": []
    },
    {
      "cell_type": "code",
      "metadata": {
        "colab": {
          "base_uri": "https://localhost:8080/"
        },
        "id": "nfhKcEdxZDSz",
        "outputId": "2390ab72-642c-44f3-8cac-783bcce19e84"
      },
      "source": [
        "model.summary()"
      ],
      "execution_count": 34,
      "outputs": [
        {
          "output_type": "stream",
          "text": [
            "Model: \"sequential\"\n",
            "_________________________________________________________________\n",
            "Layer (type)                 Output Shape              Param #   \n",
            "=================================================================\n",
            "embedding (Embedding)        (None, 10, 50)            6200      \n",
            "_________________________________________________________________\n",
            "lstm (LSTM)                  (None, 10, 100)           60400     \n",
            "_________________________________________________________________\n",
            "lstm_1 (LSTM)                (None, 100)               80400     \n",
            "_________________________________________________________________\n",
            "dense (Dense)                (None, 100)               10100     \n",
            "_________________________________________________________________\n",
            "dense_1 (Dense)              (None, 124)               12524     \n",
            "=================================================================\n",
            "Total params: 169,624\n",
            "Trainable params: 169,624\n",
            "Non-trainable params: 0\n",
            "_________________________________________________________________\n"
          ],
          "name": "stdout"
        }
      ]
    },
    {
      "cell_type": "code",
      "metadata": {
        "id": "8peP4AohkTvw"
      },
      "source": [
        "model.compile(loss = 'categorical_crossentropy', optimizer = 'adam', metrics = ['accuracy'])"
      ],
      "execution_count": 35,
      "outputs": []
    },
    {
      "cell_type": "code",
      "metadata": {
        "colab": {
          "base_uri": "https://localhost:8080/"
        },
        "id": "9nPeCet6kTzQ",
        "outputId": "60ab0ace-dea3-4a53-86c3-7d5f5f244439"
      },
      "source": [
        "model.fit(X, y, batch_size = 50, epochs = 250)"
      ],
      "execution_count": 36,
      "outputs": [
        {
          "output_type": "stream",
          "text": [
            "Epoch 1/250\n",
            "6/6 [==============================] - 33s 7ms/step - loss: 4.8184 - accuracy: 0.0288\n",
            "Epoch 2/250\n",
            "6/6 [==============================] - 0s 6ms/step - loss: 4.8004 - accuracy: 0.0933\n",
            "Epoch 3/250\n",
            "6/6 [==============================] - 0s 6ms/step - loss: 4.7413 - accuracy: 0.0801\n",
            "Epoch 4/250\n",
            "6/6 [==============================] - 0s 6ms/step - loss: 4.5254 - accuracy: 0.0831\n",
            "Epoch 5/250\n",
            "6/6 [==============================] - 0s 6ms/step - loss: 4.4233 - accuracy: 0.0788\n",
            "Epoch 6/250\n",
            "6/6 [==============================] - 0s 7ms/step - loss: 4.3626 - accuracy: 0.0878\n",
            "Epoch 7/250\n",
            "6/6 [==============================] - 0s 6ms/step - loss: 4.2841 - accuracy: 0.0879\n",
            "Epoch 8/250\n",
            "6/6 [==============================] - 0s 6ms/step - loss: 4.2240 - accuracy: 0.0825\n",
            "Epoch 9/250\n",
            "6/6 [==============================] - 0s 6ms/step - loss: 4.3219 - accuracy: 0.0766\n",
            "Epoch 10/250\n",
            "6/6 [==============================] - 0s 6ms/step - loss: 4.2173 - accuracy: 0.0940\n",
            "Epoch 11/250\n",
            "6/6 [==============================] - 0s 6ms/step - loss: 4.2403 - accuracy: 0.0771\n",
            "Epoch 12/250\n",
            "6/6 [==============================] - 0s 6ms/step - loss: 4.2360 - accuracy: 0.0922\n",
            "Epoch 13/250\n",
            "6/6 [==============================] - 0s 6ms/step - loss: 4.1440 - accuracy: 0.0885\n",
            "Epoch 14/250\n",
            "6/6 [==============================] - 0s 6ms/step - loss: 4.1470 - accuracy: 0.0889\n",
            "Epoch 15/250\n",
            "6/6 [==============================] - 0s 6ms/step - loss: 4.0237 - accuracy: 0.0872\n",
            "Epoch 16/250\n",
            "6/6 [==============================] - 0s 6ms/step - loss: 4.0494 - accuracy: 0.1040\n",
            "Epoch 17/250\n",
            "6/6 [==============================] - 0s 6ms/step - loss: 4.0323 - accuracy: 0.0791\n",
            "Epoch 18/250\n",
            "6/6 [==============================] - 0s 6ms/step - loss: 3.9976 - accuracy: 0.0999\n",
            "Epoch 19/250\n",
            "6/6 [==============================] - 0s 7ms/step - loss: 3.8544 - accuracy: 0.1114\n",
            "Epoch 20/250\n",
            "6/6 [==============================] - 0s 6ms/step - loss: 3.9221 - accuracy: 0.0929\n",
            "Epoch 21/250\n",
            "6/6 [==============================] - 0s 6ms/step - loss: 3.8447 - accuracy: 0.0882\n",
            "Epoch 22/250\n",
            "6/6 [==============================] - 0s 6ms/step - loss: 3.7737 - accuracy: 0.0981\n",
            "Epoch 23/250\n",
            "6/6 [==============================] - 0s 6ms/step - loss: 3.7328 - accuracy: 0.0854\n",
            "Epoch 24/250\n",
            "6/6 [==============================] - 0s 6ms/step - loss: 3.6771 - accuracy: 0.0803\n",
            "Epoch 25/250\n",
            "6/6 [==============================] - 0s 6ms/step - loss: 3.6282 - accuracy: 0.1032\n",
            "Epoch 26/250\n",
            "6/6 [==============================] - 0s 6ms/step - loss: 3.5959 - accuracy: 0.1052\n",
            "Epoch 27/250\n",
            "6/6 [==============================] - 0s 6ms/step - loss: 3.4933 - accuracy: 0.0896\n",
            "Epoch 28/250\n",
            "6/6 [==============================] - 0s 6ms/step - loss: 3.5473 - accuracy: 0.0813\n",
            "Epoch 29/250\n",
            "6/6 [==============================] - 0s 6ms/step - loss: 3.4414 - accuracy: 0.1336\n",
            "Epoch 30/250\n",
            "6/6 [==============================] - 0s 6ms/step - loss: 3.4383 - accuracy: 0.1175\n",
            "Epoch 31/250\n",
            "6/6 [==============================] - 0s 6ms/step - loss: 3.4025 - accuracy: 0.1093\n",
            "Epoch 32/250\n",
            "6/6 [==============================] - 0s 6ms/step - loss: 3.3467 - accuracy: 0.1200\n",
            "Epoch 33/250\n",
            "6/6 [==============================] - 0s 6ms/step - loss: 3.3261 - accuracy: 0.1163\n",
            "Epoch 34/250\n",
            "6/6 [==============================] - 0s 6ms/step - loss: 3.1814 - accuracy: 0.1730\n",
            "Epoch 35/250\n",
            "6/6 [==============================] - 0s 6ms/step - loss: 3.2765 - accuracy: 0.1297\n",
            "Epoch 36/250\n",
            "6/6 [==============================] - 0s 6ms/step - loss: 3.1119 - accuracy: 0.1611\n",
            "Epoch 37/250\n",
            "6/6 [==============================] - 0s 6ms/step - loss: 3.0861 - accuracy: 0.1621\n",
            "Epoch 38/250\n",
            "6/6 [==============================] - 0s 7ms/step - loss: 3.0754 - accuracy: 0.1910\n",
            "Epoch 39/250\n",
            "6/6 [==============================] - 0s 7ms/step - loss: 3.0331 - accuracy: 0.1607\n",
            "Epoch 40/250\n",
            "6/6 [==============================] - 0s 6ms/step - loss: 3.0178 - accuracy: 0.1424\n",
            "Epoch 41/250\n",
            "6/6 [==============================] - 0s 6ms/step - loss: 2.9419 - accuracy: 0.1994\n",
            "Epoch 42/250\n",
            "6/6 [==============================] - 0s 7ms/step - loss: 2.8526 - accuracy: 0.2046\n",
            "Epoch 43/250\n",
            "6/6 [==============================] - 0s 6ms/step - loss: 2.7746 - accuracy: 0.2099\n",
            "Epoch 44/250\n",
            "6/6 [==============================] - 0s 6ms/step - loss: 2.7543 - accuracy: 0.1879\n",
            "Epoch 45/250\n",
            "6/6 [==============================] - 0s 7ms/step - loss: 2.7244 - accuracy: 0.2283\n",
            "Epoch 46/250\n",
            "6/6 [==============================] - 0s 6ms/step - loss: 2.6169 - accuracy: 0.2559\n",
            "Epoch 47/250\n",
            "6/6 [==============================] - 0s 7ms/step - loss: 2.5638 - accuracy: 0.2781\n",
            "Epoch 48/250\n",
            "6/6 [==============================] - 0s 6ms/step - loss: 2.5312 - accuracy: 0.2846\n",
            "Epoch 49/250\n",
            "6/6 [==============================] - 0s 7ms/step - loss: 2.4702 - accuracy: 0.3119\n",
            "Epoch 50/250\n",
            "6/6 [==============================] - 0s 6ms/step - loss: 2.4545 - accuracy: 0.3044\n",
            "Epoch 51/250\n",
            "6/6 [==============================] - 0s 6ms/step - loss: 2.4221 - accuracy: 0.2535\n",
            "Epoch 52/250\n",
            "6/6 [==============================] - 0s 6ms/step - loss: 2.3579 - accuracy: 0.3126\n",
            "Epoch 53/250\n",
            "6/6 [==============================] - 0s 7ms/step - loss: 2.2753 - accuracy: 0.3446\n",
            "Epoch 54/250\n",
            "6/6 [==============================] - 0s 6ms/step - loss: 2.2527 - accuracy: 0.3649\n",
            "Epoch 55/250\n",
            "6/6 [==============================] - 0s 6ms/step - loss: 2.2449 - accuracy: 0.3316\n",
            "Epoch 56/250\n",
            "6/6 [==============================] - 0s 7ms/step - loss: 2.2141 - accuracy: 0.3372\n",
            "Epoch 57/250\n",
            "6/6 [==============================] - 0s 7ms/step - loss: 2.1998 - accuracy: 0.3362\n",
            "Epoch 58/250\n",
            "6/6 [==============================] - 0s 7ms/step - loss: 2.1080 - accuracy: 0.3932\n",
            "Epoch 59/250\n",
            "6/6 [==============================] - 0s 7ms/step - loss: 2.1693 - accuracy: 0.3541\n",
            "Epoch 60/250\n",
            "6/6 [==============================] - 0s 8ms/step - loss: 2.0729 - accuracy: 0.3921\n",
            "Epoch 61/250\n",
            "6/6 [==============================] - 0s 6ms/step - loss: 1.9204 - accuracy: 0.4594\n",
            "Epoch 62/250\n",
            "6/6 [==============================] - 0s 8ms/step - loss: 1.9268 - accuracy: 0.4447\n",
            "Epoch 63/250\n",
            "6/6 [==============================] - 0s 7ms/step - loss: 1.8913 - accuracy: 0.4117\n",
            "Epoch 64/250\n",
            "6/6 [==============================] - 0s 6ms/step - loss: 1.8123 - accuracy: 0.4793\n",
            "Epoch 65/250\n",
            "6/6 [==============================] - 0s 6ms/step - loss: 1.7670 - accuracy: 0.4980\n",
            "Epoch 66/250\n",
            "6/6 [==============================] - 0s 6ms/step - loss: 1.7771 - accuracy: 0.5136\n",
            "Epoch 67/250\n",
            "6/6 [==============================] - 0s 6ms/step - loss: 1.7491 - accuracy: 0.4792\n",
            "Epoch 68/250\n",
            "6/6 [==============================] - 0s 6ms/step - loss: 1.8408 - accuracy: 0.4349\n",
            "Epoch 69/250\n",
            "6/6 [==============================] - 0s 6ms/step - loss: 1.8050 - accuracy: 0.4768\n",
            "Epoch 70/250\n",
            "6/6 [==============================] - 0s 6ms/step - loss: 1.6571 - accuracy: 0.5080\n",
            "Epoch 71/250\n",
            "6/6 [==============================] - 0s 6ms/step - loss: 1.6714 - accuracy: 0.5117\n",
            "Epoch 72/250\n",
            "6/6 [==============================] - 0s 6ms/step - loss: 1.6063 - accuracy: 0.5164\n",
            "Epoch 73/250\n",
            "6/6 [==============================] - 0s 6ms/step - loss: 1.5750 - accuracy: 0.5225\n",
            "Epoch 74/250\n",
            "6/6 [==============================] - 0s 6ms/step - loss: 1.5162 - accuracy: 0.6068\n",
            "Epoch 75/250\n",
            "6/6 [==============================] - 0s 6ms/step - loss: 1.4215 - accuracy: 0.6438\n",
            "Epoch 76/250\n",
            "6/6 [==============================] - 0s 7ms/step - loss: 1.4337 - accuracy: 0.6396\n",
            "Epoch 77/250\n",
            "6/6 [==============================] - 0s 7ms/step - loss: 1.4618 - accuracy: 0.6137\n",
            "Epoch 78/250\n",
            "6/6 [==============================] - 0s 6ms/step - loss: 1.3526 - accuracy: 0.6452\n",
            "Epoch 79/250\n",
            "6/6 [==============================] - 0s 6ms/step - loss: 1.4087 - accuracy: 0.5677\n",
            "Epoch 80/250\n",
            "6/6 [==============================] - 0s 7ms/step - loss: 1.3681 - accuracy: 0.6461\n",
            "Epoch 81/250\n",
            "6/6 [==============================] - 0s 6ms/step - loss: 1.3654 - accuracy: 0.5907\n",
            "Epoch 82/250\n",
            "6/6 [==============================] - 0s 6ms/step - loss: 1.2918 - accuracy: 0.6063\n",
            "Epoch 83/250\n",
            "6/6 [==============================] - 0s 6ms/step - loss: 1.2268 - accuracy: 0.6919\n",
            "Epoch 84/250\n",
            "6/6 [==============================] - 0s 7ms/step - loss: 1.2755 - accuracy: 0.6756\n",
            "Epoch 85/250\n",
            "6/6 [==============================] - 0s 8ms/step - loss: 1.2024 - accuracy: 0.7131\n",
            "Epoch 86/250\n",
            "6/6 [==============================] - 0s 7ms/step - loss: 1.1604 - accuracy: 0.6970\n",
            "Epoch 87/250\n",
            "6/6 [==============================] - 0s 6ms/step - loss: 1.1416 - accuracy: 0.7165\n",
            "Epoch 88/250\n",
            "6/6 [==============================] - 0s 7ms/step - loss: 1.1032 - accuracy: 0.7241\n",
            "Epoch 89/250\n",
            "6/6 [==============================] - 0s 6ms/step - loss: 1.1319 - accuracy: 0.6905\n",
            "Epoch 90/250\n",
            "6/6 [==============================] - 0s 8ms/step - loss: 1.1447 - accuracy: 0.6941\n",
            "Epoch 91/250\n",
            "6/6 [==============================] - 0s 7ms/step - loss: 1.0096 - accuracy: 0.7546\n",
            "Epoch 92/250\n",
            "6/6 [==============================] - 0s 6ms/step - loss: 1.0083 - accuracy: 0.7328\n",
            "Epoch 93/250\n",
            "6/6 [==============================] - 0s 6ms/step - loss: 0.9484 - accuracy: 0.7441\n",
            "Epoch 94/250\n",
            "6/6 [==============================] - 0s 7ms/step - loss: 0.9556 - accuracy: 0.7453\n",
            "Epoch 95/250\n",
            "6/6 [==============================] - 0s 7ms/step - loss: 0.9246 - accuracy: 0.7640\n",
            "Epoch 96/250\n",
            "6/6 [==============================] - 0s 6ms/step - loss: 0.9605 - accuracy: 0.7705\n",
            "Epoch 97/250\n",
            "6/6 [==============================] - 0s 7ms/step - loss: 0.9072 - accuracy: 0.7669\n",
            "Epoch 98/250\n",
            "6/6 [==============================] - 0s 6ms/step - loss: 0.8752 - accuracy: 0.7825\n",
            "Epoch 99/250\n",
            "6/6 [==============================] - 0s 6ms/step - loss: 0.9257 - accuracy: 0.7681\n",
            "Epoch 100/250\n",
            "6/6 [==============================] - 0s 6ms/step - loss: 0.8651 - accuracy: 0.7896\n",
            "Epoch 101/250\n",
            "6/6 [==============================] - 0s 7ms/step - loss: 0.8683 - accuracy: 0.7658\n",
            "Epoch 102/250\n",
            "6/6 [==============================] - 0s 7ms/step - loss: 0.8373 - accuracy: 0.7931\n",
            "Epoch 103/250\n",
            "6/6 [==============================] - 0s 6ms/step - loss: 0.7929 - accuracy: 0.8095\n",
            "Epoch 104/250\n",
            "6/6 [==============================] - 0s 6ms/step - loss: 0.8204 - accuracy: 0.7655\n",
            "Epoch 105/250\n",
            "6/6 [==============================] - 0s 7ms/step - loss: 0.7906 - accuracy: 0.8004\n",
            "Epoch 106/250\n",
            "6/6 [==============================] - 0s 7ms/step - loss: 0.7646 - accuracy: 0.8317\n",
            "Epoch 107/250\n",
            "6/6 [==============================] - 0s 7ms/step - loss: 0.7210 - accuracy: 0.8086\n",
            "Epoch 108/250\n",
            "6/6 [==============================] - 0s 8ms/step - loss: 0.7391 - accuracy: 0.8057\n",
            "Epoch 109/250\n",
            "6/6 [==============================] - 0s 7ms/step - loss: 0.6889 - accuracy: 0.8329\n",
            "Epoch 110/250\n",
            "6/6 [==============================] - 0s 7ms/step - loss: 0.6838 - accuracy: 0.8437\n",
            "Epoch 111/250\n",
            "6/6 [==============================] - 0s 6ms/step - loss: 0.7370 - accuracy: 0.8119\n",
            "Epoch 112/250\n",
            "6/6 [==============================] - 0s 7ms/step - loss: 0.7546 - accuracy: 0.8213\n",
            "Epoch 113/250\n",
            "6/6 [==============================] - 0s 6ms/step - loss: 0.7279 - accuracy: 0.7956\n",
            "Epoch 114/250\n",
            "6/6 [==============================] - 0s 7ms/step - loss: 0.7373 - accuracy: 0.8293\n",
            "Epoch 115/250\n",
            "6/6 [==============================] - 0s 7ms/step - loss: 0.6890 - accuracy: 0.8168\n",
            "Epoch 116/250\n",
            "6/6 [==============================] - 0s 6ms/step - loss: 0.6740 - accuracy: 0.8217\n",
            "Epoch 117/250\n",
            "6/6 [==============================] - 0s 7ms/step - loss: 0.5950 - accuracy: 0.8799\n",
            "Epoch 118/250\n",
            "6/6 [==============================] - 0s 6ms/step - loss: 0.6452 - accuracy: 0.8451\n",
            "Epoch 119/250\n",
            "6/6 [==============================] - 0s 7ms/step - loss: 0.6393 - accuracy: 0.8300\n",
            "Epoch 120/250\n",
            "6/6 [==============================] - 0s 6ms/step - loss: 0.5576 - accuracy: 0.8697\n",
            "Epoch 121/250\n",
            "6/6 [==============================] - 0s 6ms/step - loss: 0.5433 - accuracy: 0.8719\n",
            "Epoch 122/250\n",
            "6/6 [==============================] - 0s 7ms/step - loss: 0.5531 - accuracy: 0.8510\n",
            "Epoch 123/250\n",
            "6/6 [==============================] - 0s 7ms/step - loss: 0.5767 - accuracy: 0.8453\n",
            "Epoch 124/250\n",
            "6/6 [==============================] - 0s 7ms/step - loss: 0.5916 - accuracy: 0.8495\n",
            "Epoch 125/250\n",
            "6/6 [==============================] - 0s 6ms/step - loss: 0.5696 - accuracy: 0.8457\n",
            "Epoch 126/250\n",
            "6/6 [==============================] - 0s 6ms/step - loss: 0.5884 - accuracy: 0.8529\n",
            "Epoch 127/250\n",
            "6/6 [==============================] - 0s 6ms/step - loss: 0.5920 - accuracy: 0.8446\n",
            "Epoch 128/250\n",
            "6/6 [==============================] - 0s 7ms/step - loss: 0.5727 - accuracy: 0.8450\n",
            "Epoch 129/250\n",
            "6/6 [==============================] - 0s 8ms/step - loss: 0.5248 - accuracy: 0.9006\n",
            "Epoch 130/250\n",
            "6/6 [==============================] - 0s 7ms/step - loss: 0.5172 - accuracy: 0.8776\n",
            "Epoch 131/250\n",
            "6/6 [==============================] - 0s 6ms/step - loss: 0.4735 - accuracy: 0.9080\n",
            "Epoch 132/250\n",
            "6/6 [==============================] - 0s 7ms/step - loss: 0.5731 - accuracy: 0.8888\n",
            "Epoch 133/250\n",
            "6/6 [==============================] - 0s 7ms/step - loss: 0.5578 - accuracy: 0.8830\n",
            "Epoch 134/250\n",
            "6/6 [==============================] - 0s 7ms/step - loss: 0.5336 - accuracy: 0.8798\n",
            "Epoch 135/250\n",
            "6/6 [==============================] - 0s 7ms/step - loss: 0.5501 - accuracy: 0.8635\n",
            "Epoch 136/250\n",
            "6/6 [==============================] - 0s 6ms/step - loss: 0.4439 - accuracy: 0.9049\n",
            "Epoch 137/250\n",
            "6/6 [==============================] - 0s 6ms/step - loss: 0.4651 - accuracy: 0.9133\n",
            "Epoch 138/250\n",
            "6/6 [==============================] - 0s 6ms/step - loss: 0.4111 - accuracy: 0.9232\n",
            "Epoch 139/250\n",
            "6/6 [==============================] - 0s 8ms/step - loss: 0.4105 - accuracy: 0.9219\n",
            "Epoch 140/250\n",
            "6/6 [==============================] - 0s 7ms/step - loss: 0.4399 - accuracy: 0.8983\n",
            "Epoch 141/250\n",
            "6/6 [==============================] - 0s 7ms/step - loss: 0.4406 - accuracy: 0.8911\n",
            "Epoch 142/250\n",
            "6/6 [==============================] - 0s 6ms/step - loss: 0.4148 - accuracy: 0.9144\n",
            "Epoch 143/250\n",
            "6/6 [==============================] - 0s 7ms/step - loss: 0.4151 - accuracy: 0.9043\n",
            "Epoch 144/250\n",
            "6/6 [==============================] - 0s 6ms/step - loss: 0.4627 - accuracy: 0.9059\n",
            "Epoch 145/250\n",
            "6/6 [==============================] - 0s 6ms/step - loss: 0.4745 - accuracy: 0.8917\n",
            "Epoch 146/250\n",
            "6/6 [==============================] - 0s 6ms/step - loss: 0.4268 - accuracy: 0.8948\n",
            "Epoch 147/250\n",
            "6/6 [==============================] - 0s 7ms/step - loss: 0.3614 - accuracy: 0.9155\n",
            "Epoch 148/250\n",
            "6/6 [==============================] - 0s 6ms/step - loss: 0.3365 - accuracy: 0.9372\n",
            "Epoch 149/250\n",
            "6/6 [==============================] - 0s 6ms/step - loss: 0.3600 - accuracy: 0.9197\n",
            "Epoch 150/250\n",
            "6/6 [==============================] - 0s 7ms/step - loss: 0.3240 - accuracy: 0.9416\n",
            "Epoch 151/250\n",
            "6/6 [==============================] - 0s 9ms/step - loss: 0.3088 - accuracy: 0.9400\n",
            "Epoch 152/250\n",
            "6/6 [==============================] - 0s 7ms/step - loss: 0.2990 - accuracy: 0.9487\n",
            "Epoch 153/250\n",
            "6/6 [==============================] - 0s 7ms/step - loss: 0.2908 - accuracy: 0.9482\n",
            "Epoch 154/250\n",
            "6/6 [==============================] - 0s 7ms/step - loss: 0.2778 - accuracy: 0.9677\n",
            "Epoch 155/250\n",
            "6/6 [==============================] - 0s 7ms/step - loss: 0.2802 - accuracy: 0.9465\n",
            "Epoch 156/250\n",
            "6/6 [==============================] - 0s 6ms/step - loss: 0.2700 - accuracy: 0.9394\n",
            "Epoch 157/250\n",
            "6/6 [==============================] - 0s 7ms/step - loss: 0.2387 - accuracy: 0.9626\n",
            "Epoch 158/250\n",
            "6/6 [==============================] - 0s 6ms/step - loss: 0.2383 - accuracy: 0.9639\n",
            "Epoch 159/250\n",
            "6/6 [==============================] - 0s 7ms/step - loss: 0.2551 - accuracy: 0.9581\n",
            "Epoch 160/250\n",
            "6/6 [==============================] - 0s 6ms/step - loss: 0.2290 - accuracy: 0.9512\n",
            "Epoch 161/250\n",
            "6/6 [==============================] - 0s 6ms/step - loss: 0.2660 - accuracy: 0.9587\n",
            "Epoch 162/250\n",
            "6/6 [==============================] - 0s 7ms/step - loss: 0.2430 - accuracy: 0.9621\n",
            "Epoch 163/250\n",
            "6/6 [==============================] - 0s 6ms/step - loss: 0.2092 - accuracy: 0.9637\n",
            "Epoch 164/250\n",
            "6/6 [==============================] - 0s 6ms/step - loss: 0.2155 - accuracy: 0.9633\n",
            "Epoch 165/250\n",
            "6/6 [==============================] - 0s 7ms/step - loss: 0.2093 - accuracy: 0.9734\n",
            "Epoch 166/250\n",
            "6/6 [==============================] - 0s 6ms/step - loss: 0.1883 - accuracy: 0.9722\n",
            "Epoch 167/250\n",
            "6/6 [==============================] - 0s 7ms/step - loss: 0.2037 - accuracy: 0.9707\n",
            "Epoch 168/250\n",
            "6/6 [==============================] - 0s 6ms/step - loss: 0.1860 - accuracy: 0.9741\n",
            "Epoch 169/250\n",
            "6/6 [==============================] - 0s 8ms/step - loss: 0.2031 - accuracy: 0.9525\n",
            "Epoch 170/250\n",
            "6/6 [==============================] - 0s 6ms/step - loss: 0.1967 - accuracy: 0.9645\n",
            "Epoch 171/250\n",
            "6/6 [==============================] - 0s 6ms/step - loss: 0.2106 - accuracy: 0.9645\n",
            "Epoch 172/250\n",
            "6/6 [==============================] - 0s 6ms/step - loss: 0.1603 - accuracy: 0.9797\n",
            "Epoch 173/250\n",
            "6/6 [==============================] - 0s 8ms/step - loss: 0.1813 - accuracy: 0.9640\n",
            "Epoch 174/250\n",
            "6/6 [==============================] - 0s 6ms/step - loss: 0.1670 - accuracy: 0.9656\n",
            "Epoch 175/250\n",
            "6/6 [==============================] - 0s 6ms/step - loss: 0.1774 - accuracy: 0.9598\n",
            "Epoch 176/250\n",
            "6/6 [==============================] - 0s 6ms/step - loss: 0.1486 - accuracy: 0.9804\n",
            "Epoch 177/250\n",
            "6/6 [==============================] - 0s 6ms/step - loss: 0.1708 - accuracy: 0.9746\n",
            "Epoch 178/250\n",
            "6/6 [==============================] - 0s 7ms/step - loss: 0.1531 - accuracy: 0.9775\n",
            "Epoch 179/250\n",
            "6/6 [==============================] - 0s 6ms/step - loss: 0.1578 - accuracy: 0.9829\n",
            "Epoch 180/250\n",
            "6/6 [==============================] - 0s 7ms/step - loss: 0.1561 - accuracy: 0.9815\n",
            "Epoch 181/250\n",
            "6/6 [==============================] - 0s 7ms/step - loss: 0.1454 - accuracy: 0.9830\n",
            "Epoch 182/250\n",
            "6/6 [==============================] - 0s 7ms/step - loss: 0.1754 - accuracy: 0.9590\n",
            "Epoch 183/250\n",
            "6/6 [==============================] - 0s 6ms/step - loss: 0.2189 - accuracy: 0.9496\n",
            "Epoch 184/250\n",
            "6/6 [==============================] - 0s 7ms/step - loss: 0.3131 - accuracy: 0.9053\n",
            "Epoch 185/250\n",
            "6/6 [==============================] - 0s 6ms/step - loss: 0.2459 - accuracy: 0.9398\n",
            "Epoch 186/250\n",
            "6/6 [==============================] - 0s 6ms/step - loss: 0.2526 - accuracy: 0.9444\n",
            "Epoch 187/250\n",
            "6/6 [==============================] - 0s 6ms/step - loss: 0.2962 - accuracy: 0.9100\n",
            "Epoch 188/250\n",
            "6/6 [==============================] - 0s 6ms/step - loss: 0.2956 - accuracy: 0.9134\n",
            "Epoch 189/250\n",
            "6/6 [==============================] - 0s 7ms/step - loss: 0.3259 - accuracy: 0.9049\n",
            "Epoch 190/250\n",
            "6/6 [==============================] - 0s 7ms/step - loss: 0.3516 - accuracy: 0.8901\n",
            "Epoch 191/250\n",
            "6/6 [==============================] - 0s 6ms/step - loss: 0.4976 - accuracy: 0.8838\n",
            "Epoch 192/250\n",
            "6/6 [==============================] - 0s 6ms/step - loss: 0.3765 - accuracy: 0.9069\n",
            "Epoch 193/250\n",
            "6/6 [==============================] - 0s 6ms/step - loss: 0.3676 - accuracy: 0.9128\n",
            "Epoch 194/250\n",
            "6/6 [==============================] - 0s 6ms/step - loss: 0.4275 - accuracy: 0.8958\n",
            "Epoch 195/250\n",
            "6/6 [==============================] - 0s 8ms/step - loss: 0.4615 - accuracy: 0.8717\n",
            "Epoch 196/250\n",
            "6/6 [==============================] - 0s 6ms/step - loss: 0.5000 - accuracy: 0.8689\n",
            "Epoch 197/250\n",
            "6/6 [==============================] - 0s 6ms/step - loss: 0.4276 - accuracy: 0.8665\n",
            "Epoch 198/250\n",
            "6/6 [==============================] - 0s 7ms/step - loss: 0.3946 - accuracy: 0.8984\n",
            "Epoch 199/250\n",
            "6/6 [==============================] - 0s 6ms/step - loss: 0.3351 - accuracy: 0.9126\n",
            "Epoch 200/250\n",
            "6/6 [==============================] - 0s 6ms/step - loss: 0.3503 - accuracy: 0.9082\n",
            "Epoch 201/250\n",
            "6/6 [==============================] - 0s 9ms/step - loss: 0.2941 - accuracy: 0.9273\n",
            "Epoch 202/250\n",
            "6/6 [==============================] - 0s 7ms/step - loss: 0.2939 - accuracy: 0.9297\n",
            "Epoch 203/250\n",
            "6/6 [==============================] - 0s 6ms/step - loss: 0.3000 - accuracy: 0.9378\n",
            "Epoch 204/250\n",
            "6/6 [==============================] - 0s 6ms/step - loss: 0.3470 - accuracy: 0.9078\n",
            "Epoch 205/250\n",
            "6/6 [==============================] - 0s 6ms/step - loss: 0.3227 - accuracy: 0.9182\n",
            "Epoch 206/250\n",
            "6/6 [==============================] - 0s 7ms/step - loss: 0.3144 - accuracy: 0.8812\n",
            "Epoch 207/250\n",
            "6/6 [==============================] - 0s 6ms/step - loss: 0.3010 - accuracy: 0.9093\n",
            "Epoch 208/250\n",
            "6/6 [==============================] - 0s 7ms/step - loss: 0.2247 - accuracy: 0.9491\n",
            "Epoch 209/250\n",
            "6/6 [==============================] - 0s 6ms/step - loss: 0.1779 - accuracy: 0.9787\n",
            "Epoch 210/250\n",
            "6/6 [==============================] - 0s 7ms/step - loss: 0.1676 - accuracy: 0.9721\n",
            "Epoch 211/250\n",
            "6/6 [==============================] - 0s 7ms/step - loss: 0.1744 - accuracy: 0.9717\n",
            "Epoch 212/250\n",
            "6/6 [==============================] - 0s 7ms/step - loss: 0.1432 - accuracy: 0.9818\n",
            "Epoch 213/250\n",
            "6/6 [==============================] - 0s 6ms/step - loss: 0.1344 - accuracy: 0.9823\n",
            "Epoch 214/250\n",
            "6/6 [==============================] - 0s 6ms/step - loss: 0.1242 - accuracy: 0.9798\n",
            "Epoch 215/250\n",
            "6/6 [==============================] - 0s 6ms/step - loss: 0.1189 - accuracy: 0.9897\n",
            "Epoch 216/250\n",
            "6/6 [==============================] - 0s 7ms/step - loss: 0.1186 - accuracy: 0.9813\n",
            "Epoch 217/250\n",
            "6/6 [==============================] - 0s 8ms/step - loss: 0.0997 - accuracy: 0.9826\n",
            "Epoch 218/250\n",
            "6/6 [==============================] - 0s 6ms/step - loss: 0.1435 - accuracy: 0.9741\n",
            "Epoch 219/250\n",
            "6/6 [==============================] - 0s 6ms/step - loss: 0.1021 - accuracy: 0.9921\n",
            "Epoch 220/250\n",
            "6/6 [==============================] - 0s 6ms/step - loss: 0.0909 - accuracy: 0.9850\n",
            "Epoch 221/250\n",
            "6/6 [==============================] - 0s 6ms/step - loss: 0.0837 - accuracy: 0.9952\n",
            "Epoch 222/250\n",
            "6/6 [==============================] - 0s 6ms/step - loss: 0.0819 - accuracy: 0.9902\n",
            "Epoch 223/250\n",
            "6/6 [==============================] - 0s 6ms/step - loss: 0.0787 - accuracy: 0.9935\n",
            "Epoch 224/250\n",
            "6/6 [==============================] - 0s 7ms/step - loss: 0.0782 - accuracy: 0.9902\n",
            "Epoch 225/250\n",
            "6/6 [==============================] - 0s 8ms/step - loss: 0.0772 - accuracy: 0.9930\n",
            "Epoch 226/250\n",
            "6/6 [==============================] - 0s 7ms/step - loss: 0.0787 - accuracy: 0.9902\n",
            "Epoch 227/250\n",
            "6/6 [==============================] - 0s 7ms/step - loss: 0.0664 - accuracy: 0.9902\n",
            "Epoch 228/250\n",
            "6/6 [==============================] - 0s 7ms/step - loss: 0.0737 - accuracy: 0.9906\n",
            "Epoch 229/250\n",
            "6/6 [==============================] - 0s 7ms/step - loss: 0.0673 - accuracy: 0.9914\n",
            "Epoch 230/250\n",
            "6/6 [==============================] - 0s 6ms/step - loss: 0.0759 - accuracy: 0.9892\n",
            "Epoch 231/250\n",
            "6/6 [==============================] - 0s 6ms/step - loss: 0.0733 - accuracy: 0.9886\n",
            "Epoch 232/250\n",
            "6/6 [==============================] - 0s 7ms/step - loss: 0.0716 - accuracy: 0.9878\n",
            "Epoch 233/250\n",
            "6/6 [==============================] - 0s 8ms/step - loss: 0.0630 - accuracy: 0.9921\n",
            "Epoch 234/250\n",
            "6/6 [==============================] - 0s 7ms/step - loss: 0.0636 - accuracy: 0.9930\n",
            "Epoch 235/250\n",
            "6/6 [==============================] - 0s 7ms/step - loss: 0.0607 - accuracy: 0.9967\n",
            "Epoch 236/250\n",
            "6/6 [==============================] - 0s 7ms/step - loss: 0.0614 - accuracy: 0.9890\n",
            "Epoch 237/250\n",
            "6/6 [==============================] - 0s 7ms/step - loss: 0.0574 - accuracy: 0.9883\n",
            "Epoch 238/250\n",
            "6/6 [==============================] - 0s 7ms/step - loss: 0.0604 - accuracy: 0.9937\n",
            "Epoch 239/250\n",
            "6/6 [==============================] - 0s 7ms/step - loss: 0.0577 - accuracy: 0.9974\n",
            "Epoch 240/250\n",
            "6/6 [==============================] - 0s 7ms/step - loss: 0.0584 - accuracy: 0.9890\n",
            "Epoch 241/250\n",
            "6/6 [==============================] - 0s 7ms/step - loss: 0.0536 - accuracy: 0.9974\n",
            "Epoch 242/250\n",
            "6/6 [==============================] - 0s 7ms/step - loss: 0.0536 - accuracy: 0.9937\n",
            "Epoch 243/250\n",
            "6/6 [==============================] - 0s 6ms/step - loss: 0.0575 - accuracy: 0.9921\n",
            "Epoch 244/250\n",
            "6/6 [==============================] - 0s 7ms/step - loss: 0.0538 - accuracy: 0.9909\n",
            "Epoch 245/250\n",
            "6/6 [==============================] - 0s 7ms/step - loss: 0.0536 - accuracy: 0.9930\n",
            "Epoch 246/250\n",
            "6/6 [==============================] - 0s 7ms/step - loss: 0.0483 - accuracy: 0.9968\n",
            "Epoch 247/250\n",
            "6/6 [==============================] - 0s 7ms/step - loss: 0.0513 - accuracy: 0.9914\n",
            "Epoch 248/250\n",
            "6/6 [==============================] - 0s 7ms/step - loss: 0.0485 - accuracy: 0.9886\n",
            "Epoch 249/250\n",
            "6/6 [==============================] - 0s 7ms/step - loss: 0.0461 - accuracy: 0.9952\n",
            "Epoch 250/250\n",
            "6/6 [==============================] - 0s 7ms/step - loss: 0.0457 - accuracy: 0.9968\n"
          ],
          "name": "stdout"
        },
        {
          "output_type": "execute_result",
          "data": {
            "text/plain": [
              "<tensorflow.python.keras.callbacks.History at 0x7fbee0295b90>"
            ]
          },
          "metadata": {
            "tags": []
          },
          "execution_count": 36
        }
      ]
    },
    {
      "cell_type": "code",
      "metadata": {
        "id": "i0RinKKVkT2Q"
      },
      "source": [
        ""
      ],
      "execution_count": null,
      "outputs": []
    },
    {
      "cell_type": "code",
      "metadata": {
        "colab": {
          "base_uri": "https://localhost:8080/",
          "height": 35
        },
        "id": "wcDffJ3MlswC",
        "outputId": "83dae6b0-54b9-4f1c-ed30-cc345ed612f0"
      },
      "source": [
        "seed_text=lines[150]\n",
        "seed_text"
      ],
      "execution_count": 37,
      "outputs": [
        {
          "output_type": "execute_result",
          "data": {
            "application/vnd.google.colaboratory.intrinsic+json": {
              "type": "string"
            },
            "text/plain": [
              "'have lunch and at four i go to my course im'"
            ]
          },
          "metadata": {
            "tags": []
          },
          "execution_count": 37
        }
      ]
    },
    {
      "cell_type": "code",
      "metadata": {
        "id": "ZbZ_Cg_1lszx"
      },
      "source": [
        ""
      ],
      "execution_count": null,
      "outputs": []
    },
    {
      "cell_type": "code",
      "metadata": {
        "id": "PxQNVl-NKElr"
      },
      "source": [
        "\n",
        "import sys, os, re, csv, codecs, numpy as np\n",
        "import matplotlib.pyplot as plt\n",
        "%matplotlib inline\n",
        "from tensorflow.keras.preprocessing.text import Tokenizer\n",
        "from tensorflow.keras.preprocessing.sequence import pad_sequences\n",
        "from tensorflow.keras.layers import Dense, Input, LSTM, Embedding, Dropout, Activation\n",
        "from tensorflow.keras.layers import Bidirectional, GlobalMaxPool1D\n",
        "from tensorflow.keras.models import Model\n",
        "from tensorflow.keras import initializers, regularizers, constraints, optimizers, layers\n",
        "from sklearn.model_selection import train_test_split"
      ],
      "execution_count": 38,
      "outputs": []
    },
    {
      "cell_type": "code",
      "metadata": {
        "colab": {
          "base_uri": "https://localhost:8080/"
        },
        "id": "B2JECigBSll3",
        "outputId": "e9a45a38-48bc-4537-c1b9-d51a318604ab"
      },
      "source": [
        "\n",
        "batch_size = 64\n",
        "epochs = 2\n",
        "model.fit(X,y, batch_size=batch_size, epochs=epochs, validation_split=0.1)"
      ],
      "execution_count": 39,
      "outputs": [
        {
          "output_type": "stream",
          "text": [
            "Epoch 1/2\n",
            "4/4 [==============================] - 1s 304ms/step - loss: 0.0489 - accuracy: 0.9921 - val_loss: 0.0444 - val_accuracy: 1.0000\n",
            "Epoch 2/2\n",
            "4/4 [==============================] - 0s 20ms/step - loss: 0.0482 - accuracy: 0.9921 - val_loss: 0.0462 - val_accuracy: 1.0000\n"
          ],
          "name": "stdout"
        },
        {
          "output_type": "execute_result",
          "data": {
            "text/plain": [
              "<tensorflow.python.keras.callbacks.History at 0x7fbe22087550>"
            ]
          },
          "metadata": {
            "tags": []
          },
          "execution_count": 39
        }
      ]
    },
    {
      "cell_type": "code",
      "metadata": {
        "colab": {
          "base_uri": "https://localhost:8080/",
          "height": 561
        },
        "id": "Lcp3-fbzKHJD",
        "outputId": "d06b816c-094b-4bca-f601-7a2a74e84cbf"
      },
      "source": [
        "\n",
        "history = model.history\n",
        "acc = history.history['accuracy']\n",
        "val_acc = history.history['val_accuracy']\n",
        "loss = history.history['loss']\n",
        "val_loss = history.history['val_loss']\n",
        "# Get number of epochs\\n\",\n",
        "epochs = range(len(acc))\n",
        "\n",
        "# Plot training and validation accuracy per epoch\\n\",\n",
        "plt.plot(epochs, acc)\n",
        "plt.plot(epochs, val_acc)\n",
        "plt.title('Training and validation accuracy')\n",
        "plt.figure()\n",
        "\n",
        "# Plot training and validation loss per epoch\\n\",\n",
        "plt.plot(epochs, loss)\n",
        "plt.plot(epochs, val_loss)\n",
        "plt.title('Training and validation loss')"
      ],
      "execution_count": 40,
      "outputs": [
        {
          "output_type": "execute_result",
          "data": {
            "text/plain": [
              "Text(0.5, 1.0, 'Training and validation loss')"
            ]
          },
          "metadata": {
            "tags": []
          },
          "execution_count": 40
        },
        {
          "output_type": "display_data",
          "data": {
            "image/png": "[encoded data removed]",
            "text/plain": [
              "<Figure size 432x288 with 1 Axes>"
            ]
          },
          "metadata": {
            "tags": [],
            "needs_background": "light"
          }
        },
        {
          "output_type": "display_data",
          "data": {
            "image/png": "[encoded data removed]",
            "text/plain": [
              "<Figure size 432x288 with 1 Axes>"
            ]
          },
          "metadata": {
            "tags": [],
            "needs_background": "light"
          }
        }
      ]
    },
    {
      "cell_type": "code",
      "metadata": {
        "colab": {
          "base_uri": "https://localhost:8080/"
        },
        "id": "UD2wqV2sNCBm",
        "outputId": "aaea6819-2b6e-4e98-edee-964d7697c3c9"
      },
      "source": [
        "model.evaluate(X, y, verbose=1)"
      ],
      "execution_count": 42,
      "outputs": [
        {
          "output_type": "stream",
          "text": [
            "9/9 [==============================] - 0s 4ms/step - loss: 0.0470 - accuracy: 0.9929\n"
          ],
          "name": "stdout"
        },
        {
          "output_type": "execute_result",
          "data": {
            "text/plain": [
              "[0.04695957154035568, 0.9928825497627258]"
            ]
          },
          "metadata": {
            "tags": []
          },
          "execution_count": 42
        }
      ]
    },
    {
      "cell_type": "code",
      "metadata": {
        "colab": {
          "base_uri": "https://localhost:8080/",
          "height": 35
        },
        "id": "Q3gEz80lXltJ",
        "outputId": "25fbe383-423f-4163-ba8c-251a2347f32b"
      },
      "source": [
        "seed_text=lines[0]\n",
        "seed_text"
      ],
      "execution_count": 43,
      "outputs": [
        {
          "output_type": "execute_result",
          "data": {
            "application/vnd.google.colaboratory.intrinsic+json": {
              "type": "string"
            },
            "text/plain": [
              "'on weekdays except friday this is from monday to thursday i'"
            ]
          },
          "metadata": {
            "tags": []
          },
          "execution_count": 43
        }
      ]
    },
    {
      "cell_type": "code",
      "metadata": {
        "id": "qgqu8cYpO--z"
      },
      "source": [
        "\n",
        "def generate_text_seq(model, tokenizer, text_seq_length, seed_text, n_words):\n",
        "  text = []\n",
        "\n",
        "  for _ in range(n_words):\n",
        "    encoded = tokenizer.texts_to_sequences([seed_text])[0]\n",
        "    encoded = pad_sequences([encoded], maxlen = text_seq_length, truncating='pre')\n",
        "\n",
        "    y_predict = model.predict_classes(encoded)\n",
        "\n",
        "    predicted_word = ''\n",
        "    for word, index in tokenizer.word_index.items():\n",
        "      if index == y_predict:\n",
        "        predicted_word = word\n",
        "        break\n",
        "    seed_text = seed_text + ' ' + predicted_word\n",
        "    text.append(predicted_word)\n",
        "  return ' '.join(text)\n",
        "\n"
      ],
      "execution_count": 44,
      "outputs": []
    },
    {
      "cell_type": "code",
      "metadata": {
        "colab": {
          "base_uri": "https://localhost:8080/",
          "height": 87
        },
        "id": "3uXN43vqNUHs",
        "outputId": "0668b0ee-cc84-4687-dc65-ac24e5f43fd0"
      },
      "source": [
        "\n",
        "generate_text_seq(model, tokenizer, seq_length, seed_text, 15+5 )\n",
        "\n",
        " \n",
        " "
      ],
      "execution_count": 48,
      "outputs": [
        {
          "output_type": "stream",
          "text": [
            "/usr/local/lib/python3.7/dist-packages/tensorflow/python/keras/engine/sequential.py:450: UserWarning: `model.predict_classes()` is deprecated and will be removed after 2021-01-01. Please use instead:* `np.argmax(model.predict(x), axis=-1)`,   if your model does multi-class classification   (e.g. if it uses a `softmax` last-layer activation).* `(model.predict(x) > 0.5).astype(\"int32\")`,   if your model does binary classification   (e.g. if it uses a `sigmoid` last-layer activation).\n",
            "  warnings.warn('`model.predict_classes()` is deprecated and '\n"
          ],
          "name": "stderr"
        },
        {
          "output_type": "execute_result",
          "data": {
            "application/vnd.google.colaboratory.intrinsic+json": {
              "type": "string"
            },
            "text/plain": [
              "'get up early at half past seven i have a white coffee and biscuits for breakfast and i go to'"
            ]
          },
          "metadata": {
            "tags": []
          },
          "execution_count": 48
        }
      ]
    },
    {
      "cell_type": "code",
      "metadata": {
        "colab": {
          "base_uri": "https://localhost:8080/",
          "height": 635
        },
        "id": "3jd-CagnQkMA",
        "outputId": "8220134f-28bc-4321-a1b6-5ff2e20656e5"
      },
      "source": [
        "\n",
        "import gradio as gr\n",
        "\n",
        "def prediction_text(seed_text,n_words):    \n",
        " text_seq_length = 3\n",
        " # seed_text =             \"this is the\" ...\n",
        " output = generate_text_seq(model, tokenizer, text_seq_length, seed_text, int(n_words)) \n",
        " return output\n",
        "\n",
        "\n",
        "iface = gr.Interface(fn=prediction_text, inputs= [\"text\", \"text\"], outputs=\"text\")\n",
        "iface.launch()\n",
        "\n",
        "\n"
      ],
      "execution_count": 49,
      "outputs": [
        {
          "output_type": "stream",
          "text": [
            "Colab notebook detected. To show errors in colab notebook, set `debug=True` in `launch()`\n",
            "This share link will expire in 24 hours. If you need a permanent link, visit: https://gradio.app/introducing-hosted (NEW!)\n",
            "Running on External URL: https://41229.gradio.app\n",
            "Interface loading below...\n"
          ],
          "name": "stdout"
        },
        {
          "output_type": "display_data",
          "data": {
            "text/html": [
              "\n",
              "        <iframe\n",
              "            width=\"1000\"\n",
              "            height=\"500\"\n",
              "            src=\"https://41229.gradio.app\"\n",
              "            frameborder=\"0\"\n",
              "            allowfullscreen\n",
              "        ></iframe>\n",
              "        "
            ],
            "text/plain": [
              "<IPython.lib.display.IFrame at 0x7fbdefaf0fd0>"
            ]
          },
          "metadata": {
            "tags": []
          }
        },
        {
          "output_type": "execute_result",
          "data": {
            "text/plain": [
              "(<Flask 'gradio.networking'>,\n",
              " 'http://127.0.0.1:7861/',\n",
              " 'https://41229.gradio.app')"
            ]
          },
          "metadata": {
            "tags": []
          },
          "execution_count": 49
        }
      ]
    }
  ]
}