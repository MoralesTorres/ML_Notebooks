{
  "cells": [
    {
      "cell_type": "markdown",
      "source": [
        "**Analisis de Grandes Volumenes de Datos Actividad 3**\n",
        "\n",
        "\n",
        "*   Carlos Daniel Morales Torres - A01796068\n",
        "\n",
        "\n",
        "\n",
        "Introducción:\n",
        "En la actualidad, el análisis de grandes volúmenes de datos se ha convertido en una necesidad imperante en múltiples sectores, incluyendo el deporte, la salud, las finanzas y muchos más. La habilidad para extraer información valiosa de grandes conjuntos de datos no solo permite la toma de decisiones informada, sino que también ofrece la oportunidad de identificar patrones y tendencias que pueden ser cruciales para el éxito de cualquier organización.\n",
        "\n",
        "Para abordar estos desafíos, utilizamos Apache Spark, una poderosa herramienta que facilita el procesamiento y análisis de datos distribuidos. Spark se destaca por su capacidad para manejar grandes volúmenes de información de forma eficiente, gracias a su arquitectura en memoria y su capacidad de escalar horizontalmente. Al emplear PySpark, la interfaz de Python para Spark, podemos aprovechar la simplicidad y flexibilidad del lenguaje Python para realizar análisis de datos en gran escala.\n",
        "\n",
        "En esta actividad, nos enfocaremos en dos tipos de aprendizaje: aprendizaje supervisado y aprendizaje no supervisado. Para ello, implementaremos distintos algoritmos que nos permitirán realizar tareas de clasificación y agrupamiento:\n",
        "\n",
        "Aprendizaje Supervisado: Utilizaremos algoritmos como Árboles de Decisión y Bosques Aleatorios (Random Forest). Estos modelos nos permitirán predecir una variable objetivo basándonos en datos de entrada conocidos, donde se cuenta con un etiquetado previo.\n",
        "\n",
        "Aprendizaje No Supervisado: Aplicaremos técnicas como K-Means y Modelos de Mezcla Gaussiana (Gaussian Mixture Models). Estos algoritmos son fundamentales para descubrir estructuras ocultas en los datos, agrupando datos similares sin necesidad de etiquetas previas.\n",
        "\n",
        "Planificación\n",
        "El enfoque para lograr construir estos modelos incluye varias etapas fundamentales:\n",
        "\n",
        "Exploración de Datos: Inicialmente, realizaremos un análisis exploratorio para entender la estructura y las características del conjunto de datos. Esto incluye la identificación de valores nulos, la detección de outliers y la evaluación de estadísticas descriptivas.\n",
        "\n",
        "Preprocesamiento de Datos: A continuación, aplicaremos estrategias de limpieza y transformación de datos. Esto puede incluir la imputación de valores nulos, la normalización de variables y la conversión de tipos de datos, asegurando que el dataset esté preparado para el modelado.\n",
        "\n",
        "Particionamiento de Datos: Creamos particiones específicas basadas en criterios predefinidos, lo que nos permitirá seleccionar muestras representativas y reducir el tamaño del conjunto de datos para facilitar su análisis.\n",
        "\n",
        "Entrenamiento de Modelos: Finalmente, aplicaremos los algoritmos de aprendizaje supervisado y no supervisado, evaluando su rendimiento mediante métricas adecuadas y seleccionando el modelo que mejor se adapte a nuestros objetivos.\n",
        "\n",
        "Con este enfoque estructurado, esperamos obtener una comprensión más profunda de los datos y desarrollar modelos efectivos que contribuyan a la toma de decisiones basada en datos. A medida que avancemos, nos enfocaremos en maximizar la eficiencia del análisis y el impacto de los resultados obtenidos."
      ],
      "metadata": {
        "id": "Uoal5r536dWI"
      },
      "id": "Uoal5r536dWI"
    },
    {
      "cell_type": "markdown",
      "source": [],
      "metadata": {
        "id": "eRROoECxxAX2"
      },
      "id": "eRROoECxxAX2"
    },
    {
      "cell_type": "markdown",
      "source": [
        " **PASO 1: CARGAR INICIAL DE LOS DATOS**"
      ],
      "metadata": {
        "id": "oULGOWOgyFM5"
      },
      "id": "oULGOWOgyFM5"
    },
    {
      "cell_type": "markdown",
      "source": [
        "Instalacion de librerias necesarias"
      ],
      "metadata": {
        "id": "o5BXu_hzxAaN"
      },
      "id": "o5BXu_hzxAaN"
    },
    {
      "cell_type": "code",
      "source": [
        "!apt-get install openjdk-8-jdk-headless -qq > /dev/null\n",
        "!wget -q http://archive.apache.org/dist/spark/spark-3.1.1/spark-3.1.1-bin-hadoop3.2.tgz\n",
        "!tar xf spark-3.1.1-bin-hadoop3.2.tgz\n",
        "!pip install -q findspark"
      ],
      "metadata": {
        "id": "lqMNe6jymTL7"
      },
      "id": "lqMNe6jymTL7",
      "execution_count": 1,
      "outputs": []
    },
    {
      "cell_type": "code",
      "source": [
        "import os\n",
        "os.environ[\"JAVA_HOME\"] = \"/usr/lib/jvm/java-8-openjdk-amd64\"\n",
        "os.environ[\"SPARK_HOME\"] = \"/content/spark-3.1.1-bin-hadoop3.2\""
      ],
      "metadata": {
        "id": "8QpFnyQBmTJV"
      },
      "id": "8QpFnyQBmTJV",
      "execution_count": 2,
      "outputs": []
    },
    {
      "cell_type": "code",
      "source": [
        "!ls"
      ],
      "metadata": {
        "colab": {
          "base_uri": "https://localhost:8080/"
        },
        "id": "wzc-5u1Mmhl0",
        "outputId": "798de739-99ff-42a9-c66a-d0d40e88a302"
      },
      "id": "wzc-5u1Mmhl0",
      "execution_count": 3,
      "outputs": [
        {
          "output_type": "stream",
          "name": "stdout",
          "text": [
            "sample_data  spark-3.1.1-bin-hadoop3.2\tspark-3.1.1-bin-hadoop3.2.tgz\n"
          ]
        }
      ]
    },
    {
      "cell_type": "markdown",
      "source": [
        "En este punto del procesamiento, es necesario apoyarnos de GoogleDrive para poder cargar el archivo que no es posible cargar de manera normal a travez de un dispositivo movil o de procesamiento normal."
      ],
      "metadata": {
        "id": "HdMEwqg8xgIe"
      },
      "id": "HdMEwqg8xgIe"
    },
    {
      "cell_type": "code",
      "source": [
        "import findspark\n",
        "findspark.init()\n",
        "from pyspark import SparkContext, SparkConf, SQLContext\n",
        "from pyspark.sql import SparkSession\n",
        "spark = SparkSession.builder.master(\"local[*]\").getOrCreate()\n",
        "spark.conf.set(\"spark.sql.repl.eagerEval.enabled\", True) # Property used to format output tables better\n",
        "spark"
      ],
      "metadata": {
        "colab": {
          "base_uri": "https://localhost:8080/",
          "height": 222
        },
        "id": "p5bvd78Omho7",
        "outputId": "a02405b4-fa60-40d1-fa0d-3bce8ab49eff"
      },
      "id": "p5bvd78Omho7",
      "execution_count": 4,
      "outputs": [
        {
          "output_type": "execute_result",
          "data": {
            "text/plain": [
              "<pyspark.sql.session.SparkSession at 0x7bd72451d650>"
            ],
            "text/html": [
              "\n",
              "            <div>\n",
              "                <p><b>SparkSession - in-memory</b></p>\n",
              "                \n",
              "        <div>\n",
              "            <p><b>SparkContext</b></p>\n",
              "\n",
              "            <p><a href=\"http://4c38cbe6ae67:4040\">Spark UI</a></p>\n",
              "\n",
              "            <dl>\n",
              "              <dt>Version</dt>\n",
              "                <dd><code>v3.1.1</code></dd>\n",
              "              <dt>Master</dt>\n",
              "                <dd><code>local[*]</code></dd>\n",
              "              <dt>AppName</dt>\n",
              "                <dd><code>pyspark-shell</code></dd>\n",
              "            </dl>\n",
              "        </div>\n",
              "        \n",
              "            </div>\n",
              "        "
            ]
          },
          "metadata": {},
          "execution_count": 4
        }
      ]
    },
    {
      "cell_type": "code",
      "source": [
        "from google.colab import drive\n",
        "drive.mount('/content/drive')"
      ],
      "metadata": {
        "colab": {
          "base_uri": "https://localhost:8080/"
        },
        "id": "f8QT56x9o6LH",
        "outputId": "b6676604-85d9-4e33-ce3c-c008c4a009ff"
      },
      "id": "f8QT56x9o6LH",
      "execution_count": 6,
      "outputs": [
        {
          "output_type": "stream",
          "name": "stdout",
          "text": [
            "Mounted at /content/drive\n"
          ]
        }
      ]
    },
    {
      "cell_type": "markdown",
      "source": [
        "Justificacion de la elección del dataset:\n",
        "\n",
        "El fútbol es uno de los deportes más populares y seguidos a nivel mundial, generando un inmenso volumen de datos en diversas áreas, incluyendo el rendimiento de los jugadores, estadísticas de partidos, transacciones de transferencias y valoraciones en el mercado. En este contexto, el dataset de jugadores de fútbol utilizado en esta actividad se ha seleccionado por varias razones:\n",
        "\n",
        "Relevancia del Dataset de Fútbol\n",
        "Ricidad de Datos: Este dataset contiene información valiosa sobre numerosos jugadores, lo que incluye no solo datos básicos como nombres y edades, sino también métricas de rendimiento, valores de mercado y posiciones en el campo. Esta riqueza de información permite realizar análisis detallados y tomar decisiones informadas.\n",
        "\n",
        "Tendencias de Mercado: La industria del fútbol ha visto un crecimiento significativo en los últimos años, tanto en ingresos como en el valor de los jugadores. Con el aumento de la competencia y la inversión en talento, es crucial para clubes y agentes de jugadores evaluar correctamente el valor de los jugadores. Analizar métricas de rendimiento en relación con el valor de mercado permite prever tendencias en el mercado de transferencias y ayudar a los clubes a tomar decisiones estratégicas sobre fichajes.\n",
        "\n",
        "Análisis de Talento: El uso de técnicas de aprendizaje automático en este tipo de datos permite no solo identificar talentos emergentes, sino también evaluar la efectividad de los jugadores en diferentes contextos de juego. Por ejemplo, pueden analizarse las probabilidades de éxito de un jugador en función de su rendimiento pasado, edad y valor actual, lo que es esencial para la planificación de plantillas.\n",
        "\n",
        "Intersección con la Ciencia de Datos: La creciente intersección entre el deporte y la ciencia de datos ha llevado a que instituciones deportivas busquen maximizar el rendimiento de sus equipos utilizando análisis predictivos. Los modelos de aprendizaje supervisado y no supervisado permiten identificar patrones que podrían no ser evidentes a simple vista, como las correlaciones entre atributos físicos, técnicos y el rendimiento en el campo.\n",
        "\n",
        "Tendencias del Mercado\n",
        "A medida que la industria del fútbol continúa evolucionando, las siguientes tendencias emergen sobre cómo los datos pueden moldear el mercado:\n",
        "\n",
        "Valoración Precisa de Jugadores: Las organizaciones deportivas están cada vez más utilizando modelos basados en datos para valorar a los jugadores, considerando aspectos más allá de las estadísticas tradicionales. Esto podría resultar en un mercado de transferencias más dinámico y justo.\n",
        "\n",
        "Desarrollo de Talento: Con el auge de academias y sistemas de scouting más avanzados, se prevé que el uso de análisis de datos se convierta en una norma para identificar y desarrollar futuros talentos.\n",
        "\n",
        "Apuestas y Fantasy Leagues: La popularidad creciente de las apuestas deportivas y las ligas de fantasía también ha impulsado la demanda de análisis de datos, ya que los participantes buscan información precisa para mejorar sus decisiones.\n",
        "\n",
        "Personalización del Aficionado: El análisis de datos también se aplica a la experiencia del aficionado, permitiendo que los clubes personalicen su contenido y servicios, lo que a su vez puede generar mayores ingresos.\n",
        "\n",
        "En resumen, el dataset de fútbol no solo es relevante por la riqueza de sus datos, sino también por el potencial de aplicación en un mercado en constante cambio y evolución. A través del uso de tecnologías avanzadas y análisis de datos, los clubes de fútbol pueden tomar decisiones más informadas y estratégicas que beneficien tanto a su rendimiento deportivo como a su situación financiera.\n",
        "\n"
      ],
      "metadata": {
        "id": "XgWXHe49xE7Z"
      },
      "id": "XgWXHe49xE7Z"
    },
    {
      "cell_type": "code",
      "source": [
        "# Make sure to run this cell to mount Google Drive first\n",
        "from google.colab import drive\n",
        "drive.mount('/content/drive')\n",
        "\n",
        "from pyspark.sql import SparkSession\n",
        "\n",
        "# Create Spark session\n",
        "spark = SparkSession.builder \\\n",
        "    .appName(\"FIFA_Particionamiento\") \\\n",
        "    .getOrCreate()\n",
        "\n",
        "# Path to the CSV file in Google Drive\n",
        "ruta_csv = '/content/drive/MyDrive/Machine Learning/male_players_23.csv'  # Adjust this path\n",
        "\n",
        "# Load the DataFrame\n",
        "df = spark.read.csv(ruta_csv, header=True, inferSchema=True)\n",
        "\n",
        "# Verify loading\n",
        "df.select(\"short_name\", \"age\", \"value_eur\").show(5)\n",
        "\n",
        "\n"
      ],
      "metadata": {
        "colab": {
          "base_uri": "https://localhost:8080/"
        },
        "id": "6cR576BzmhvP",
        "outputId": "1f6c2af0-4253-44a3-ebb2-d7a7066f439d"
      },
      "id": "6cR576BzmhvP",
      "execution_count": 8,
      "outputs": [
        {
          "output_type": "stream",
          "name": "stdout",
          "text": [
            "Drive already mounted at /content/drive; to attempt to forcibly remount, call drive.mount(\"/content/drive\", force_remount=True).\n",
            "+--------------+---+---------+\n",
            "|    short_name|age|value_eur|\n",
            "+--------------+---+---------+\n",
            "|      L. Messi| 35| 54000000|\n",
            "|    K. Benzema| 34| 64000000|\n",
            "|R. Lewandowski| 33| 84000000|\n",
            "|  K. De Bruyne| 31|107500000|\n",
            "|     K. Mbappé| 23|190500000|\n",
            "+--------------+---+---------+\n",
            "only showing top 5 rows\n",
            "\n"
          ]
        }
      ]
    },
    {
      "cell_type": "code",
      "source": [
        "from pyspark.sql import SparkSession\n",
        "from pyspark.sql import functions as F\n",
        "from pyspark.sql.functions import col\n",
        "\n",
        "# Create Spark session (if not already created)\n",
        "spark = SparkSession.builder \\\n",
        "    .appName(\"FIFA_Particionamiento\") \\\n",
        "    .getOrCreate()\n",
        "\n",
        "# Assuming `df` is your initial DataFrame loaded from the CSV\n",
        "# Rule 1: Young + Low Value\n",
        "part_1 = df.filter((col(\"age\") <= 22) & (col(\"value_eur\") <= 450000))\n",
        "\n",
        "# Rule 2: Young + Medium Value\n",
        "part_2 = df.filter((col(\"age\") <= 22) & (col(\"value_eur\") > 450000) & (col(\"value_eur\") <= 1200000))\n",
        "\n",
        "# Rule 3: Young + High Value\n",
        "part_3 = df.filter((col(\"age\") <= 22) & (col(\"value_eur\") > 1200000))\n",
        "\n",
        "# Rule 4: Adult + Low Value\n",
        "part_4 = df.filter((col(\"age\") > 22) & (col(\"age\") <= 27) & (col(\"value_eur\") <= 450000))\n",
        "\n",
        "# Rule 5: Adult + Medium Value\n",
        "part_5 = df.filter((col(\"age\") > 22) & (col(\"age\") <= 27) & (col(\"value_eur\") > 450000) & (col(\"value_eur\") <= 1200000))\n",
        "\n",
        "# Rule 6: Adult + High Value\n",
        "part_6 = df.filter((col(\"age\") > 22) & (col(\"age\") <= 27) & (col(\"value_eur\") > 1200000))\n",
        "\n",
        "# Rule 7: Veteran + Low Value\n",
        "part_7 = df.filter((col(\"age\") >= 28) & (col(\"value_eur\") <= 450000))\n",
        "\n",
        "# Rule 8: Veteran + Medium Value\n",
        "part_8 = df.filter((col(\"age\") >= 28) & (col(\"value_eur\") > 450000) & (col(\"value_eur\") <= 1200000))\n",
        "\n",
        "# Rule 9: Veteran + High Value\n",
        "part_9 = df.filter((col(\"age\") >= 28) & (col(\"value_eur\") > 1200000))\n",
        "\n",
        "# Optionally, you can display the counts or show samples of each partition\n",
        "print(\"Count of Young + Low Value:\", part_1.count())\n",
        "part_1.show(5)\n",
        "\n",
        "print(\"Count of Young + Medium Value:\", part_2.count())\n",
        "part_2.show(5)\n",
        "\n",
        "print(\"Count of Young + High Value:\", part_3.count())\n",
        "part_3.show(5)\n",
        "\n",
        "print(\"Count of Adult + Low Value:\", part_4.count())\n",
        "part_4.show(5)\n",
        "\n",
        "print(\"Count of Adult + Medium Value:\", part_5.count())\n",
        "part_5.show(5)\n",
        "\n",
        "print(\"Count of Adult + High Value:\", part_6.count())\n",
        "part_6.show(5)\n",
        "\n",
        "print(\"Count of Veteran + Low Value:\", part_7.count())\n",
        "part_7.show(5)\n",
        "\n",
        "print(\"Count of Veteran + Medium Value:\", part_8.count())\n",
        "part_8.show(5)\n",
        "\n",
        "print(\"Count of Veteran + High Value:\", part_9.count())\n",
        "part_9.show(5)"
      ],
      "metadata": {
        "colab": {
          "base_uri": "https://localhost:8080/"
        },
        "id": "_30e31vQmhxm",
        "outputId": "8378ba15-0528-4065-e82b-96ec22ba207b"
      },
      "id": "_30e31vQmhxm",
      "execution_count": 10,
      "outputs": [
        {
          "output_type": "stream",
          "name": "stdout",
          "text": [
            "Count of Young + Low Value: 1815945\n",
            "+---------+--------------------+------------+-----------+----------------+-----------+------------------+----------------+-------+---------+---------+--------+---+----------+---------+---------+---------+----------------+------------+------------+----------------+-------------+------------------+----------------+----------------+------------------------------+--------------+----------------+--------------+---------------+--------------------+--------------+---------+-----------+------------------------+-------------+----------------+---------+------------------+-----------+-------------+----+--------+-------+---------+---------+------+------------------+-------------------+--------------------------+-----------------------+-----------------+---------------+-----------+-----------------+------------------+------------------+---------------------+---------------------+----------------+------------------+----------------+----------------+-------------+-------------+--------------+----------------+--------------------+-----------------------+---------------------+----------------+-------------------+-------------------+---------------------------+-------------------------+------------------------+------------------+--------------------+-------------------+-----------------------+--------------------+-----------------+----+----+----+---+---+---+---+---+----+----+----+----+----+----+----+----+----+----+----+----+----+----+----+----+----+----+----+--------------------+\n",
            "|player_id|          player_url|fifa_version|fifa_update|fifa_update_date| short_name|         long_name|player_positions|overall|potential|value_eur|wage_eur|age|       dob|height_cm|weight_kg|league_id|     league_name|league_level|club_team_id|       club_name|club_position|club_jersey_number|club_loaned_from|club_joined_date|club_contract_valid_until_year|nationality_id|nationality_name|nation_team_id|nation_position|nation_jersey_number|preferred_foot|weak_foot|skill_moves|international_reputation|    work_rate|       body_type|real_face|release_clause_eur|player_tags|player_traits|pace|shooting|passing|dribbling|defending|physic|attacking_crossing|attacking_finishing|attacking_heading_accuracy|attacking_short_passing|attacking_volleys|skill_dribbling|skill_curve|skill_fk_accuracy|skill_long_passing|skill_ball_control|movement_acceleration|movement_sprint_speed|movement_agility|movement_reactions|movement_balance|power_shot_power|power_jumping|power_stamina|power_strength|power_long_shots|mentality_aggression|mentality_interceptions|mentality_positioning|mentality_vision|mentality_penalties|mentality_composure|defending_marking_awareness|defending_standing_tackle|defending_sliding_tackle|goalkeeping_diving|goalkeeping_handling|goalkeeping_kicking|goalkeeping_positioning|goalkeeping_reflexes|goalkeeping_speed|  ls|  st|  rs| lw| lf| cf| rf| rw| lam| cam| ram|  lm| lcm|  cm| rcm|  rm| lwb| ldm| cdm| rdm| rwb|  lb| lcb|  cb| rcb|  rb|  gk|     player_face_url|\n",
            "+---------+--------------------+------------+-----------+----------------+-----------+------------------+----------------+-------+---------+---------+--------+---+----------+---------+---------+---------+----------------+------------+------------+----------------+-------------+------------------+----------------+----------------+------------------------------+--------------+----------------+--------------+---------------+--------------------+--------------+---------+-----------+------------------------+-------------+----------------+---------+------------------+-----------+-------------+----+--------+-------+---------+---------+------+------------------+-------------------+--------------------------+-----------------------+-----------------+---------------+-----------+-----------------+------------------+------------------+---------------------+---------------------+----------------+------------------+----------------+----------------+-------------+-------------+--------------+----------------+--------------------+-----------------------+---------------------+----------------+-------------------+-------------------+---------------------------+-------------------------+------------------------+------------------+--------------------+-------------------+-----------------------+--------------------+-----------------+----+----+----+---+---+---+---+---+----+----+----+----+----+----+----+----+----+----+----+----+----+----+----+----+----+----+----+--------------------+\n",
            "|   160085|/player/160085/di...|          23|          9|      2023-01-13|   D. Rueña|        Dino Rueña|          RM, CM|     61|       61|   375000|     500| 22|2000-02-29|      176|       76|      337|Primera División|           1|      112080|  Sol de América|          SUB|                13|            null|      2023-01-10|                          2027|            58|        Paraguay|          null|           null|                null|         Right|        3|          2|                       1|Medium/Medium|Normal (170-185)|       No|            806000|       null|         null|  51|      46|     67|       64|       67|    66|                56|                 45|                        55|                     76|               21|             68|         29|               61|                67|                59|                   52|                   51|              51|                72|              76|              54|           70|           66|            67|              45|                  64|                     73|                   29|              75|                 59|                 69|                         55|                       77|                      73|                14|                  11|                 11|                     10|                  15|             null|53+2|53+2|53+2| 58| 57| 57| 57| 58|  61|  61|  61|60+1|66-5|66-5|66-5|60+1|66-5|69-8|69-8|69-8|66-5|66-5|67-6|67-6|67-6|66-5|19+2|https://cdn.sofif...|\n",
            "|   160107|/player/160107/es...|          23|          9|      2023-01-13|E. Goldeiro|  Esteban Goldeiro|         CAM, LM|     61|       61|   375000|    1000| 22|2000-02-29|      181|       75|      335|Primera Division|           1|      112533|     Antofagasta|          SUB|                21|            null|      2023-01-10|                          2027|            55|           Chile|          null|           null|                null|         Right|        3|          2|                       1|Medium/Medium|Normal (170-185)|       No|            506000|       null|         null|  73|      62|     64|       55|       41|    57|                68|                 70|                        63|                     65|               60|             49|         66|               49|                48|                54|                   66|                   78|              76|                55|              70|              56|           76|           77|            44|              51|                  59|                     62|                   55|              75|                 66|                 58|                         19|                       38|                      53|                10|                  16|                 16|                      7|                  15|             null|60+1|60+1|60+1| 61| 60| 60| 60| 61|  61|  61|  61|62-1|59+2|59+2|59+2|62-1|58+2|53+2|53+2|53+2|58+2|57+2|49+2|49+2|49+2|57+2|17+2|https://cdn.sofif...|\n",
            "|   243594|/player/243594/ai...|          23|          9|      2023-01-13|   A. Stone|Aidan Thomas Stone|              GK|     61|       67|   425000|    1000| 22|1999-07-20|      186|       75|       60|      League One|           3|        1928|       Port Vale|          SUB|                 1|            null|      2021-07-01|                          2024|            14|         England|          null|           null|                null|         Right|        3|          1|                       1|Medium/Medium|   Stocky (185+)|       No|            829000|       null|         null|null|    null|   null|     null|     null|  null|                13|                 10|                        13|                     30|               10|             11|         13|               11|                49|                21|                   36|                   35|              46|                52|              44|              45|           64|           25|            68|              10|                  24|                     19|                   10|              53|                 12|                 51|                         17|                       11|                      13|                63|                  58|                 60|                     59|                  64|               36|25+2|25+2|25+2| 24| 25| 25| 25| 24|28+2|28+2|28+2|26+2|30+2|30+2|30+2|26+2|23+2|29+2|29+2|29+2|23+2|22+2|25+2|25+2|25+2|22+2|60+2|https://cdn.sofif...|\n",
            "|   250994|/player/250994/jo...|          23|          9|      2023-01-13|   J. Lewis| Joe Cameron Lewis|              CB|     61|       66|   450000|    2000| 22|1999-09-20|      188|       85|       61|      League Two|           4|        1931|Stockport County|          SUB|                31|            null|      2022-06-17|                          2024|            50|           Wales|          null|           null|                null|         Right|        3|          2|                       1|Medium/Medium|   Normal (185+)|       No|            821000|       null|         null|  67|      39|     43|       52|       60|    69|                39|                 33|                        60|                     52|               25|             50|         33|               23|                43|                50|                   66|                   68|              63|                56|              61|              54|           70|           66|            70|              42|                  68|                     59|                   36|              39|                 46|                 56|                         60|                       60|                      59|                14|                  10|                 14|                     15|                  14|             null|49+2|49+2|49+2| 48| 48| 48| 48| 48|48+2|48+2|48+2|49+2|49+2|49+2|49+2|49+2|56+2|56+2|56+2|56+2|56+2|58+2|61+2|61+2|61+2|58+2|18+2|https://cdn.sofif...|\n",
            "|   269244|/player/269244/ba...|          23|          9|      2023-01-13| B. Lauwers|     Barry Lauwers|              GK|     61|       66|   400000|     950| 22|1999-11-29|      187|       76|       10|      Eredivisie|           1|         645|     FC Volendam|          SUB|                22|            null|      2020-07-01|                          2023|            34|     Netherlands|          null|           null|                null|         Right|        3|          1|                       1|Medium/Medium|   Normal (185+)|       No|            610000|       null|         null|null|    null|   null|     null|     null|  null|                13|                  9|                        13|                     22|                8|              6|         12|               11|                18|                19|                   18|                   15|              29|                38|              34|              47|           47|           19|            51|               8|                  22|                      8|                    5|              24|                 16|                 30|                          6|                       14|                      10|                62|                  61|                 62|                     64|                  62|               17|19+2|19+2|19+2| 16| 17| 17| 17| 16|17+2|17+2|17+2|16+2|18+2|18+2|18+2|16+2|16+2|19+2|19+2|19+2|16+2|15+2|19+2|19+2|19+2|15+2|60+2|https://cdn.sofif...|\n",
            "+---------+--------------------+------------+-----------+----------------+-----------+------------------+----------------+-------+---------+---------+--------+---+----------+---------+---------+---------+----------------+------------+------------+----------------+-------------+------------------+----------------+----------------+------------------------------+--------------+----------------+--------------+---------------+--------------------+--------------+---------+-----------+------------------------+-------------+----------------+---------+------------------+-----------+-------------+----+--------+-------+---------+---------+------+------------------+-------------------+--------------------------+-----------------------+-----------------+---------------+-----------+-----------------+------------------+------------------+---------------------+---------------------+----------------+------------------+----------------+----------------+-------------+-------------+--------------+----------------+--------------------+-----------------------+---------------------+----------------+-------------------+-------------------+---------------------------+-------------------------+------------------------+------------------+--------------------+-------------------+-----------------------+--------------------+-----------------+----+----+----+---+---+---+---+---+----+----+----+----+----+----+----+----+----+----+----+----+----+----+----+----+----+----+----+--------------------+\n",
            "only showing top 5 rows\n",
            "\n",
            "Count of Young + Medium Value: 1012036\n",
            "+---------+--------------------+------------+-----------+----------------+------------+--------------------+----------------+-------+---------+---------+--------+---+----------+---------+---------+---------+-------------------+------------+------------+--------------------+-------------+------------------+----------------+----------------+------------------------------+--------------+----------------+--------------+---------------+--------------------+--------------+---------+-----------+------------------------+-------------+----------------+---------+------------------+-----------+-------------+----+--------+-------+---------+---------+------+------------------+-------------------+--------------------------+-----------------------+-----------------+---------------+-----------+-----------------+------------------+------------------+---------------------+---------------------+----------------+------------------+----------------+----------------+-------------+-------------+--------------+----------------+--------------------+-----------------------+---------------------+----------------+-------------------+-------------------+---------------------------+-------------------------+------------------------+------------------+--------------------+-------------------+-----------------------+--------------------+-----------------+----+----+----+---+---+---+---+---+----+----+----+----+----+----+----+----+----+----+----+----+----+----+----+----+----+----+----+--------------------+\n",
            "|player_id|          player_url|fifa_version|fifa_update|fifa_update_date|  short_name|           long_name|player_positions|overall|potential|value_eur|wage_eur|age|       dob|height_cm|weight_kg|league_id|        league_name|league_level|club_team_id|           club_name|club_position|club_jersey_number|club_loaned_from|club_joined_date|club_contract_valid_until_year|nationality_id|nationality_name|nation_team_id|nation_position|nation_jersey_number|preferred_foot|weak_foot|skill_moves|international_reputation|    work_rate|       body_type|real_face|release_clause_eur|player_tags|player_traits|pace|shooting|passing|dribbling|defending|physic|attacking_crossing|attacking_finishing|attacking_heading_accuracy|attacking_short_passing|attacking_volleys|skill_dribbling|skill_curve|skill_fk_accuracy|skill_long_passing|skill_ball_control|movement_acceleration|movement_sprint_speed|movement_agility|movement_reactions|movement_balance|power_shot_power|power_jumping|power_stamina|power_strength|power_long_shots|mentality_aggression|mentality_interceptions|mentality_positioning|mentality_vision|mentality_penalties|mentality_composure|defending_marking_awareness|defending_standing_tackle|defending_sliding_tackle|goalkeeping_diving|goalkeeping_handling|goalkeeping_kicking|goalkeeping_positioning|goalkeeping_reflexes|goalkeeping_speed|  ls|  st|  rs| lw| lf| cf| rf| rw| lam| cam| ram|  lm| lcm|  cm| rcm|  rm| lwb| ldm| cdm| rdm| rwb|  lb| lcb|  cb| rcb|  rb|  gk|     player_face_url|\n",
            "+---------+--------------------+------------+-----------+----------------+------------+--------------------+----------------+-------+---------+---------+--------+---+----------+---------+---------+---------+-------------------+------------+------------+--------------------+-------------+------------------+----------------+----------------+------------------------------+--------------+----------------+--------------+---------------+--------------------+--------------+---------+-----------+------------------------+-------------+----------------+---------+------------------+-----------+-------------+----+--------+-------+---------+---------+------+------------------+-------------------+--------------------------+-----------------------+-----------------+---------------+-----------+-----------------+------------------+------------------+---------------------+---------------------+----------------+------------------+----------------+----------------+-------------+-------------+--------------+----------------+--------------------+-----------------------+---------------------+----------------+-------------------+-------------------+---------------------------+-------------------------+------------------------+------------------+--------------------+-------------------+-----------------------+--------------------+-----------------+----+----+----+---+---+---+---+---+----+----+----+----+----+----+----+----+----+----+----+----+----+----+----+----+----+----+----+--------------------+\n",
            "|   159947|/player/159947/ma...|          23|          9|      2023-01-13|  M. Alcoraz|      Matias Alcoraz|              CB|     67|       67|  1100000|     500| 22|2000-02-29|      192|       91|     2017|Liga De Futbol Prof|           1|      115517|Independiente Pet...|          LCB|                 5|            null|      2023-01-11|                          2027|            53|         Bolivia|          null|           null|                null|         Right|        3|          2|                       1|  Medium/High|   Normal (185+)|       No|           2400000|  #Strength|  Team Player|  47|      46|     53|       53|       65|    75|                54|                 44|                        67|                     63|               35|             51|         52|               50|                43|                63|                   41|                   51|              32|                65|              38|              46|           58|           57|            91|              45|                  62|                     66|                   67|              42|                 63|                 61|                         66|                       64|                      65|                11|                  15|                 14|                     13|                  12|             null|57+2|57+2|57+2| 54| 55| 55| 55| 54|54+2|54+2|54+2|55+2|56+2|56+2|56+2|55+2|60+2|62+2|62+2|62+2|60+2|61+2|  67|  67|  67|61+2|19+2|https://cdn.sofif...|\n",
            "|   159957|/player/159957/ez...|          23|          9|      2023-01-13|  E. Lorcado|    Ezequiel Lorcado|    CDM, CM, CAM|     67|       67|  1100000|     500| 22|2000-02-29|      177|       78|     2020|   Primera Division|           1|      114512|            Ayacucho|          RCM|                15|            null|      2023-01-10|                          2027|            59|            Peru|          null|           null|                null|         Right|        3|          2|                       1|Medium/Medium|Normal (170-185)|       No|           2400000|       null|         null|  50|      39|     63|       47|       66|    69|                57|                 33|                        47|                     72|               22|             42|         32|               43|                65|                42|                   51|                   50|              50|                70|              74|              52|           68|           67|            72|              41|                  62|                     70|                   45|              62|                 53|                 63|                         65|                       73|                      63|                15|                  15|                 15|                     14|                  14|             null|48+2|48+2|48+2| 50| 50| 50| 50| 50|53+2|53+2|53+2|53+2|59+2|59+2|59+2|53+2|62+2|66+1|66+1|66+1|62+2|62+2|65+2|65+2|65+2|62+2|21+2|https://cdn.sofif...|\n",
            "|   159984|/player/159984/ja...|          23|          9|      2023-01-13|   J. Penroz|       Jayson Penroz|          RM, LM|     67|       67|  1200000|     500| 22|2000-02-29|      177|       71|     2019|   Primera Division|           1|      115694| Hermanos Colmenares|           RM|                 8|            null|      2023-01-11|                          2027|            61|       Venezuela|          null|           null|                null|         Right|        3|          3|                       1|Medium/Medium|Normal (170-185)|       No|           2600000|       null|         null|  57|      70|     68|       68|       32|    62|                71|                 69|                        48|                     64|               66|             68|         79|               75|                65|                64|                   50|                   63|              75|                66|              73|              71|           79|           69|            56|              75|                  63|                     21|                   75|              69|                 59|                 77|                         44|                       25|                      21|                10|                   9|                 12|                      8|                   8|             null|65+2|65+2|65+2| 67| 67| 67| 67| 67|  67|  67|  67|66+1|63+2|63+2|63+2|66+1|51+2|50+2|50+2|50+2|51+2|47+2|43+2|43+2|43+2|47+2|15+2|https://cdn.sofif...|\n",
            "|   160064|/player/160064/sa...|          23|          9|      2023-01-13|  S. Canildo|    Santiago Canildo|              CB|     67|       67|  1100000|     500| 22|2000-02-29|      182|       78|     2019|   Primera Division|           1|      115694| Hermanos Colmenares|          LCB|                16|            null|      2023-01-11|                          2027|            61|       Venezuela|          null|           null|                null|         Right|        2|          2|                       1|   Low/Medium|Normal (170-185)|       No|           2400000|       null|         null|  62|      47|     51|       51|       67|    72|                51|                 42|                        71|                     60|               48|             48|         38|               32|                59|                50|                   61|                   62|              53|                68|              58|              61|           74|           74|            75|              45|                  63|                     66|                   40|              35|                 41|                 57|                         67|                       65|                      68|                 7|                  15|                 12|                     11|                   9|             null|54+2|54+2|54+2| 51| 51| 51| 51| 51|50+2|50+2|50+2|53+2|54+2|54+2|54+2|53+2|62+2|63+2|63+2|63+2|62+2|64+2|  67|  67|  67|64+2|17+2|https://cdn.sofif...|\n",
            "|   230192|/player/230192/jo...|          23|          9|      2023-01-13|Botelhinonsa|João Rodolfo Bote...|              RB|     67|       67|  1100000|    4000| 22|2000-02-29|      183|       76|        7|            Serie A|           1|        1039|        Athletico PR|          SUB|                 2|            null|      2022-06-20|                          2025|            54|          Brazil|          null|           null|                null|         Right|        3|          2|                       1|Medium/Medium|Normal (170-185)|       No|           2100000|       null|Long Throw-in|  62|      52|     59|       56|       69|    72|                62|                 41|                        62|                     65|               47|             52|         54|               54|                53|                62|                   65|                   59|              50|                58|              59|              71|           67|           73|            71|              56|                  76|                     66|                   48|              52|                 62|                 61|                         72|                       71|                      63|                11|                   8|                 19|                      9|                  17|             null|56+2|56+2|56+2| 56| 56| 56| 56| 56|56+2|56+2|56+2|58+2|59+2|59+2|59+2|58+2|65+2|65+2|65+2|65+2|65+2|65+2|  67|  67|  67|65+2|17+2|https://cdn.sofif...|\n",
            "+---------+--------------------+------------+-----------+----------------+------------+--------------------+----------------+-------+---------+---------+--------+---+----------+---------+---------+---------+-------------------+------------+------------+--------------------+-------------+------------------+----------------+----------------+------------------------------+--------------+----------------+--------------+---------------+--------------------+--------------+---------+-----------+------------------------+-------------+----------------+---------+------------------+-----------+-------------+----+--------+-------+---------+---------+------+------------------+-------------------+--------------------------+-----------------------+-----------------+---------------+-----------+-----------------+------------------+------------------+---------------------+---------------------+----------------+------------------+----------------+----------------+-------------+-------------+--------------+----------------+--------------------+-----------------------+---------------------+----------------+-------------------+-------------------+---------------------------+-------------------------+------------------------+------------------+--------------------+-------------------+-----------------------+--------------------+-----------------+----+----+----+---+---+---+---+---+----+----+----+----+----+----+----+----+----+----+----+----+----+----+----+----+----+----+----+--------------------+\n",
            "only showing top 5 rows\n",
            "\n",
            "Count of Young + High Value: 737680\n",
            "+---------+--------------------+------------+-----------+----------------+------------+--------------------+----------------+-------+---------+---------+--------+---+----------+---------+---------+---------+--------------+------------+------------+-----------------+-------------+------------------+----------------+----------------+------------------------------+--------------+----------------+--------------+---------------+--------------------+--------------+---------+-----------+------------------------+-----------+--------------+---------+------------------+--------------------+--------------------+----+--------+-------+---------+---------+------+------------------+-------------------+--------------------------+-----------------------+-----------------+---------------+-----------+-----------------+------------------+------------------+---------------------+---------------------+----------------+------------------+----------------+----------------+-------------+-------------+--------------+----------------+--------------------+-----------------------+---------------------+----------------+-------------------+-------------------+---------------------------+-------------------------+------------------------+------------------+--------------------+-------------------+-----------------------+--------------------+-----------------+----+----+----+---+---+---+---+---+----+----+----+----+----+----+----+----+----+----+----+----+----+----+----+----+----+----+----+--------------------+\n",
            "|player_id|          player_url|fifa_version|fifa_update|fifa_update_date|  short_name|           long_name|player_positions|overall|potential|value_eur|wage_eur|age|       dob|height_cm|weight_kg|league_id|   league_name|league_level|club_team_id|        club_name|club_position|club_jersey_number|club_loaned_from|club_joined_date|club_contract_valid_until_year|nationality_id|nationality_name|nation_team_id|nation_position|nation_jersey_number|preferred_foot|weak_foot|skill_moves|international_reputation|  work_rate|     body_type|real_face|release_clause_eur|         player_tags|       player_traits|pace|shooting|passing|dribbling|defending|physic|attacking_crossing|attacking_finishing|attacking_heading_accuracy|attacking_short_passing|attacking_volleys|skill_dribbling|skill_curve|skill_fk_accuracy|skill_long_passing|skill_ball_control|movement_acceleration|movement_sprint_speed|movement_agility|movement_reactions|movement_balance|power_shot_power|power_jumping|power_stamina|power_strength|power_long_shots|mentality_aggression|mentality_interceptions|mentality_positioning|mentality_vision|mentality_penalties|mentality_composure|defending_marking_awareness|defending_standing_tackle|defending_sliding_tackle|goalkeeping_diving|goalkeeping_handling|goalkeeping_kicking|goalkeeping_positioning|goalkeeping_reflexes|goalkeeping_speed|  ls|  st|  rs| lw| lf| cf| rf| rw| lam| cam| ram|  lm| lcm|  cm| rcm|  rm| lwb| ldm| cdm| rdm| rwb|  lb| lcb|  cb| rcb|  rb|  gk|     player_face_url|\n",
            "+---------+--------------------+------------+-----------+----------------+------------+--------------------+----------------+-------+---------+---------+--------+---+----------+---------+---------+---------+--------------+------------+------------+-----------------+-------------+------------------+----------------+----------------+------------------------------+--------------+----------------+--------------+---------------+--------------------+--------------+---------+-----------+------------------------+-----------+--------------+---------+------------------+--------------------+--------------------+----+--------+-------+---------+---------+------+------------------+-------------------+--------------------------+-----------------------+-----------------+---------------+-----------+-----------------+------------------+------------------+---------------------+---------------------+----------------+------------------+----------------+----------------+-------------+-------------+--------------+----------------+--------------------+-----------------------+---------------------+----------------+-------------------+-------------------+---------------------------+-------------------------+------------------------+------------------+--------------------+-------------------+-----------------------+--------------------+-----------------+----+----+----+---+---+---+---+---+----+----+----+----+----+----+----+----+----+----+----+----+----+----+----+----+----+----+----+--------------------+\n",
            "|   239085|/player/239085/er...|          23|          9|      2023-01-13|  E. Haaland|Erling Braut Haaland|              ST|     89|       94|160000000|  230000| 21|2000-07-21|      195|       94|       13|Premier League|           1|          10|  Manchester City|           ST|                 9|            null|      2022-07-01|                          2027|            36|          Norway|          1352|             ST|                   9|          Left|        3|          3|                       4|High/Medium|        Unique|      Yes|         308000000|#Aerial Threat, #...|Speed Dribbler (A...|  89|      91|     65|       80|       49|    88|                47|                 94|                        79|                     74|               88|             78|         77|               62|                53|                82|                   82|                   94|              76|                89|              74|              94|           74|           81|            93|              87|                  87|                     43|                   91|              74|                 76|                 85|                         44|                       53|                      29|                 7|                  14|                 13|                     11|                   7|             null|88+3|88+3|88+3| 80| 85| 85| 85| 80|80+3|80+3|80+3|78+3|74+3|74+3|74+3|78+3|63+3|64+3|64+3|64+3|63+3|61+3|62+3|62+3|62+3|61+3|19+3|https://cdn.sofif...|\n",
            "|   238794|/player/238794/vi...|          23|          9|      2023-01-13|Vinícius Jr.|Vinícius José Pai...|              LW|     86|       92|109000000|  200000| 21|2000-07-12|      176|       73|       53|       La Liga|           1|         243|      Real Madrid|           LW|                20|            null|      2018-07-12|                          2025|            54|          Brazil|          null|           null|                null|         Right|        4|          5|                       2|  High/High|Lean (170-185)|      Yes|         245300000|#Speedster, #Drib...|Flair, Speed Drib...|  95|      79|     74|       90|       29|    67|                72|                 84|                        50|                     75|               72|             92|         77|               62|                73|                89|                   95|                   95|              94|                82|              83|              76|           75|           84|            62|              76|                  58|                     26|                   82|              75|                 65|                 79|                         32|                       25|                      18|                 5|                   7|                  7|                      7|                  10|             null|79+2|79+2|79+2| 85| 84| 84| 84| 85|83+2|83+2|83+2|84+2|75+2|75+2|75+2|84+2|61+2|56+2|56+2|56+2|61+2|56+2|45+2|45+2|45+2|56+2|15+2|https://cdn.sofif...|\n",
            "|   235243|/player/235243/ma...|          23|          9|      2023-01-13|  M. de Ligt|    Matthijs de Ligt|              CB|     85|       89| 71000000|   77000| 22|1999-08-12|      189|       89|       19|    Bundesliga|           1|          21|FC Bayern München|          LCB|                 4|            null|      2022-07-19|                          2027|            34|     Netherlands|        105035|            SUB|                   3|         Right|        3|          2|                       3|Medium/High|        Unique|      Yes|         122500000|#Tackling, #Strength|Solid Player, Pow...|  70|      59|     61|       68|       84|    87|                52|                 50|                        85|                     75|               45|             65|         48|               55|                67|                73|                   65|                   74|              53|                84|              62|              82|           93|           75|            93|              66|                  83|                     81|                   44|              45|                 40|                 82|                         84|                       86|                      85|                12|                  11|                 11|                     12|                  10|             null|68+3|68+3|68+3| 63| 65| 65| 65| 63|63+3|63+3|63+3|64+3|68+3|68+3|68+3|64+3|75+3|78+3|78+3|78+3|75+3|77+3|84+3|84+3|84+3|77+3|19+3|https://cdn.sofif...|\n",
            "|   237692|/player/237692/ph...|          23|          9|      2023-01-13|    P. Foden|        Philip Foden|     LW, CF, CAM|     85|       92|109500000|  180000| 22|2000-05-28|      171|       69|       13|Premier League|           1|          10|  Manchester City|           RW|                47|            null|      2016-07-01|                          2027|            14|         England|          1318|             RW|                  20|          Left|        3|          4|                       3|  High/High|Lean (170-185)|      Yes|         224500000| #Dribbler, #Acrobat|Flair, Long Shot ...|  82|      78|     83|       88|       57|    60|                79|                 80|                        47|                     86|               59|             87|         75|               68|                83|                91|                   86|                   78|              91|                83|              91|              82|           49|           83|            47|              77|                  64|                     59|                   82|              85|                 64|                 84|                         60|                       59|                      47|                 8|                  15|                  6|                     10|                  13|             null|77+3|77+3|77+3| 84| 84| 84| 84| 84|85+3|85+3|85+3|84+3|82+3|82+3|82+3|84+3|73+3|72+3|72+3|72+3|73+3|69+3|60+3|60+3|60+3|69+3|19+3|https://cdn.sofif...|\n",
            "|   251854|/player/251854/pe...|          23|          9|      2023-01-13|       Pedri|Pedro González López|              CM|     85|       92|104500000|  115000| 19|2002-11-25|      174|       61|       53|       La Liga|           1|         241|     FC Barcelona|          LCM|                 8|            null|      2020-08-04|                          2026|            45|           Spain|          1362|            LCM|                  26|         Right|        4|          4|                       2|  High/High|Lean (170-185)|      Yes|         235100000|#Dribbler, #Playm...|Solid Player, Fla...|  79|      67|     81|       87|       68|    74|                68|                 68|                        50|                     87|               56|             87|         79|               62|                85|                88|                   82|                   76|              88|                85|              90|              66|           65|           88|            73|              67|                  62|                     72|                   77|              88|                 53|                 87|                         68|                       73|                      63|                12|                   7|                 11|                      8|                   8|             null|74+2|74+2|74+2| 81| 80| 80| 80| 81|83+2|83+2|83+2|82+2|84+2|84+2|84+2|82+2|77+2|78+2|78+2|78+2|77+2|75+2|70+2|70+2|70+2|75+2|17+2|https://cdn.sofif...|\n",
            "+---------+--------------------+------------+-----------+----------------+------------+--------------------+----------------+-------+---------+---------+--------+---+----------+---------+---------+---------+--------------+------------+------------+-----------------+-------------+------------------+----------------+----------------+------------------------------+--------------+----------------+--------------+---------------+--------------------+--------------+---------+-----------+------------------------+-----------+--------------+---------+------------------+--------------------+--------------------+----+--------+-------+---------+---------+------+------------------+-------------------+--------------------------+-----------------------+-----------------+---------------+-----------+-----------------+------------------+------------------+---------------------+---------------------+----------------+------------------+----------------+----------------+-------------+-------------+--------------+----------------+--------------------+-----------------------+---------------------+----------------+-------------------+-------------------+---------------------------+-------------------------+------------------------+------------------+--------------------+-------------------+-----------------------+--------------------+-----------------+----+----+----+---+---+---+---+---+----+----+----+----+----+----+----+----+----+----+----+----+----+----+----+----+----+----+----+--------------------+\n",
            "only showing top 5 rows\n",
            "\n",
            "Count of Adult + Low Value: 779122\n",
            "+---------+--------------------+------------+-----------+----------------+-------------+------------------+----------------+-------+---------+---------+--------+---+----------+---------+---------+---------+-------------------+------------+------------+-------------------+-------------+------------------+----------------+----------------+------------------------------+--------------+----------------+--------------+---------------+--------------------+--------------+---------+-----------+------------------------+-------------+----------------+---------+------------------+-----------+----------------+----+--------+-------+---------+---------+------+------------------+-------------------+--------------------------+-----------------------+-----------------+---------------+-----------+-----------------+------------------+------------------+---------------------+---------------------+----------------+------------------+----------------+----------------+-------------+-------------+--------------+----------------+--------------------+-----------------------+---------------------+----------------+-------------------+-------------------+---------------------------+-------------------------+------------------------+------------------+--------------------+-------------------+-----------------------+--------------------+-----------------+----+----+----+---+---+---+---+---+----+----+----+----+----+----+----+----+----+----+----+----+----+----+----+----+----+----+----+--------------------+\n",
            "|player_id|          player_url|fifa_version|fifa_update|fifa_update_date|   short_name|         long_name|player_positions|overall|potential|value_eur|wage_eur|age|       dob|height_cm|weight_kg|league_id|        league_name|league_level|club_team_id|          club_name|club_position|club_jersey_number|club_loaned_from|club_joined_date|club_contract_valid_until_year|nationality_id|nationality_name|nation_team_id|nation_position|nation_jersey_number|preferred_foot|weak_foot|skill_moves|international_reputation|    work_rate|       body_type|real_face|release_clause_eur|player_tags|   player_traits|pace|shooting|passing|dribbling|defending|physic|attacking_crossing|attacking_finishing|attacking_heading_accuracy|attacking_short_passing|attacking_volleys|skill_dribbling|skill_curve|skill_fk_accuracy|skill_long_passing|skill_ball_control|movement_acceleration|movement_sprint_speed|movement_agility|movement_reactions|movement_balance|power_shot_power|power_jumping|power_stamina|power_strength|power_long_shots|mentality_aggression|mentality_interceptions|mentality_positioning|mentality_vision|mentality_penalties|mentality_composure|defending_marking_awareness|defending_standing_tackle|defending_sliding_tackle|goalkeeping_diving|goalkeeping_handling|goalkeeping_kicking|goalkeeping_positioning|goalkeeping_reflexes|goalkeeping_speed|  ls|  st|  rs| lw| lf| cf| rf| rw| lam| cam| ram|  lm| lcm|  cm| rcm|  rm| lwb| ldm| cdm| rdm| rwb|  lb| lcb|  cb| rcb|  rb|  gk|     player_face_url|\n",
            "+---------+--------------------+------------+-----------+----------------+-------------+------------------+----------------+-------+---------+---------+--------+---+----------+---------+---------+---------+-------------------+------------+------------+-------------------+-------------+------------------+----------------+----------------+------------------------------+--------------+----------------+--------------+---------------+--------------------+--------------+---------+-----------+------------------------+-------------+----------------+---------+------------------+-----------+----------------+----+--------+-------+---------+---------+------+------------------+-------------------+--------------------------+-----------------------+-----------------+---------------+-----------+-----------------+------------------+------------------+---------------------+---------------------+----------------+------------------+----------------+----------------+-------------+-------------+--------------+----------------+--------------------+-----------------------+---------------------+----------------+-------------------+-------------------+---------------------------+-------------------------+------------------------+------------------+--------------------+-------------------+-----------------------+--------------------+-----------------+----+----+----+---+---+---+---+---+----+----+----+----+----+----+----+----+----+----+----+----+----+----+----+----+----+----+----+--------------------+\n",
            "|   225650|/player/225650/to...|          23|          9|      2023-01-13|      T. King| Thomas Lloyd King|              GK|     64|       64|   450000|    4000| 27|1995-03-09|      194|       80|       61|         League Two|           4|      113926|       Salford City|           GK|                 1|            null|      2021-07-07|                          2023|            50|           Wales|          null|           null|                null|         Right|        3|          1|                       1|Medium/Medium|   Normal (185+)|       No|            788000|       null|Long Passer (AI)|null|    null|   null|     null|     null|  null|                 9|                  6|                        18|                     35|               18|              8|          9|                6|                43|                28|                   40|                   44|              39|                56|              57|              46|           52|           32|            73|              17|                  23|                     13|                   12|              45|                 26|                 42|                         15|                       17|                      20|                64|                  63|                 61|                     63|                  64|               42|27+2|27+2|27+2| 25| 27| 27| 27| 25|29+2|29+2|29+2|27+2|31+2|31+2|31+2|27+2|25+2|30+2|30+2|30+2|25+2|25+2|28+2|28+2|28+2|25+2|63+1|https://cdn.sofif...|\n",
            "|   226259|/player/226259/lo...|          23|          9|      2023-01-13|L. Andrenacci|Lorenzo Andrenacci|              GK|     64|       64|   450000|     950| 27|1995-01-02|      188|       77|       32|            Serie B|           2|         190|            Brescia|          SUB|                 1|            null|      2022-07-01|                          2024|            27|           Italy|          null|           null|                null|         Right|        2|          1|                       1|Medium/Medium|   Normal (185+)|       No|            698000|       null|            null|null|    null|   null|     null|     null|  null|                14|                 13|                        12|                     25|               20|             17|         17|               18|                19|                22|                   50|                   49|              55|                55|              58|              44|           55|           28|            60|              15|                  18|                     15|                    7|              34|                 20|                 43|                         19|                       16|                      16|                63|                  65|                 59|                     64|                  63|               50|26+2|26+2|26+2| 26| 26| 26| 26| 26|26+2|26+2|26+2|26+2|24+2|24+2|24+2|26+2|25+2|24+2|24+2|24+2|25+2|25+2|25+2|25+2|25+2|25+2|63+1|https://cdn.sofif...|\n",
            "|   159935|/player/159935/je...|          23|          9|      2023-01-13|   J. Sarnida| Jefferson Sarnida|          CB, RB|     63|       63|   450000|     500| 26|1996-02-29|      180|       74|     2019|   Primera Division|           1|      112853|Deportivo La Guaira|          SUB|                32|            null|      2023-01-11|                          2027|            61|       Venezuela|          null|           null|                null|         Right|        3|          2|                       1|Medium/Medium|Normal (170-185)|       No|            968000|       null|            null|  47|      32|     46|       32|       65|    65|                45|                 17|                        49|                     63|               25|             18|         18|               40|                48|                38|                   49|                   45|              43|                55|              56|              51|           67|           65|            62|              48|                  70|                     63|                   21|              24|                 50|                 56|                         59|                       75|                      72|                10|                  18|                 12|                     17|                  12|             null|38+2|38+2|38+2| 36| 36| 36| 36| 36|37+2|37+2|37+2|39+2|45+2|45+2|45+2|39+2|57+2|59+2|59+2|59+2|57+2|59+2|  63|  63|  63|59+2|19+2|https://cdn.sofif...|\n",
            "|   159948|/player/159948/aa...|          23|          9|      2023-01-13| A. Pavecillo|   Aaron Pavecillo|         CB, CDM|     63|       63|   450000|     500| 26|1996-02-29|      178|       75|     2017|Liga De Futbol Prof|           1|      114579|         Royal Pari|          SUB|                 4|            null|      2023-01-11|                          2027|            53|         Bolivia|          null|           null|                null|         Right|        3|          2|                       1|Medium/Medium|Normal (170-185)|       No|            968000|       null|            null|  43|      33|     43|       34|       65|    65|                49|                 18|                        52|                     54|               23|             20|         15|               43|                43|                37|                   44|                   42|              45|                59|              65|              52|           65|           68|            64|              47|                  65|                     65|                   23|              26|                 47|                 57|                         64|                       68|                      75|                15|                  15|                 16|                     12|                  12|             null|38+2|38+2|38+2| 36| 35| 35| 35| 36|36+2|36+2|36+2|39+2|44+2|44+2|44+2|39+2|57+2|57+2|57+2|57+2|57+2|59+2|  63|  63|  63|59+2|19+2|https://cdn.sofif...|\n",
            "|   160058|/player/160058/he...|          23|          9|      2023-01-13|  H. Riffosas|   Hector Riffosas|         CB, CDM|     63|       63|   450000|     500| 26|1996-02-29|      191|       88|     2020|   Primera Division|           1|      114512|           Ayacucho|          RCB|                25|            null|      2023-01-10|                          2027|            59|            Peru|          null|           null|                null|         Right|        3|          2|                       1|Medium/Medium|   Normal (185+)|       No|            968000|       null|            null|  64|      40|     54|       52|       61|    63|                55|                 31|                        65|                     61|               44|             49|         38|               39|                62|                54|                   61|                   67|              44|                67|              41|              55|           57|           52|            68|              44|                  68|                     61|                   34|              43|                 51|                 74|                         55|                       67|                      61|                 9|                   7|                 13|                      9|                  12|             null|51+2|51+2|51+2| 51| 50| 50| 50| 51|51+2|51+2|51+2|53+2|54+2|54+2|54+2|53+2|59+2|60+2|60+2|60+2|59+2|60+2|  63|  63|  63|60+2|16+2|https://cdn.sofif...|\n",
            "+---------+--------------------+------------+-----------+----------------+-------------+------------------+----------------+-------+---------+---------+--------+---+----------+---------+---------+---------+-------------------+------------+------------+-------------------+-------------+------------------+----------------+----------------+------------------------------+--------------+----------------+--------------+---------------+--------------------+--------------+---------+-----------+------------------------+-------------+----------------+---------+------------------+-----------+----------------+----+--------+-------+---------+---------+------+------------------+-------------------+--------------------------+-----------------------+-----------------+---------------+-----------+-----------------+------------------+------------------+---------------------+---------------------+----------------+------------------+----------------+----------------+-------------+-------------+--------------+----------------+--------------------+-----------------------+---------------------+----------------+-------------------+-------------------+---------------------------+-------------------------+------------------------+------------------+--------------------+-------------------+-----------------------+--------------------+-----------------+----+----+----+---+---+---+---+---+----+----+----+----+----+----+----+----+----+----+----+----+----+----+----+----+----+----+----+--------------------+\n",
            "only showing top 5 rows\n",
            "\n",
            "Count of Adult + Medium Value: 1268880\n",
            "+---------+--------------------+------------+-----------+----------------+----------------+--------------------+----------------+-------+---------+---------+--------+---+----------+---------+---------+---------+-------------+------------+------------+------------+-------------+------------------+----------------+----------------+------------------------------+--------------+----------------+--------------+---------------+--------------------+--------------+---------+-----------+------------------------+-------------+----------------+---------+------------------+-----------+--------------------+----+--------+-------+---------+---------+------+------------------+-------------------+--------------------------+-----------------------+-----------------+---------------+-----------+-----------------+------------------+------------------+---------------------+---------------------+----------------+------------------+----------------+----------------+-------------+-------------+--------------+----------------+--------------------+-----------------------+---------------------+----------------+-------------------+-------------------+---------------------------+-------------------------+------------------------+------------------+--------------------+-------------------+-----------------------+--------------------+-----------------+----+----+----+---+---+---+---+---+----+----+----+----+----+----+----+----+----+----+----+----+----+----+----+----+----+----+----+--------------------+\n",
            "|player_id|          player_url|fifa_version|fifa_update|fifa_update_date|      short_name|           long_name|player_positions|overall|potential|value_eur|wage_eur|age|       dob|height_cm|weight_kg|league_id|  league_name|league_level|club_team_id|   club_name|club_position|club_jersey_number|club_loaned_from|club_joined_date|club_contract_valid_until_year|nationality_id|nationality_name|nation_team_id|nation_position|nation_jersey_number|preferred_foot|weak_foot|skill_moves|international_reputation|    work_rate|       body_type|real_face|release_clause_eur|player_tags|       player_traits|pace|shooting|passing|dribbling|defending|physic|attacking_crossing|attacking_finishing|attacking_heading_accuracy|attacking_short_passing|attacking_volleys|skill_dribbling|skill_curve|skill_fk_accuracy|skill_long_passing|skill_ball_control|movement_acceleration|movement_sprint_speed|movement_agility|movement_reactions|movement_balance|power_shot_power|power_jumping|power_stamina|power_strength|power_long_shots|mentality_aggression|mentality_interceptions|mentality_positioning|mentality_vision|mentality_penalties|mentality_composure|defending_marking_awareness|defending_standing_tackle|defending_sliding_tackle|goalkeeping_diving|goalkeeping_handling|goalkeeping_kicking|goalkeeping_positioning|goalkeeping_reflexes|goalkeeping_speed|  ls|  st|  rs| lw| lf| cf| rf| rw| lam| cam| ram|  lm| lcm|  cm| rcm|  rm| lwb| ldm| cdm| rdm| rwb|  lb| lcb|  cb| rcb|  rb|  gk|     player_face_url|\n",
            "+---------+--------------------+------------+-----------+----------------+----------------+--------------------+----------------+-------+---------+---------+--------+---+----------+---------+---------+---------+-------------+------------+------------+------------+-------------+------------------+----------------+----------------+------------------------------+--------------+----------------+--------------+---------------+--------------------+--------------+---------+-----------+------------------------+-------------+----------------+---------+------------------+-----------+--------------------+----+--------+-------+---------+---------+------+------------------+-------------------+--------------------------+-----------------------+-----------------+---------------+-----------+-----------------+------------------+------------------+---------------------+---------------------+----------------+------------------+----------------+----------------+-------------+-------------+--------------+----------------+--------------------+-----------------------+---------------------+----------------+-------------------+-------------------+---------------------------+-------------------------+------------------------+------------------+--------------------+-------------------+-----------------------+--------------------+-----------------+----+----+----+---+---+---+---+---+----+----+----+----+----+----+----+----+----+----+----+----+----+----+----+----+----+----+----+--------------------+\n",
            "|   232065|/player/232065/do...|          23|          9|      2023-01-13|   Kim Dong Joon|              金俊仁|              GK|     70|       70|  1200000|    4000| 27|1994-12-19|      189|       85|       83|   K League 1|           1|        1478| Jeju United|           GK|                 1|            null|      2022-01-11|                          2025|           167|  Korea Republic|          null|           null|                null|         Right|        3|          1|                       1|Medium/Medium|   Normal (185+)|       No|           1500000|       null|Cautious With Cro...|null|    null|   null|     null|     null|  null|                13|                 17|                        18|                     40|               17|             13|         13|               12|                22|                18|                   43|                   43|              40|                64|              56|              49|           61|           42|            44|              16|                  32|                     19|                   18|              48|                 18|                 62|                         12|                       15|                      23|                71|                  68|                 65|                     68|                  73|               43|29+2|29+2|29+2| 27| 30| 30| 30| 27|31+2|31+2|31+2|29+2|31+2|31+2|31+2|29+2|28+2|29+2|29+2|29+2|28+2|28+2|26+2|26+2|26+2|28+2|69+1|https://cdn.sofif...|\n",
            "|   230164|/player/230164/lu...|          23|          9|      2023-01-13|Luciano Cacheira|Luciano Renato Ca...|              GK|     69|       69|  1100000|    5000| 26|1996-02-29|      181|       75|        7|      Serie A|           1|      111052|   Fortaleza|          SUB|                23|            null|      2022-06-20|                          2025|            54|          Brazil|          null|           null|                null|         Right|        2|          1|                       1|Medium/Medium|Normal (170-185)|       No|           2100000|       null|                null|null|    null|   null|     null|     null|  null|                13|                  9|                        17|                     16|               20|             13|         20|               12|                11|                14|                   29|                   33|              49|                66|              50|              58|           64|           22|            38|              15|                  33|                      8|                   11|              48|                 18|                 49|                         24|                       18|                      17|                76|                  62|                 77|                     55|                  76|               31|25+2|25+2|25+2| 22| 25| 25| 25| 22|24+2|24+2|24+2|22+2|23+2|23+2|23+2|22+2|21+2|22+2|22+2|22+2|21+2|22+2|24+2|24+2|24+2|22+2|68+1|https://cdn.sofif...|\n",
            "|   205556|/player/205556/lu...|          23|          9|      2023-01-13|       L. Krajnc|         Luka Krajnc|          CB, LB|     68|       69|  1200000|   10000| 27|1994-09-19|      187|       86|       20|2. Bundesliga|           2|         485| Hannover 96|          LCB|                32|            null|      2021-08-24|                          2024|            44|        Slovenia|          null|           null|                null|          Left|        2|          2|                       1|Medium/Medium|   Normal (185+)|       No|           2000000|       null|                null|  62|      32|     53|       60|       67|    77|                58|                 25|                        64|                     63|               37|             56|         48|               26|                61|                64|                   63|                   62|              59|                63|              64|              44|           80|           65|            85|              30|                  69|                     66|                   46|              31|                 44|                 64|                         68|                       67|                      65|                 8|                   9|                 11|                     15|                  10|             null|51+2|51+2|51+2| 53| 51| 51| 51| 53|52+2|52+2|52+2|56+2|56+2|56+2|56+2|56+2|64+2|64+2|64+2|64+2|64+2|64+2|68+1|68+1|68+1|64+2|16+2|https://cdn.sofif...|\n",
            "|   210715|/player/210715/an...|          23|          9|      2023-01-13|       A. Hansen|      Andreas Hansen|              GK|     68|       70|  1100000|    4000| 26|1995-08-11|      186|       73|        1|    Superliga|           1|        1788|Nordsjælland|           GK|                13|            null|      2022-06-15|                          2027|            13|         Denmark|          null|           null|                null|         Right|        3|          1|                       1|Medium/Medium|     Lean (185+)|       No|           1500000|       null|Long Passer (AI),...|null|    null|   null|     null|     null|  null|                18|                 11|                        14|                     42|               17|             14|         18|               20|                38|                36|                   47|                   48|              43|                59|              62|              55|           66|           36|            64|              17|                  18|                     23|                   14|              63|                 24|                 42|                         17|                       16|                      18|                67|                  67|                 73|                     68|                  69|               47|30+2|30+2|30+2| 31| 33| 33| 33| 31|36+2|36+2|36+2|33+2|37+2|37+2|37+2|33+2|30+2|33+2|33+2|33+2|30+2|29+2|28+2|28+2|28+2|29+2|67+2|https://cdn.sofif...|\n",
            "|   211595|/player/211595/ge...|          23|          9|      2023-01-13|        G. Evans|        George Evans|     CDM, CM, CB|     68|       69|  1200000|    6000| 27|1994-12-13|      184|       76|       14| Championship|           2|          97|    Millwall|          SUB|                 6|            null|      2021-02-01|                          2023|            14|         England|          null|           null|                null|         Right|        3|          2|                       1|Medium/Medium|Normal (170-185)|       No|           2400000|       null|Injury Prone, Lon...|  62|      61|     64|       62|       66|    70|                58|                 59|                        65|                     68|               56|             59|         64|               55|                73|                65|                   59|                   65|              66|                65|              62|              69|           68|           69|            72|              64|                  66|                     69|                   57|              59|                 48|                 64|                         66|                       66|                      64|                10|                   9|                 15|                     13|                  14|             null|63+2|63+2|63+2| 62| 62| 62| 62| 62|63+2|63+2|63+2|62+2|65+2|65+2|65+2|62+2|65+2|67+2|67+2|67+2|65+2|65+2|67+2|67+2|67+2|65+2|18+2|https://cdn.sofif...|\n",
            "+---------+--------------------+------------+-----------+----------------+----------------+--------------------+----------------+-------+---------+---------+--------+---+----------+---------+---------+---------+-------------+------------+------------+------------+-------------+------------------+----------------+----------------+------------------------------+--------------+----------------+--------------+---------------+--------------------+--------------+---------+-----------+------------------------+-------------+----------------+---------+------------------+-----------+--------------------+----+--------+-------+---------+---------+------+------------------+-------------------+--------------------------+-----------------------+-----------------+---------------+-----------+-----------------+------------------+------------------+---------------------+---------------------+----------------+------------------+----------------+----------------+-------------+-------------+--------------+----------------+--------------------+-----------------------+---------------------+----------------+-------------------+-------------------+---------------------------+-------------------------+------------------------+------------------+--------------------+-------------------+-----------------------+--------------------+-----------------+----+----+----+---+---+---+---+---+----+----+----+----+----+----+----+----+----+----+----+----+----+----+----+----+----+----+----+--------------------+\n",
            "only showing top 5 rows\n",
            "\n",
            "Count of Adult + High Value: 1412641\n",
            "+---------+--------------------+------------+-----------+----------------+--------------+--------------------+----------------+-------+---------+---------+--------+---+----------+---------+---------+---------+--------------+------------+------------+-------------------+-------------+------------------+----------------+----------------+------------------------------+--------------+----------------+--------------+---------------+--------------------+--------------+---------+-----------+------------------------+-------------+----------------+---------+------------------+--------------------+--------------------+----+--------+-------+---------+---------+------+------------------+-------------------+--------------------------+-----------------------+-----------------+---------------+-----------+-----------------+------------------+------------------+---------------------+---------------------+----------------+------------------+----------------+----------------+-------------+-------------+--------------+----------------+--------------------+-----------------------+---------------------+----------------+-------------------+-------------------+---------------------------+-------------------------+------------------------+------------------+--------------------+-------------------+-----------------------+--------------------+-----------------+----+----+----+---+---+---+---+---+----+----+----+----+----+----+----+----+----+----+----+----+----+----+----+----+----+----+----+--------------------+\n",
            "|player_id|          player_url|fifa_version|fifa_update|fifa_update_date|    short_name|           long_name|player_positions|overall|potential|value_eur|wage_eur|age|       dob|height_cm|weight_kg|league_id|   league_name|league_level|club_team_id|          club_name|club_position|club_jersey_number|club_loaned_from|club_joined_date|club_contract_valid_until_year|nationality_id|nationality_name|nation_team_id|nation_position|nation_jersey_number|preferred_foot|weak_foot|skill_moves|international_reputation|    work_rate|       body_type|real_face|release_clause_eur|         player_tags|       player_traits|pace|shooting|passing|dribbling|defending|physic|attacking_crossing|attacking_finishing|attacking_heading_accuracy|attacking_short_passing|attacking_volleys|skill_dribbling|skill_curve|skill_fk_accuracy|skill_long_passing|skill_ball_control|movement_acceleration|movement_sprint_speed|movement_agility|movement_reactions|movement_balance|power_shot_power|power_jumping|power_stamina|power_strength|power_long_shots|mentality_aggression|mentality_interceptions|mentality_positioning|mentality_vision|mentality_penalties|mentality_composure|defending_marking_awareness|defending_standing_tackle|defending_sliding_tackle|goalkeeping_diving|goalkeeping_handling|goalkeeping_kicking|goalkeeping_positioning|goalkeeping_reflexes|goalkeeping_speed|  ls|  st|  rs| lw| lf| cf| rf| rw| lam| cam| ram|  lm| lcm|  cm| rcm|  rm| lwb| ldm| cdm| rdm| rwb|  lb| lcb|  cb| rcb|  rb|  gk|     player_face_url|\n",
            "+---------+--------------------+------------+-----------+----------------+--------------+--------------------+----------------+-------+---------+---------+--------+---+----------+---------+---------+---------+--------------+------------+------------+-------------------+-------------+------------------+----------------+----------------+------------------------------+--------------+----------------+--------------+---------------+--------------------+--------------+---------+-----------+------------------------+-------------+----------------+---------+------------------+--------------------+--------------------+----+--------+-------+---------+---------+------+------------------+-------------------+--------------------------+-----------------------+-----------------+---------------+-----------+-----------------+------------------+------------------+---------------------+---------------------+----------------+------------------+----------------+----------------+-------------+-------------+--------------+----------------+--------------------+-----------------------+---------------------+----------------+-------------------+-------------------+---------------------------+-------------------------+------------------------+------------------+--------------------+-------------------+-----------------------+--------------------+-----------------+----+----+----+---+---+---+---+---+----+----+----+----+----+----+----+----+----+----+----+----+----+----+----+----+----+----+----+--------------------+\n",
            "|   231747|/player/231747/ky...|          23|          9|      2023-01-13|     K. Mbappé|Kylian Mbappé Lottin|          ST, LW|     91|       95|190500000|  230000| 23|1998-12-20|      182|       73|       16|       Ligue 1|           1|          73|Paris Saint Germain|           LS|                 7|            null|      2018-07-01|                          2024|            18|          France|          1335|             LW|                  10|         Right|        4|          5|                       4|     High/Low|          Unique|      Yes|         366700000|#Speedster, #Drib...|Solid Player, Fla...|  97|      89|     80|       92|       36|    76|                78|                 93|                        72|                     85|               83|             93|         80|               69|                71|                91|                   97|                   97|              93|                93|              81|              88|           77|           87|            76|              82|                  64|                     38|                   92|              83|                 80|                 88|                         26|                       34|                      32|                13|                   5|                  7|                     11|                   6|             null|89+3|89+3|89+3| 90| 90| 90| 90| 90|89+3|89+3|89+3|89+3|81+3|81+3|81+3|89+3|67+3|63+3|63+3|63+3|67+3|63+3|54+3|54+3|54+3|63+3|18+3|https://cdn.sofif...|\n",
            "|   212622|/player/212622/jo...|          23|          9|      2023-01-13|    J. Kimmich|Joshua Walter Kim...|     CDM, RB, CM|     89|       90|105500000|  130000| 27|1995-02-08|      177|       75|       19|    Bundesliga|           1|          21|  FC Bayern München|          RDM|                 6|            null|      2015-07-01|                          2025|            21|         Germany|          1337|            LDM|                   6|         Right|        4|          3|                       4|  High/Medium|Normal (170-185)|      Yes|         182000000|            #Crosser|Leadership, Long ...|  68|      72|     87|       84|       83|    79|                91|                 68|                        72|                     87|               69|             82|         85|               69|                90|                85|                   77|                   60|              84|                88|              84|              78|           79|           94|            68|              83|                  89|                     85|                   80|              85|                 44|                 85|                         84|                       85|                      78|                 8|                  15|                  7|                     15|                  15|             null|77+3|77+3|77+3| 81| 80| 80| 80| 81|83+3|83+3|83+3|83+3|86+3|86+3|86+3|83+3|84+3|86+3|86+3|86+3|84+3|83+3|81+3|81+3|81+3|83+3|21+3|https://cdn.sofif...|\n",
            "|   218667|/player/218667/be...|          23|          9|      2023-01-13|Bernardo Silva|Bernardo Mota Vei...|         CAM, CM|     88|       88| 97500000|  260000| 27|1994-08-10|      173|       64|       13|Premier League|           1|          10|    Manchester City|          SUB|                20|            null|      2017-07-01|                          2025|            38|        Portugal|          1354|             RW|                  10|          Left|        3|          4|                       2|    High/High|  Lean (170-185)|      Yes|         180400000|#Dribbler, #Engin...|Flair, Playmaker ...|  74|      78|     84|       92|       66|    68|                85|                 79|                        51|                     89|               78|             92|         85|               67|                77|                91|                   84|                   65|              94|                87|              92|              79|           51|           93|            54|              78|                  77|                     65|                   83|              85|                 68|                 90|                         66|                       73|                      58|                 9|                  10|                 14|                     12|                   9|             null|78+2|78+2|78+2| 85| 84| 84| 84| 85|86+2|86+2|86+2|86+2|84+2|84+2|84+2|86+2|78+2|77+2|77+2|77+2|78+2|75+2|67+2|67+2|67+2|75+2|19+2|https://cdn.sofif...|\n",
            "|   230621|/player/230621/gi...|          23|          9|      2023-01-13| G. Donnarumma|Gianluigi Donnarumma|              GK|     88|       92|103500000|  110000| 23|1999-02-25|      196|       90|       16|       Ligue 1|           1|          73|Paris Saint Germain|           GK|                99|            null|      2021-07-15|                          2026|            27|           Italy|          1343|             GK|                  21|         Right|        3|          1|                       3|Medium/Medium|          Unique|      Yes|         199200000|                null|Rushes Out Of Goa...|null|    null|   null|     null|     null|  null|                12|                 12|                        12|                     36|                8|             28|         12|               14|                34|                30|                   50|                   55|              64|                85|              38|              59|           72|           34|            72|              18|                  30|                     26|                   14|              60|                 24|                 65|                         20|                       14|                      16|                90|                  83|                 79|                     85|                  89|               52|34+3|34+3|34+3| 34| 36| 36| 36| 34|38+3|38+3|38+3|35+3|37+3|37+3|37+3|35+3|31+3|34+3|34+3|34+3|31+3|31+3|31+3|31+3|31+3|31+3|86+3|https://cdn.sofif...|\n",
            "|   239818|/player/239818/ru...|          23|          9|      2023-01-13|    Rúben Dias|Rúben dos Santos ...|              CB|     88|       91|107500000|  230000| 25|1997-05-14|      187|       82|       13|Premier League|           1|          10|    Manchester City|          RCB|                 3|            null|      2020-09-29|                          2027|            38|        Portugal|          1354|            LCB|                   4|         Right|        4|          2|                       3|  Medium/High|   Normal (185+)|      Yes|         206900000|          #Tackling |Leadership, Power...|  63|      39|     66|       68|       88|    88|                54|                 29|                        87|                     82|               32|             64|         46|               48|                76|                74|                   57|                   67|              60|                89|              56|              74|           78|           83|            89|              26|                  92|                     85|                   39|              51|                 45|                 81|                         90|                       89|                      85|                 7|                   8|                 13|                      7|                  12|             null|61+3|61+3|61+3| 59| 60| 60| 60| 59|62+3|62+3|62+3|64+3|70+3|70+3|70+3|64+3|78+3|83+3|83+3|83+3|78+3|80+3|87+3|87+3|87+3|80+3|18+3|https://cdn.sofif...|\n",
            "+---------+--------------------+------------+-----------+----------------+--------------+--------------------+----------------+-------+---------+---------+--------+---+----------+---------+---------+---------+--------------+------------+------------+-------------------+-------------+------------------+----------------+----------------+------------------------------+--------------+----------------+--------------+---------------+--------------------+--------------+---------+-----------+------------------------+-------------+----------------+---------+------------------+--------------------+--------------------+----+--------+-------+---------+---------+------+------------------+-------------------+--------------------------+-----------------------+-----------------+---------------+-----------+-----------------+------------------+------------------+---------------------+---------------------+----------------+------------------+----------------+----------------+-------------+-------------+--------------+----------------+--------------------+-----------------------+---------------------+----------------+-------------------+-------------------+---------------------------+-------------------------+------------------------+------------------+--------------------+-------------------+-----------------------+--------------------+-----------------+----+----+----+---+---+---+---+---+----+----+----+----+----+----+----+----+----+----+----+----+----+----+----+----+----+----+----+--------------------+\n",
            "only showing top 5 rows\n",
            "\n",
            "Count of Veteran + Low Value: 852250\n",
            "+---------+--------------------+------------+-----------+----------------+---------------+--------------------+----------------+-------+---------+---------+--------+---+----------+---------+---------+---------+----------------+------------+------------+-----------------+-------------+------------------+----------------+----------------+------------------------------+--------------+----------------+--------------+---------------+--------------------+--------------+---------+-----------+------------------------+-------------+-------------+---------+------------------+-----------+--------------------+----+--------+-------+---------+---------+------+------------------+-------------------+--------------------------+-----------------------+-----------------+---------------+-----------+-----------------+------------------+------------------+---------------------+---------------------+----------------+------------------+----------------+----------------+-------------+-------------+--------------+----------------+--------------------+-----------------------+---------------------+----------------+-------------------+-------------------+---------------------------+-------------------------+------------------------+------------------+--------------------+-------------------+-----------------------+--------------------+-----------------+----+----+----+---+---+---+---+---+----+----+----+----+----+----+----+----+----+----+----+----+----+----+----+----+----+----+----+--------------------+\n",
            "|player_id|          player_url|fifa_version|fifa_update|fifa_update_date|     short_name|           long_name|player_positions|overall|potential|value_eur|wage_eur|age|       dob|height_cm|weight_kg|league_id|     league_name|league_level|club_team_id|        club_name|club_position|club_jersey_number|club_loaned_from|club_joined_date|club_contract_valid_until_year|nationality_id|nationality_name|nation_team_id|nation_position|nation_jersey_number|preferred_foot|weak_foot|skill_moves|international_reputation|    work_rate|    body_type|real_face|release_clause_eur|player_tags|       player_traits|pace|shooting|passing|dribbling|defending|physic|attacking_crossing|attacking_finishing|attacking_heading_accuracy|attacking_short_passing|attacking_volleys|skill_dribbling|skill_curve|skill_fk_accuracy|skill_long_passing|skill_ball_control|movement_acceleration|movement_sprint_speed|movement_agility|movement_reactions|movement_balance|power_shot_power|power_jumping|power_stamina|power_strength|power_long_shots|mentality_aggression|mentality_interceptions|mentality_positioning|mentality_vision|mentality_penalties|mentality_composure|defending_marking_awareness|defending_standing_tackle|defending_sliding_tackle|goalkeeping_diving|goalkeeping_handling|goalkeeping_kicking|goalkeeping_positioning|goalkeeping_reflexes|goalkeeping_speed|  ls|  st|  rs| lw| lf| cf| rf| rw| lam| cam| ram|  lm| lcm|  cm| rcm|  rm| lwb| ldm| cdm| rdm| rwb|  lb| lcb|  cb| rcb|  rb|  gk|     player_face_url|\n",
            "+---------+--------------------+------------+-----------+----------------+---------------+--------------------+----------------+-------+---------+---------+--------+---+----------+---------+---------+---------+----------------+------------+------------+-----------------+-------------+------------------+----------------+----------------+------------------------------+--------------+----------------+--------------+---------------+--------------------+--------------+---------+-----------+------------------------+-------------+-------------+---------+------------------+-----------+--------------------+----+--------+-------+---------+---------+------+------------------+-------------------+--------------------------+-----------------------+-----------------+---------------+-----------+-----------------+------------------+------------------+---------------------+---------------------+----------------+------------------+----------------+----------------+-------------+-------------+--------------+----------------+--------------------+-----------------------+---------------------+----------------+-------------------+-------------------+---------------------------+-------------------------+------------------------+------------------+--------------------+-------------------+-----------------------+--------------------+-----------------+----+----+----+---+---+---+---+---+----+----+----+----+----+----+----+----+----+----+----+----+----+----+----+----+----+----+----+--------------------+\n",
            "|     2147|/player/2147/maar...|          23|          9|      2023-01-13|M. Stekelenburg|Maarten Stekelenburg|              GK|     73|       73|   350000|    6000| 39|1982-09-22|      197|       92|       10|      Eredivisie|           1|         245|             Ajax|          SUB|                 1|            null|      2020-08-05|                          2023|            34|     Netherlands|          null|           null|                null|         Right|        4|          1|                       2|Medium/Medium|Normal (185+)|      Yes|            490000|       null|Injury Prone, Cau...|null|    null|   null|     null|     null|  null|                18|                 11|                        14|                     39|               11|             12|         13|               13|                37|                31|                   30|                   32|              30|                66|              27|              56|           55|           24|            77|              11|                  41|                     26|                   12|              41|                 23|                 60|                          9|                       15|                      14|                69|                  75|                 74|                     79|                  70|               31|29+2|29+2|29+2| 26| 28| 28| 28| 26|30+2|30+2|30+2|28+2|32+2|32+2|32+2|28+2|26+2|32+2|32+2|32+2|26+2|25+2|29+2|29+2|29+2|25+2|72+1|https://cdn.sofif...|\n",
            "|   132740|/player/132740/je...|          23|          9|      2023-01-13|      J. Hansen|       Jesper Hansen|              GK|     73|       73|   350000|    6000| 37|1985-05-31|      188|       78|        1|       Superliga|           1|         271|              AGF|           GK|                 1|            null|      2021-07-01|                          2023|            13|         Denmark|          null|           null|                null|         Right|        3|          1|                       1|Medium/Medium|Normal (185+)|       No|            438000|       null|Leadership, GK Lo...|null|    null|   null|     null|     null|  null|                18|                 13|                        13|                     52|               11|             24|         16|               12|                53|                35|                   41|                   42|              49|                74|              62|              56|           67|           41|            65|              13|                  32|                     27|                   12|              68|                 20|                 66|                         26|                       14|                      15|                71|                  70|                 74|                     73|                  74|               41|32+2|32+2|32+2| 34| 36| 36| 36| 34|41+2|41+2|41+2|37+2|43+2|43+2|43+2|37+2|33+2|39+2|39+2|39+2|33+2|31+2|32+2|32+2|32+2|31+2|72+1|https://cdn.sofif...|\n",
            "|   157970|/player/157970/ri...|          23|          9|      2023-01-13|Ricardo Batista|Ricardo José Cecí...|              GK|     73|       73|   350000|    3000| 35|1986-11-19|      193|       86|      308|   Liga Portugal|           1|      114510|         Casa Pia|           GK|                33|            null|      2020-08-31|                          2023|            38|        Portugal|          null|           null|                null|          Left|        3|          1|                       1|Medium/Medium|Normal (185+)|       No|            735000|       null|                null|null|    null|   null|     null|     null|  null|                17|                 12|                        10|                     36|               14|             16|         15|               19|                34|                21|                   39|                   37|              46|                68|              39|              55|           64|           24|            70|              15|                  45|                     22|                   17|              16|                 26|                 41|                         17|                        9|                      19|                70|                  71|                 73|                     72|                  75|               38|29+2|29+2|29+2| 26| 27| 27| 27| 26|27+2|27+2|27+2|27+2|27+2|27+2|27+2|27+2|26+2|29+2|29+2|29+2|26+2|25+2|29+2|29+2|29+2|25+2|72+1|https://cdn.sofif...|\n",
            "|   175281|/player/175281/de...|          23|          9|      2023-01-13|     D. Onyango|       Denis Onyango|              GK|     73|       73|   350000|     500| 37|1985-05-15|      185|       89|      347|  Premier League|           1|      110935|Mamelodi Sundowns|          SUB|                14|            null|      2011-01-01|                          2023|           146|          Uganda|          null|           null|                null|         Right|        1|          1|                       1|Medium/Medium|Stocky (185+)|       No|            770000|       null|Leadership, Team ...|null|    null|   null|     null|     null|  null|                35|                 24|                        30|                     28|               20|             22|         35|               32|                29|                31|                   43|                   45|              47|                64|              65|              54|           70|           40|            85|              26|                  43|                     20|                   15|              66|                 25|                 64|                         25|                       25|                      24|                74|                  73|                 72|                     72|                  75|               44|35+2|35+2|35+2| 34| 35| 35| 35| 34|36+2|36+2|36+2|35+2|35+2|35+2|35+2|35+2|33+2|34+2|34+2|34+2|33+2|33+2|36+2|36+2|36+2|33+2|72+1|https://cdn.sofif...|\n",
            "|   176526|/player/176526/le...|          23|          9|      2023-01-13|      L. Burián|Leonardo Fabián B...|              GK|     73|       73|   350000|    6000| 38|1984-01-21|      188|       81|      353|Liga Profesional|           1|      101088|  Vélez Sarsfield|           GK|                22|            null|      2022-06-28|                          2023|            60|         Uruguay|          null|           null|                null|         Right|        3|          1|                       1|Medium/Medium|Normal (185+)|       No|            525000|       null|   Comes For Crosses|null|    null|   null|     null|     null|  null|                20|                 15|                        23|                     37|               13|             19|         15|               15|                39|                34|                   47|                   45|              57|                71|              54|              52|           77|           39|            70|              19|                  45|                     28|                   15|              36|                 25|                 57|                         20|                       21|                      22|                71|                  70|                 69|                     77|                  72|               46|33+2|33+2|33+2| 31| 32| 32| 32| 31|33+2|33+2|33+2|33+2|35+2|35+2|35+2|33+2|33+2|36+2|36+2|36+2|33+2|32+2|35+2|35+2|35+2|32+2|72+1|https://cdn.sofif...|\n",
            "+---------+--------------------+------------+-----------+----------------+---------------+--------------------+----------------+-------+---------+---------+--------+---+----------+---------+---------+---------+----------------+------------+------------+-----------------+-------------+------------------+----------------+----------------+------------------------------+--------------+----------------+--------------+---------------+--------------------+--------------+---------+-----------+------------------------+-------------+-------------+---------+------------------+-----------+--------------------+----+--------+-------+---------+---------+------+------------------+-------------------+--------------------------+-----------------------+-----------------+---------------+-----------+-----------------+------------------+------------------+---------------------+---------------------+----------------+------------------+----------------+----------------+-------------+-------------+--------------+----------------+--------------------+-----------------------+---------------------+----------------+-------------------+-------------------+---------------------------+-------------------------+------------------------+------------------+--------------------+-------------------+-----------------------+--------------------+-----------------+----+----+----+---+---+---+---+---+----+----+----+----+----+----+----+----+----+----+----+----+----+----+----+----+----+----+----+--------------------+\n",
            "only showing top 5 rows\n",
            "\n",
            "Count of Veteran + Medium Value: 922530\n",
            "+---------+--------------------+------------+-----------+----------------+-------------+--------------------+----------------+-------+---------+---------+--------+---+----------+---------+---------+---------+----------------+------------+------------+------------+-------------+------------------+----------------+----------------+------------------------------+--------------+----------------+--------------+---------------+--------------------+--------------+---------+-----------+------------------------+-------------+-------------+---------+------------------+-----------+--------------------+----+--------+-------+---------+---------+------+------------------+-------------------+--------------------------+-----------------------+-----------------+---------------+-----------+-----------------+------------------+------------------+---------------------+---------------------+----------------+------------------+----------------+----------------+-------------+-------------+--------------+----------------+--------------------+-----------------------+---------------------+----------------+-------------------+-------------------+---------------------------+-------------------------+------------------------+------------------+--------------------+-------------------+-----------------------+--------------------+-----------------+----+----+----+---+---+---+---+---+----+----+----+----+----+----+----+----+----+----+----+----+----+----+----+----+----+----+----+--------------------+\n",
            "|player_id|          player_url|fifa_version|fifa_update|fifa_update_date|   short_name|           long_name|player_positions|overall|potential|value_eur|wage_eur|age|       dob|height_cm|weight_kg|league_id|     league_name|league_level|club_team_id|   club_name|club_position|club_jersey_number|club_loaned_from|club_joined_date|club_contract_valid_until_year|nationality_id|nationality_name|nation_team_id|nation_position|nation_jersey_number|preferred_foot|weak_foot|skill_moves|international_reputation|    work_rate|    body_type|real_face|release_clause_eur|player_tags|       player_traits|pace|shooting|passing|dribbling|defending|physic|attacking_crossing|attacking_finishing|attacking_heading_accuracy|attacking_short_passing|attacking_volleys|skill_dribbling|skill_curve|skill_fk_accuracy|skill_long_passing|skill_ball_control|movement_acceleration|movement_sprint_speed|movement_agility|movement_reactions|movement_balance|power_shot_power|power_jumping|power_stamina|power_strength|power_long_shots|mentality_aggression|mentality_interceptions|mentality_positioning|mentality_vision|mentality_penalties|mentality_composure|defending_marking_awareness|defending_standing_tackle|defending_sliding_tackle|goalkeeping_diving|goalkeeping_handling|goalkeeping_kicking|goalkeeping_positioning|goalkeeping_reflexes|goalkeeping_speed|  ls|  st|  rs| lw| lf| cf| rf| rw| lam| cam| ram|  lm| lcm|  cm| rcm|  rm| lwb| ldm| cdm| rdm| rwb|  lb| lcb|  cb| rcb|  rb|  gk|     player_face_url|\n",
            "+---------+--------------------+------------+-----------+----------------+-------------+--------------------+----------------+-------+---------+---------+--------+---+----------+---------+---------+---------+----------------+------------+------------+------------+-------------+------------------+----------------+----------------+------------------------------+--------------+----------------+--------------+---------------+--------------------+--------------+---------+-----------+------------------------+-------------+-------------+---------+------------------+-----------+--------------------+----+--------+-------+---------+---------+------+------------------+-------------------+--------------------------+-----------------------+-----------------+---------------+-----------+-----------------+------------------+------------------+---------------------+---------------------+----------------+------------------+----------------+----------------+-------------+-------------+--------------+----------------+--------------------+-----------------------+---------------------+----------------+-------------------+-------------------+---------------------------+-------------------------+------------------------+------------------+--------------------+-------------------+-----------------------+--------------------+-----------------+----+----+----+---+---+---+---+---+----+----+----+----+----+----+----+----+----+----+----+----+----+----+----+----+----+----+----+--------------------+\n",
            "|    24630|/player/24630/jos...|          23|          9|      2023-01-13|   Pepe Reina|José Manuel Reina...|              GK|     77|       77|  1200000|   14000| 39|1982-08-31|      188|       92|       53|         La Liga|           1|         483|  Villarreal|           GK|                 1|            null|      2022-07-08|                          2023|            45|           Spain|          null|           null|                null|         Right|        3|          1|                       3|Medium/Medium|       Unique|      Yes|           2500000|       null|GK Long Throw, Ru...|null|    null|   null|     null|     null|  null|                11|                 14|                        13|                     37|               11|             10|         11|               11|                39|                23|                   43|                   49|              50|                72|              60|              59|           71|           34|            70|              15|                  32|                     22|                   13|              65|                 24|                 64|                         20|                       22|                      24|                75|                  77|                 79|                     79|                  76|               45|30+3|30+3|30+3| 29| 32| 32| 32| 29|34+3|34+3|34+3|31+3|35+3|35+3|35+3|31+3|30+3|34+3|34+3|34+3|30+3|30+3|32+3|32+3|32+3|30+3|76+1|https://cdn.sofif...|\n",
            "|   162328|/player/162328/re...|          23|          9|      2023-01-13|   R. Pasveer|       Remko Pasveer|              GK|     77|       77|  1200000|    8000| 38|1983-11-08|      187|       88|       10|      Eredivisie|           1|         245|        Ajax|           GK|                22|            null|      2021-07-01|                          2023|            34|     Netherlands|        105035|            SUB|                   1|         Right|        4|          1|                       1|Medium/Medium|Normal (185+)|       No|           1700000|       null|   Comes For Crosses|null|    null|   null|     null|     null|  null|                15|                 12|                        16|                     39|               18|             18|         18|               14|                52|                37|                   46|                   38|              42|                67|              36|              62|           65|           35|            70|              16|                  30|                     13|                   15|              61|                 28|                 63|                         14|                       18|                      20|                75|                  76|                 82|                     78|                  77|               43|32+2|32+2|32+2| 31| 34| 34| 34| 31|37+2|37+2|37+2|34+2|39+2|39+2|39+2|34+2|29+2|34+2|34+2|34+2|29+2|28+2|29+2|29+2|29+2|28+2|76+1|https://cdn.sofif...|\n",
            "|   168435|/player/168435/sa...|          23|          9|      2023-01-13|    S. Sirigu|    Salvatore Sirigu|              GK|     77|       77|  1200000|   23000| 35|1987-01-12|      192|       85|       31|         Serie A|           1|          48|      Napoli|          SUB|                30|            null|      2022-08-11|                          2023|            27|           Italy|          1343|            SUB|                   1|         Right|        2|          1|                       3|Medium/Medium|Normal (185+)|      Yes|           2000000|       null|Solid Player, GK ...|null|    null|   null|     null|     null|  null|                13|                 10|                        11|                     23|               12|             15|         11|               11|                28|                18|                   46|                   46|              52|                74|              55|              55|           68|           34|            66|              14|                  34|                     20|                   10|              55|                 19|                 62|                         14|                       11|                      13|                75|                  73|                 73|                     79|                  75|               46|28+3|28+3|28+3| 27| 28| 28| 28| 27|29+3|29+3|29+3|28+3|29+3|29+3|29+3|28+3|26+3|28+3|28+3|28+3|26+3|25+3|26+3|26+3|26+3|25+3|75+2|https://cdn.sofif...|\n",
            "|   173373|/player/173373/se...|          23|          9|      2023-01-13|    S. Romero|Sergio Germán Romero|              GK|     76|       76|   825000|    8000| 35|1987-02-22|      192|       86|      353|Liga Profesional|           1|        1877|Boca Juniors|          SUB|                25|            null|      2022-08-08|                          2024|            52|       Argentina|          null|           null|                null|         Right|        3|          1|                       3|Medium/Medium|Normal (185+)|      Yes|           1200000|       null|GK Long Throw, Ru...|null|    null|   null|     null|     null|  null|                11|                 14|                        12|                     44|               17|             12|         12|               13|                47|                40|                   47|                   44|              55|                75|              44|              56|           63|           31|            73|              11|                  33|                     21|                   11|              56|                 16|                 62|                         14|                       11|                      15|                76|                  73|                 75|                     74|                  78|               46|32+3|32+3|32+3| 31| 34| 34| 34| 31|37+3|37+3|37+3|34+3|38+3|38+3|38+3|34+3|29+3|35+3|35+3|35+3|29+3|28+3|29+3|29+3|29+3|28+3|75+1|https://cdn.sofif...|\n",
            "|   201325|/player/201325/ci...|          23|          9|      2023-01-13|C. Tătărușanu|Anton Ciprian Tăt...|              GK|     76|       76|   825000|   25000| 36|1986-02-09|      198|       90|       31|         Serie A|           1|          47|       Milan|           GK|                 1|            null|      2020-09-11|                          2023|            39|         Romania|          null|           null|                null|         Right|        3|          1|                       2|Medium/Medium|Normal (185+)|       No|           1400000|       null|Cautious With Cro...|null|    null|   null|     null|     null|  null|                13|                 15|                        15|                     37|               11|             16|         11|               11|                37|                19|                   46|                   43|              51|                74|              38|              55|           65|           42|            73|              12|                  33|                     26|                   13|              49|                 16|                 44|                         12|                       15|                      12|                74|                  74|                 73|                     78|                  77|               45|30+2|30+2|30+2| 28| 30| 30| 30| 28|32+2|32+2|32+2|31+2|33+2|33+2|33+2|31+2|28+2|32+2|32+2|32+2|28+2|28+2|29+2|29+2|29+2|28+2|75+1|https://cdn.sofif...|\n",
            "+---------+--------------------+------------+-----------+----------------+-------------+--------------------+----------------+-------+---------+---------+--------+---+----------+---------+---------+---------+----------------+------------+------------+------------+-------------+------------------+----------------+----------------+------------------------------+--------------+----------------+--------------+---------------+--------------------+--------------+---------+-----------+------------------------+-------------+-------------+---------+------------------+-----------+--------------------+----+--------+-------+---------+---------+------+------------------+-------------------+--------------------------+-----------------------+-----------------+---------------+-----------+-----------------+------------------+------------------+---------------------+---------------------+----------------+------------------+----------------+----------------+-------------+-------------+--------------+----------------+--------------------+-----------------------+---------------------+----------------+-------------------+-------------------+---------------------------+-------------------------+------------------------+------------------+--------------------+-------------------+-----------------------+--------------------+-----------------+----+----+----+---+---+---+---+---+----+----+----+----+----+----+----+----+----+----+----+----+----+----+----+----+----+----+----+--------------------+\n",
            "only showing top 5 rows\n",
            "\n",
            "Count of Veteran + High Value: 1069709\n",
            "+---------+--------------------+------------+-----------+----------------+--------------+--------------------+----------------+-------+---------+---------+--------+---+----------+---------+---------+---------+--------------+------------+------------+-------------------+-------------+------------------+----------------+----------------+------------------------------+--------------+----------------+--------------+---------------+--------------------+--------------+---------+-----------+------------------------+-------------+----------------+---------+------------------+--------------------+--------------------+----+--------+-------+---------+---------+------+------------------+-------------------+--------------------------+-----------------------+-----------------+---------------+-----------+-----------------+------------------+------------------+---------------------+---------------------+----------------+------------------+----------------+----------------+-------------+-------------+--------------+----------------+--------------------+-----------------------+---------------------+----------------+-------------------+-------------------+---------------------------+-------------------------+------------------------+------------------+--------------------+-------------------+-----------------------+--------------------+-----------------+----+----+----+---+---+---+---+---+----+----+----+----+----+----+----+----+----+----+----+----+----+----+----+----+----+----+----+--------------------+\n",
            "|player_id|          player_url|fifa_version|fifa_update|fifa_update_date|    short_name|           long_name|player_positions|overall|potential|value_eur|wage_eur|age|       dob|height_cm|weight_kg|league_id|   league_name|league_level|club_team_id|          club_name|club_position|club_jersey_number|club_loaned_from|club_joined_date|club_contract_valid_until_year|nationality_id|nationality_name|nation_team_id|nation_position|nation_jersey_number|preferred_foot|weak_foot|skill_moves|international_reputation|    work_rate|       body_type|real_face|release_clause_eur|         player_tags|       player_traits|pace|shooting|passing|dribbling|defending|physic|attacking_crossing|attacking_finishing|attacking_heading_accuracy|attacking_short_passing|attacking_volleys|skill_dribbling|skill_curve|skill_fk_accuracy|skill_long_passing|skill_ball_control|movement_acceleration|movement_sprint_speed|movement_agility|movement_reactions|movement_balance|power_shot_power|power_jumping|power_stamina|power_strength|power_long_shots|mentality_aggression|mentality_interceptions|mentality_positioning|mentality_vision|mentality_penalties|mentality_composure|defending_marking_awareness|defending_standing_tackle|defending_sliding_tackle|goalkeeping_diving|goalkeeping_handling|goalkeeping_kicking|goalkeeping_positioning|goalkeeping_reflexes|goalkeeping_speed|  ls|  st|  rs| lw| lf| cf| rf| rw| lam| cam| ram|  lm| lcm|  cm| rcm|  rm| lwb| ldm| cdm| rdm| rwb|  lb| lcb|  cb| rcb|  rb|  gk|     player_face_url|\n",
            "+---------+--------------------+------------+-----------+----------------+--------------+--------------------+----------------+-------+---------+---------+--------+---+----------+---------+---------+---------+--------------+------------+------------+-------------------+-------------+------------------+----------------+----------------+------------------------------+--------------+----------------+--------------+---------------+--------------------+--------------+---------+-----------+------------------------+-------------+----------------+---------+------------------+--------------------+--------------------+----+--------+-------+---------+---------+------+------------------+-------------------+--------------------------+-----------------------+-----------------+---------------+-----------+-----------------+------------------+------------------+---------------------+---------------------+----------------+------------------+----------------+----------------+-------------+-------------+--------------+----------------+--------------------+-----------------------+---------------------+----------------+-------------------+-------------------+---------------------------+-------------------------+------------------------+------------------+--------------------+-------------------+-----------------------+--------------------+-----------------+----+----+----+---+---+---+---+---+----+----+----+----+----+----+----+----+----+----+----+----+----+----+----+----+----+----+----+--------------------+\n",
            "|   158023|/player/158023/li...|          23|          9|      2023-01-13|      L. Messi|Lionel Andrés Mes...|              RW|     91|       91| 54000000|  195000| 35|1987-06-24|      169|       67|       16|       Ligue 1|           1|          73|Paris Saint Germain|           RS|                30|            null|      2021-08-10|                          2023|            52|       Argentina|          1369|             RW|                  10|          Left|        4|          4|                       5|      Low/Low|          Unique|      Yes|          99900000|#Dribbler, #Dista...|Finesse Shot, Lon...|  81|      89|     90|       94|       34|    64|                84|                 90|                        70|                     91|               88|             95|         93|               93|                90|                93|                   87|                   76|              91|                92|              95|              86|           68|           70|            68|              91|                  44|                     40|                   93|              94|                 75|                 96|                         20|                       35|                      24|                 6|                  11|                 15|                     14|                   8|             null|87+3|87+3|87+3| 90| 91| 91| 91| 90|92-1|92-1|92-1|89+2|85+3|85+3|85+3|89+2|64+3|63+3|63+3|63+3|64+3|59+3|50+3|50+3|50+3|59+3|19+3|https://cdn.sofif...|\n",
            "|   165153|/player/165153/ka...|          23|          9|      2023-01-13|    K. Benzema|       Karim Benzema|          CF, ST|     91|       91| 64000000|  450000| 34|1987-12-19|      185|       81|       53|       La Liga|           1|         243|        Real Madrid|           CF|                 9|            null|      2009-07-09|                          2023|            18|          France|          null|           null|                null|         Right|        4|          4|                       4|Medium/Medium|Normal (170-185)|      Yes|         131200000|#Poacher, #Clinic...|Leadership, Fines...|  80|      88|     83|       87|       39|    78|                75|                 92|                        90|                     89|               88|             87|         82|               73|                76|                91|                   79|                   80|              78|                92|              72|              87|           79|           82|            82|              80|                  63|                     39|                   92|              89|                 84|                 90|                         43|                       24|                      18|                13|                  11|                  5|                      5|                   7|             null|89+2|89+2|89+2| 87| 89| 89| 89| 87|88+3|88+3|88+3|86+3|81+3|81+3|81+3|86+3|64+3|64+3|64+3|64+3|64+3|60+3|55+3|55+3|55+3|60+3|18+3|https://cdn.sofif...|\n",
            "|   188545|/player/188545/ro...|          23|          9|      2023-01-13|R. Lewandowski|  Robert Lewandowski|              ST|     91|       91| 84000000|  420000| 33|1988-08-21|      185|       81|       53|       La Liga|           1|         241|       FC Barcelona|           ST|                 9|            null|      2022-07-18|                          2025|            37|          Poland|          1353|             ST|                   9|         Right|        4|          4|                       5|  High/Medium|          Unique|      Yes|         172200000|#Aerial Threat, #...|Solid Player, Fin...|  75|      91|     79|       86|       44|    83|                71|                 94|                        91|                     84|               89|             85|         79|               85|                70|                89|                   76|                   75|              77|                93|              82|              91|           85|           76|            87|              84|                  81|                     49|                   94|              81|                 90|                 88|                         35|                       42|                      19|                15|                   6|                 12|                      8|                  10|             null|89+2|89+2|89+2| 85| 88| 88| 88| 85|85+3|85+3|85+3|83+3|80+3|80+3|80+3|83+3|64+3|66+3|66+3|66+3|64+3|61+3|60+3|60+3|60+3|61+3|19+3|https://cdn.sofif...|\n",
            "|   192985|/player/192985/ke...|          23|          9|      2023-01-13|  K. De Bruyne|     Kevin De Bruyne|         CM, CAM|     91|       91|107500000|  350000| 31|1991-06-28|      181|       75|       13|Premier League|           1|          10|    Manchester City|          RCM|                17|            null|      2015-08-30|                          2025|             7|         Belgium|          1325|             RF|                   7|         Right|        5|          4|                       4|  High/Medium|          Unique|      Yes|         198900000|#Dribbler, #Playm...|Injury Prone, Lea...|  74|      88|     93|       87|       63|    77|                94|                 85|                        55|                     93|               83|             87|         89|               83|                93|                90|                   76|                   73|              76|                91|              78|              92|           63|           89|            74|              91|                  75|                     64|                   88|              94|                 83|                 89|                         65|                       65|                      53|                15|                  13|                  5|                     10|                  13|             null|83+3|83+3|83+3| 87| 87| 87| 87| 87|89+2|89+2|89+2|88+3|89+2|89+2|89+2|88+3|78+3|79+3|79+3|79+3|78+3|74+3|68+3|68+3|68+3|74+3|21+3|https://cdn.sofif...|\n",
            "|   192119|/player/192119/th...|          23|          9|      2023-01-13|   T. Courtois|Thibaut Nicolas M...|              GK|     90|       91| 90000000|  250000| 30|1992-05-11|      199|       96|       53|       La Liga|           1|         243|        Real Madrid|           GK|                 1|            null|      2018-08-09|                          2026|             7|         Belgium|          1325|             GK|                   1|          Left|        3|          1|                       4|Medium/Medium|          Unique|      Yes|         191300000|                null|GK Long Throw, Co...|null|    null|   null|     null|     null|  null|                14|                 14|                        13|                     33|               12|             13|         19|               20|                35|                23|                   42|                   52|              63|                84|              45|              56|           68|           38|            70|              17|                  23|                     15|                   13|              44|                 27|                 66|                         20|                       18|                      16|                84|                  89|                 75|                     89|                  90|               46|31+3|31+3|31+3| 29| 31| 31| 31| 29|32+3|32+3|32+3|31+3|32+3|32+3|32+3|31+3|29+3|31+3|31+3|31+3|29+3|29+3|29+3|29+3|29+3|29+3|87+3|https://cdn.sofif...|\n",
            "+---------+--------------------+------------+-----------+----------------+--------------+--------------------+----------------+-------+---------+---------+--------+---+----------+---------+---------+---------+--------------+------------+------------+-------------------+-------------+------------------+----------------+----------------+------------------------------+--------------+----------------+--------------+---------------+--------------------+--------------+---------+-----------+------------------------+-------------+----------------+---------+------------------+--------------------+--------------------+----+--------+-------+---------+---------+------+------------------+-------------------+--------------------------+-----------------------+-----------------+---------------+-----------+-----------------+------------------+------------------+---------------------+---------------------+----------------+------------------+----------------+----------------+-------------+-------------+--------------+----------------+--------------------+-----------------------+---------------------+----------------+-------------------+-------------------+---------------------------+-------------------------+------------------------+------------------+--------------------+-------------------+-----------------------+--------------------+-----------------+----+----+----+---+---+---+---+---+----+----+----+----+----+----+----+----+----+----+----+----+----+----+----+----+----+----+----+--------------------+\n",
            "only showing top 5 rows\n",
            "\n"
          ]
        }
      ]
    },
    {
      "cell_type": "code",
      "source": [
        "print(\"Conteos por partición:\")\n",
        "print(\"Joven + Bajo:\", part_1.count())\n",
        "print(\"Joven + Medio:\", part_2.count())\n",
        "print(\"Joven + Alto:\", part_3.count())\n",
        "print(\"Adulto + Bajo:\", part_4.count())\n",
        "print(\"Adulto + Medio:\", part_5.count())\n",
        "print(\"Adulto + Alto:\", part_6.count())\n",
        "print(\"Veterano + Bajo:\", part_7.count())\n",
        "print(\"Veterano + Medio:\", part_8.count())\n",
        "print(\"Veterano + Alto:\", part_9.count())\n"
      ],
      "metadata": {
        "colab": {
          "base_uri": "https://localhost:8080/"
        },
        "id": "IJ7JaE_pu2Uh",
        "outputId": "d4bccb25-8e24-4388-cf5c-0999cf96aa6e"
      },
      "id": "IJ7JaE_pu2Uh",
      "execution_count": 11,
      "outputs": [
        {
          "output_type": "stream",
          "name": "stdout",
          "text": [
            "Conteos por partición:\n",
            "Joven + Bajo: 1815945\n",
            "Joven + Medio: 1012036\n",
            "Joven + Alto: 737680\n",
            "Adulto + Bajo: 779122\n",
            "Adulto + Medio: 1268880\n",
            "Adulto + Alto: 1412641\n",
            "Veterano + Bajo: 852250\n",
            "Veterano + Medio: 922530\n",
            "Veterano + Alto: 1069709\n"
          ]
        }
      ]
    },
    {
      "cell_type": "markdown",
      "source": [],
      "metadata": {
        "id": "xbt4zarBxr64"
      },
      "id": "xbt4zarBxr64"
    },
    {
      "cell_type": "markdown",
      "source": [
        "Análisis de Resultados de Particiones\n",
        "Conteos de Particiones: Al imprimir el conteo de cada partición, puedes observar la cantidad de jugadores que caen en cada categoría. Esto te dará una idea de cómo se distribuyen los jugadores de fútbol según la edad y el valor de mercado.\n",
        "\n",
        "Ejemplos de Particiones: Al mostrar las primeras cinco filas de cada partición con .show(5), puedes inspeccionar los datos específicos que pertenecen a cada categoría. Esto es útil para validar que las reglas de particionamiento funcionaron como se esperaba.\n",
        "\n",
        "Interpretación de Particiones:\n",
        "\n",
        "Jóvenes: Los jugadores con 22 años o menos podrían ser considerados talentos emergentes, y su valorización en el mercado puede ser crucial para la estrategia de reclutamiento.\n",
        "Adultos y Veteranos: Las distintas categorías de adultos (por ejemplo, entre 22 y 27) y veteranos (28 años en adelante) también ofrecen perspectivas sobre las etapas de carrera de los jugadores, donde su valor podría estar relacionado con su experiencia y desempeño a lo largo del tiempo."
      ],
      "metadata": {
        "id": "eo3fiVb3xsE9"
      },
      "id": "eo3fiVb3xsE9"
    },
    {
      "cell_type": "markdown",
      "source": [
        " **PASO 2: PREPARACION DE LOS DATOS**"
      ],
      "metadata": {
        "id": "7r5N4nYsx4Bg"
      },
      "id": "7r5N4nYsx4Bg"
    },
    {
      "cell_type": "code",
      "source": [],
      "metadata": {
        "id": "pUUwM7Iyu2Xc"
      },
      "id": "pUUwM7Iyu2Xc",
      "execution_count": null,
      "outputs": []
    },
    {
      "cell_type": "code",
      "source": [
        "# Importación de las librerías necesarias\n",
        "from pyspark.sql import functions as F\n",
        "from pyspark.sql.functions import col\n",
        "\n",
        "# Mostrar el esquema del DataFrame original para entender los tipos de datos\n",
        "print(\"Esquema del DataFrame original:\")\n",
        "df.printSchema()"
      ],
      "metadata": {
        "colab": {
          "base_uri": "https://localhost:8080/"
        },
        "id": "J_gCzQgizCP0",
        "outputId": "e592681e-9819-43c8-8e69-d814eabc6bdc"
      },
      "id": "J_gCzQgizCP0",
      "execution_count": 12,
      "outputs": [
        {
          "output_type": "stream",
          "name": "stdout",
          "text": [
            "Esquema del DataFrame original:\n",
            "root\n",
            " |-- player_id: integer (nullable = true)\n",
            " |-- player_url: string (nullable = true)\n",
            " |-- fifa_version: integer (nullable = true)\n",
            " |-- fifa_update: integer (nullable = true)\n",
            " |-- fifa_update_date: string (nullable = true)\n",
            " |-- short_name: string (nullable = true)\n",
            " |-- long_name: string (nullable = true)\n",
            " |-- player_positions: string (nullable = true)\n",
            " |-- overall: integer (nullable = true)\n",
            " |-- potential: integer (nullable = true)\n",
            " |-- value_eur: integer (nullable = true)\n",
            " |-- wage_eur: integer (nullable = true)\n",
            " |-- age: integer (nullable = true)\n",
            " |-- dob: string (nullable = true)\n",
            " |-- height_cm: integer (nullable = true)\n",
            " |-- weight_kg: integer (nullable = true)\n",
            " |-- league_id: integer (nullable = true)\n",
            " |-- league_name: string (nullable = true)\n",
            " |-- league_level: integer (nullable = true)\n",
            " |-- club_team_id: integer (nullable = true)\n",
            " |-- club_name: string (nullable = true)\n",
            " |-- club_position: string (nullable = true)\n",
            " |-- club_jersey_number: integer (nullable = true)\n",
            " |-- club_loaned_from: string (nullable = true)\n",
            " |-- club_joined_date: string (nullable = true)\n",
            " |-- club_contract_valid_until_year: integer (nullable = true)\n",
            " |-- nationality_id: integer (nullable = true)\n",
            " |-- nationality_name: string (nullable = true)\n",
            " |-- nation_team_id: integer (nullable = true)\n",
            " |-- nation_position: string (nullable = true)\n",
            " |-- nation_jersey_number: integer (nullable = true)\n",
            " |-- preferred_foot: string (nullable = true)\n",
            " |-- weak_foot: integer (nullable = true)\n",
            " |-- skill_moves: integer (nullable = true)\n",
            " |-- international_reputation: integer (nullable = true)\n",
            " |-- work_rate: string (nullable = true)\n",
            " |-- body_type: string (nullable = true)\n",
            " |-- real_face: string (nullable = true)\n",
            " |-- release_clause_eur: integer (nullable = true)\n",
            " |-- player_tags: string (nullable = true)\n",
            " |-- player_traits: string (nullable = true)\n",
            " |-- pace: integer (nullable = true)\n",
            " |-- shooting: integer (nullable = true)\n",
            " |-- passing: integer (nullable = true)\n",
            " |-- dribbling: integer (nullable = true)\n",
            " |-- defending: integer (nullable = true)\n",
            " |-- physic: integer (nullable = true)\n",
            " |-- attacking_crossing: integer (nullable = true)\n",
            " |-- attacking_finishing: integer (nullable = true)\n",
            " |-- attacking_heading_accuracy: integer (nullable = true)\n",
            " |-- attacking_short_passing: integer (nullable = true)\n",
            " |-- attacking_volleys: integer (nullable = true)\n",
            " |-- skill_dribbling: integer (nullable = true)\n",
            " |-- skill_curve: integer (nullable = true)\n",
            " |-- skill_fk_accuracy: integer (nullable = true)\n",
            " |-- skill_long_passing: integer (nullable = true)\n",
            " |-- skill_ball_control: integer (nullable = true)\n",
            " |-- movement_acceleration: integer (nullable = true)\n",
            " |-- movement_sprint_speed: integer (nullable = true)\n",
            " |-- movement_agility: integer (nullable = true)\n",
            " |-- movement_reactions: integer (nullable = true)\n",
            " |-- movement_balance: integer (nullable = true)\n",
            " |-- power_shot_power: integer (nullable = true)\n",
            " |-- power_jumping: integer (nullable = true)\n",
            " |-- power_stamina: integer (nullable = true)\n",
            " |-- power_strength: integer (nullable = true)\n",
            " |-- power_long_shots: integer (nullable = true)\n",
            " |-- mentality_aggression: integer (nullable = true)\n",
            " |-- mentality_interceptions: integer (nullable = true)\n",
            " |-- mentality_positioning: integer (nullable = true)\n",
            " |-- mentality_vision: integer (nullable = true)\n",
            " |-- mentality_penalties: integer (nullable = true)\n",
            " |-- mentality_composure: integer (nullable = true)\n",
            " |-- defending_marking_awareness: integer (nullable = true)\n",
            " |-- defending_standing_tackle: integer (nullable = true)\n",
            " |-- defending_sliding_tackle: integer (nullable = true)\n",
            " |-- goalkeeping_diving: integer (nullable = true)\n",
            " |-- goalkeeping_handling: integer (nullable = true)\n",
            " |-- goalkeeping_kicking: integer (nullable = true)\n",
            " |-- goalkeeping_positioning: integer (nullable = true)\n",
            " |-- goalkeeping_reflexes: integer (nullable = true)\n",
            " |-- goalkeeping_speed: integer (nullable = true)\n",
            " |-- ls: string (nullable = true)\n",
            " |-- st: string (nullable = true)\n",
            " |-- rs: string (nullable = true)\n",
            " |-- lw: string (nullable = true)\n",
            " |-- lf: string (nullable = true)\n",
            " |-- cf: string (nullable = true)\n",
            " |-- rf: string (nullable = true)\n",
            " |-- rw: string (nullable = true)\n",
            " |-- lam: string (nullable = true)\n",
            " |-- cam: string (nullable = true)\n",
            " |-- ram: string (nullable = true)\n",
            " |-- lm: string (nullable = true)\n",
            " |-- lcm: string (nullable = true)\n",
            " |-- cm: string (nullable = true)\n",
            " |-- rcm: string (nullable = true)\n",
            " |-- rm: string (nullable = true)\n",
            " |-- lwb: string (nullable = true)\n",
            " |-- ldm: string (nullable = true)\n",
            " |-- cdm: string (nullable = true)\n",
            " |-- rdm: string (nullable = true)\n",
            " |-- rwb: string (nullable = true)\n",
            " |-- lb: string (nullable = true)\n",
            " |-- lcb: string (nullable = true)\n",
            " |-- cb: string (nullable = true)\n",
            " |-- rcb: string (nullable = true)\n",
            " |-- rb: string (nullable = true)\n",
            " |-- gk: string (nullable = true)\n",
            " |-- player_face_url: string (nullable = true)\n",
            "\n"
          ]
        }
      ]
    },
    {
      "cell_type": "markdown",
      "source": [
        "Aquí se desarrolla lo siguiente: A continuación, verificaré cuántos valores nulos existen en cada columna del DataFrame. La limpieza de datos requiere que abordemos estos valores nulos para asegurarnos de que el análisis posterior sea fiable. Dependiendo de la cantidad de nulos, puedo optar por eliminar filas, rellenar valores o realizar alguna sustitución."
      ],
      "metadata": {
        "id": "qGMdMpd6zJX0"
      },
      "id": "qGMdMpd6zJX0"
    },
    {
      "cell_type": "code",
      "source": [
        "# Comprobar la cantidad de valores nulos en cada columna\n",
        "nulos = df.select([F.count(F.when(F.col(c).isNull(), c)).alias(c) for c in df.columns])\n",
        "print(\"Conteo de valores nulos en cada columna:\")\n",
        "nulos.show()"
      ],
      "metadata": {
        "colab": {
          "base_uri": "https://localhost:8080/"
        },
        "id": "lRWgLtclu2bb",
        "outputId": "67fb9a3e-8e9e-4eae-fbcf-e7cb5a88274c"
      },
      "id": "lRWgLtclu2bb",
      "execution_count": 13,
      "outputs": [
        {
          "output_type": "stream",
          "name": "stdout",
          "text": [
            "Conteo de valores nulos en cada columna:\n",
            "+---------+----------+------------+-----------+----------------+----------+---------+----------------+-------+---------+---------+--------+---+---+---------+---------+---------+-----------+------------+------------+---------+-------------+------------------+----------------+----------------+------------------------------+--------------+----------------+--------------+---------------+--------------------+--------------+---------+-----------+------------------------+---------+---------+---------+------------------+-----------+-------------+-------+--------+-------+---------+---------+-------+------------------+-------------------+--------------------------+-----------------------+-----------------+---------------+-----------+-----------------+------------------+------------------+---------------------+---------------------+----------------+------------------+----------------+----------------+-------------+-------------+--------------+----------------+--------------------+-----------------------+---------------------+----------------+-------------------+-------------------+---------------------------+-------------------------+------------------------+------------------+--------------------+-------------------+-----------------------+--------------------+-----------------+---+---+---+---+---+---+---+---+---+---+---+---+---+---+---+---+---+---+---+---+---+---+---+---+---+---+---+---------------+\n",
            "|player_id|player_url|fifa_version|fifa_update|fifa_update_date|short_name|long_name|player_positions|overall|potential|value_eur|wage_eur|age|dob|height_cm|weight_kg|league_id|league_name|league_level|club_team_id|club_name|club_position|club_jersey_number|club_loaned_from|club_joined_date|club_contract_valid_until_year|nationality_id|nationality_name|nation_team_id|nation_position|nation_jersey_number|preferred_foot|weak_foot|skill_moves|international_reputation|work_rate|body_type|real_face|release_clause_eur|player_tags|player_traits|   pace|shooting|passing|dribbling|defending| physic|attacking_crossing|attacking_finishing|attacking_heading_accuracy|attacking_short_passing|attacking_volleys|skill_dribbling|skill_curve|skill_fk_accuracy|skill_long_passing|skill_ball_control|movement_acceleration|movement_sprint_speed|movement_agility|movement_reactions|movement_balance|power_shot_power|power_jumping|power_stamina|power_strength|power_long_shots|mentality_aggression|mentality_interceptions|mentality_positioning|mentality_vision|mentality_penalties|mentality_composure|defending_marking_awareness|defending_standing_tackle|defending_sliding_tackle|goalkeeping_diving|goalkeeping_handling|goalkeeping_kicking|goalkeeping_positioning|goalkeeping_reflexes|goalkeeping_speed| ls| st| rs| lw| lf| cf| rf| rw|lam|cam|ram| lm|lcm| cm|rcm| rm|lwb|ldm|cdm|rdm|rwb| lb|lcb| cb|rcb| rb| gk|player_face_url|\n",
            "+---------+----------+------------+-----------+----------------+----------+---------+----------------+-------+---------+---------+--------+---+---+---------+---------+---------+-----------+------------+------------+---------+-------------+------------------+----------------+----------------+------------------------------+--------------+----------------+--------------+---------------+--------------------+--------------+---------+-----------+------------------------+---------+---------+---------+------------------+-----------+-------------+-------+--------+-------+---------+---------+-------+------------------+-------------------+--------------------------+-----------------------+-----------------+---------------+-----------+-----------------+------------------+------------------+---------------------+---------------------+----------------+------------------+----------------+----------------+-------------+-------------+--------------+----------------+--------------------+-----------------------+---------------------+----------------+-------------------+-------------------+---------------------------+-------------------------+------------------------+------------------+--------------------+-------------------+-----------------------+--------------------+-----------------+---+---+---+---+---+---+---+---+---+---+---+---+---+---+---+---+---+---+---+---+---+---+---+---+---+---+---+---------------+\n",
            "|        0|         0|           0|          0|               0|         0|        0|               0|      0|        0|   132797|  115974|  0|  0|        0|        0|   116395|     116395|      170349|      116395|   116395|       116395|            116395|         9299422|          820563|                        116395|             0|               0|       9410000|        9410000|             9410000|             0|        0|          0|                       0|        0|        0|        0|           4094223|    9238676|      5353356|1121112| 1121112|1121112|  1121112|  1121112|1121112|                 0|                  0|                         0|                      0|                0|              0|          0|                0|                 0|                 0|                    0|                    0|               0|                 0|               0|               0|            0|            0|             0|               0|                   0|                      0|                    0|               0|                  0|            1948724|                          0|                        0|                       0|                 0|                   0|                  0|                      0|                   0|          8882723|  0|  0|  0|  0|  0|  0|  0|  0|  0|  0|  0|  0|  0|  0|  0|  0|  0|  0|  0|  0|  0|  0|  0|  0|  0|  0|  0|              0|\n",
            "+---------+----------+------------+-----------+----------------+----------+---------+----------------+-------+---------+---------+--------+---+---+---------+---------+---------+-----------+------------+------------+---------+-------------+------------------+----------------+----------------+------------------------------+--------------+----------------+--------------+---------------+--------------------+--------------+---------+-----------+------------------------+---------+---------+---------+------------------+-----------+-------------+-------+--------+-------+---------+---------+-------+------------------+-------------------+--------------------------+-----------------------+-----------------+---------------+-----------+-----------------+------------------+------------------+---------------------+---------------------+----------------+------------------+----------------+----------------+-------------+-------------+--------------+----------------+--------------------+-----------------------+---------------------+----------------+-------------------+-------------------+---------------------------+-------------------------+------------------------+------------------+--------------------+-------------------+-----------------------+--------------------+-----------------+---+---+---+---+---+---+---+---+---+---+---+---+---+---+---+---+---+---+---+---+---+---+---+---+---+---+---+---------------+\n",
            "\n"
          ]
        }
      ]
    },
    {
      "cell_type": "markdown",
      "source": [
        "Aquí se desarrolla lo siguiente: En este paso, eliminaré las filas que tienen valores nulos en columnas críticas como short_name, age y value_eur. La decisión de eliminar filas con nulos se toma porque estas columnas son esenciales para el análisis y cualquier dato faltante afecta la calidad de los resultados."
      ],
      "metadata": {
        "id": "Wi8rVcSyzMTi"
      },
      "id": "Wi8rVcSyzMTi"
    },
    {
      "cell_type": "code",
      "source": [
        "# Ejemplo de imputación: Retirando registros con valores nulos en columnas críticas\n",
        "df_cleaned = df.dropna(subset=[\"short_name\", \"age\", \"value_eur\"])\n",
        "print(\"Conteo después de eliminar nulos:\")\n",
        "df_cleaned.count()"
      ],
      "metadata": {
        "colab": {
          "base_uri": "https://localhost:8080/"
        },
        "id": "U_kAA7HUzPYU",
        "outputId": "a65477d2-35bd-4b8b-88ff-62e6853a2360"
      },
      "id": "U_kAA7HUzPYU",
      "execution_count": 14,
      "outputs": [
        {
          "output_type": "stream",
          "name": "stdout",
          "text": [
            "Conteo después de eliminar nulos:\n"
          ]
        },
        {
          "output_type": "execute_result",
          "data": {
            "text/plain": [
              "9870793"
            ]
          },
          "metadata": {},
          "execution_count": 14
        }
      ]
    },
    {
      "cell_type": "markdown",
      "source": [
        "**Conversión de Tipos de Datos**"
      ],
      "metadata": {
        "id": "s55o1OiDzZ3T"
      },
      "id": "s55o1OiDzZ3T"
    },
    {
      "cell_type": "markdown",
      "source": [
        "A continuación, convierto la columna age a un tipo de dato entero y value_eur a tipo numérico (doble). Asegurar que estas columnas tengan el tipo correcto es crucial, ya que afectará las operaciones matemáticas y estadísticas que realicemos más adelante."
      ],
      "metadata": {
        "id": "qz_gr-dwzaPK"
      },
      "id": "qz_gr-dwzaPK"
    },
    {
      "cell_type": "code",
      "source": [
        "# Convertir la columna 'age' a tipo entero si no lo es\n",
        "df_cleaned = df_cleaned.withColumn(\"age\", col(\"age\").cast(\"integer\"))\n",
        "\n",
        "# Asegurarse de que 'value_eur' sea de tipo numérico\n",
        "df_cleaned = df_cleaned.withColumn(\"value_eur\", col(\"value_eur\").cast(\"double\"))"
      ],
      "metadata": {
        "id": "xi7hO6N6zaWW"
      },
      "id": "xi7hO6N6zaWW",
      "execution_count": 15,
      "outputs": []
    },
    {
      "cell_type": "markdown",
      "source": [
        "**Detección y Manejo de Outliers**"
      ],
      "metadata": {
        "id": "p6pnZmk4zkiK"
      },
      "id": "p6pnZmk4zkiK"
    },
    {
      "cell_type": "markdown",
      "source": [
        "En este paso, calcularé estadísticas descriptivas para evaluar las distribuciones de la edad y el valor en euros. Posteriormente, definiré un rango aceptable para las edades y los valores de mercado. Los valores que caigan fuera de estos rangos se consideran outliers y los filtraremos del DataFrame para evitar que distorsionen los análisis posteriores."
      ],
      "metadata": {
        "id": "wHoEijbvzn8A"
      },
      "id": "wHoEijbvzn8A"
    },
    {
      "cell_type": "code",
      "source": [
        "# Cálculo de estadísticas descriptivas para detectar outliers\n",
        "estadisticas = df_cleaned.describe([\"age\", \"value_eur\"])\n",
        "estadisticas.show()\n",
        "\n",
        "# Definimos un rango para los valores\n",
        "rango_age = (0, 40)  # Rango de ejemplo para la edad\n",
        "rango_value = (0, 200000000)  # Rango de ejemplo para el valor en euros\n",
        "\n",
        "# Filtrar los outliers mediante el uso de condiciones\n",
        "df_cleaned = df_cleaned.filter((col(\"age\").between(*rango_age)) & (col(\"value_eur\").between(*rango_value)))"
      ],
      "metadata": {
        "colab": {
          "base_uri": "https://localhost:8080/"
        },
        "id": "-vM51WCTzqXz",
        "outputId": "078a7f3c-fc04-4fe3-94fc-703d811770ca"
      },
      "id": "-vM51WCTzqXz",
      "execution_count": 16,
      "outputs": [
        {
          "output_type": "stream",
          "name": "stdout",
          "text": [
            "+-------+------------------+------------------+\n",
            "|summary|               age|         value_eur|\n",
            "+-------+------------------+------------------+\n",
            "|  count|           9870793|           9870793|\n",
            "|   mean|24.797871761671022|2292345.6635145727|\n",
            "| stddev| 4.672274223218144| 5781917.296432469|\n",
            "|    min|                15|            1000.0|\n",
            "|    max|                55|            1.94E8|\n",
            "+-------+------------------+------------------+\n",
            "\n"
          ]
        }
      ]
    },
    {
      "cell_type": "markdown",
      "source": [
        "Final processing of data"
      ],
      "metadata": {
        "id": "cxlQqKk1z4US"
      },
      "id": "cxlQqKk1z4US"
    },
    {
      "cell_type": "code",
      "source": [
        "print(\"Esquema del DataFrame preprocesado:\")\n",
        "df_cleaned.printSchema()\n",
        "\n",
        "# Mostrar las primeras filas del DataFrame limpio\n",
        "df_cleaned.show(5)"
      ],
      "metadata": {
        "colab": {
          "base_uri": "https://localhost:8080/"
        },
        "id": "nJSEKRBnz4jm",
        "outputId": "14d25640-b3ad-4449-dbd4-6883f884e885"
      },
      "id": "nJSEKRBnz4jm",
      "execution_count": 17,
      "outputs": [
        {
          "output_type": "stream",
          "name": "stdout",
          "text": [
            "Esquema del DataFrame preprocesado:\n",
            "root\n",
            " |-- player_id: integer (nullable = true)\n",
            " |-- player_url: string (nullable = true)\n",
            " |-- fifa_version: integer (nullable = true)\n",
            " |-- fifa_update: integer (nullable = true)\n",
            " |-- fifa_update_date: string (nullable = true)\n",
            " |-- short_name: string (nullable = true)\n",
            " |-- long_name: string (nullable = true)\n",
            " |-- player_positions: string (nullable = true)\n",
            " |-- overall: integer (nullable = true)\n",
            " |-- potential: integer (nullable = true)\n",
            " |-- value_eur: double (nullable = true)\n",
            " |-- wage_eur: integer (nullable = true)\n",
            " |-- age: integer (nullable = true)\n",
            " |-- dob: string (nullable = true)\n",
            " |-- height_cm: integer (nullable = true)\n",
            " |-- weight_kg: integer (nullable = true)\n",
            " |-- league_id: integer (nullable = true)\n",
            " |-- league_name: string (nullable = true)\n",
            " |-- league_level: integer (nullable = true)\n",
            " |-- club_team_id: integer (nullable = true)\n",
            " |-- club_name: string (nullable = true)\n",
            " |-- club_position: string (nullable = true)\n",
            " |-- club_jersey_number: integer (nullable = true)\n",
            " |-- club_loaned_from: string (nullable = true)\n",
            " |-- club_joined_date: string (nullable = true)\n",
            " |-- club_contract_valid_until_year: integer (nullable = true)\n",
            " |-- nationality_id: integer (nullable = true)\n",
            " |-- nationality_name: string (nullable = true)\n",
            " |-- nation_team_id: integer (nullable = true)\n",
            " |-- nation_position: string (nullable = true)\n",
            " |-- nation_jersey_number: integer (nullable = true)\n",
            " |-- preferred_foot: string (nullable = true)\n",
            " |-- weak_foot: integer (nullable = true)\n",
            " |-- skill_moves: integer (nullable = true)\n",
            " |-- international_reputation: integer (nullable = true)\n",
            " |-- work_rate: string (nullable = true)\n",
            " |-- body_type: string (nullable = true)\n",
            " |-- real_face: string (nullable = true)\n",
            " |-- release_clause_eur: integer (nullable = true)\n",
            " |-- player_tags: string (nullable = true)\n",
            " |-- player_traits: string (nullable = true)\n",
            " |-- pace: integer (nullable = true)\n",
            " |-- shooting: integer (nullable = true)\n",
            " |-- passing: integer (nullable = true)\n",
            " |-- dribbling: integer (nullable = true)\n",
            " |-- defending: integer (nullable = true)\n",
            " |-- physic: integer (nullable = true)\n",
            " |-- attacking_crossing: integer (nullable = true)\n",
            " |-- attacking_finishing: integer (nullable = true)\n",
            " |-- attacking_heading_accuracy: integer (nullable = true)\n",
            " |-- attacking_short_passing: integer (nullable = true)\n",
            " |-- attacking_volleys: integer (nullable = true)\n",
            " |-- skill_dribbling: integer (nullable = true)\n",
            " |-- skill_curve: integer (nullable = true)\n",
            " |-- skill_fk_accuracy: integer (nullable = true)\n",
            " |-- skill_long_passing: integer (nullable = true)\n",
            " |-- skill_ball_control: integer (nullable = true)\n",
            " |-- movement_acceleration: integer (nullable = true)\n",
            " |-- movement_sprint_speed: integer (nullable = true)\n",
            " |-- movement_agility: integer (nullable = true)\n",
            " |-- movement_reactions: integer (nullable = true)\n",
            " |-- movement_balance: integer (nullable = true)\n",
            " |-- power_shot_power: integer (nullable = true)\n",
            " |-- power_jumping: integer (nullable = true)\n",
            " |-- power_stamina: integer (nullable = true)\n",
            " |-- power_strength: integer (nullable = true)\n",
            " |-- power_long_shots: integer (nullable = true)\n",
            " |-- mentality_aggression: integer (nullable = true)\n",
            " |-- mentality_interceptions: integer (nullable = true)\n",
            " |-- mentality_positioning: integer (nullable = true)\n",
            " |-- mentality_vision: integer (nullable = true)\n",
            " |-- mentality_penalties: integer (nullable = true)\n",
            " |-- mentality_composure: integer (nullable = true)\n",
            " |-- defending_marking_awareness: integer (nullable = true)\n",
            " |-- defending_standing_tackle: integer (nullable = true)\n",
            " |-- defending_sliding_tackle: integer (nullable = true)\n",
            " |-- goalkeeping_diving: integer (nullable = true)\n",
            " |-- goalkeeping_handling: integer (nullable = true)\n",
            " |-- goalkeeping_kicking: integer (nullable = true)\n",
            " |-- goalkeeping_positioning: integer (nullable = true)\n",
            " |-- goalkeeping_reflexes: integer (nullable = true)\n",
            " |-- goalkeeping_speed: integer (nullable = true)\n",
            " |-- ls: string (nullable = true)\n",
            " |-- st: string (nullable = true)\n",
            " |-- rs: string (nullable = true)\n",
            " |-- lw: string (nullable = true)\n",
            " |-- lf: string (nullable = true)\n",
            " |-- cf: string (nullable = true)\n",
            " |-- rf: string (nullable = true)\n",
            " |-- rw: string (nullable = true)\n",
            " |-- lam: string (nullable = true)\n",
            " |-- cam: string (nullable = true)\n",
            " |-- ram: string (nullable = true)\n",
            " |-- lm: string (nullable = true)\n",
            " |-- lcm: string (nullable = true)\n",
            " |-- cm: string (nullable = true)\n",
            " |-- rcm: string (nullable = true)\n",
            " |-- rm: string (nullable = true)\n",
            " |-- lwb: string (nullable = true)\n",
            " |-- ldm: string (nullable = true)\n",
            " |-- cdm: string (nullable = true)\n",
            " |-- rdm: string (nullable = true)\n",
            " |-- rwb: string (nullable = true)\n",
            " |-- lb: string (nullable = true)\n",
            " |-- lcb: string (nullable = true)\n",
            " |-- cb: string (nullable = true)\n",
            " |-- rcb: string (nullable = true)\n",
            " |-- rb: string (nullable = true)\n",
            " |-- gk: string (nullable = true)\n",
            " |-- player_face_url: string (nullable = true)\n",
            "\n",
            "+---------+--------------------+------------+-----------+----------------+--------------+--------------------+----------------+-------+---------+---------+--------+---+----------+---------+---------+---------+--------------+------------+------------+-------------------+-------------+------------------+----------------+----------------+------------------------------+--------------+----------------+--------------+---------------+--------------------+--------------+---------+-----------+------------------------+-------------+----------------+---------+------------------+--------------------+--------------------+----+--------+-------+---------+---------+------+------------------+-------------------+--------------------------+-----------------------+-----------------+---------------+-----------+-----------------+------------------+------------------+---------------------+---------------------+----------------+------------------+----------------+----------------+-------------+-------------+--------------+----------------+--------------------+-----------------------+---------------------+----------------+-------------------+-------------------+---------------------------+-------------------------+------------------------+------------------+--------------------+-------------------+-----------------------+--------------------+-----------------+----+----+----+---+---+---+---+---+----+----+----+----+----+----+----+----+----+----+----+----+----+----+----+----+----+----+----+--------------------+\n",
            "|player_id|          player_url|fifa_version|fifa_update|fifa_update_date|    short_name|           long_name|player_positions|overall|potential|value_eur|wage_eur|age|       dob|height_cm|weight_kg|league_id|   league_name|league_level|club_team_id|          club_name|club_position|club_jersey_number|club_loaned_from|club_joined_date|club_contract_valid_until_year|nationality_id|nationality_name|nation_team_id|nation_position|nation_jersey_number|preferred_foot|weak_foot|skill_moves|international_reputation|    work_rate|       body_type|real_face|release_clause_eur|         player_tags|       player_traits|pace|shooting|passing|dribbling|defending|physic|attacking_crossing|attacking_finishing|attacking_heading_accuracy|attacking_short_passing|attacking_volleys|skill_dribbling|skill_curve|skill_fk_accuracy|skill_long_passing|skill_ball_control|movement_acceleration|movement_sprint_speed|movement_agility|movement_reactions|movement_balance|power_shot_power|power_jumping|power_stamina|power_strength|power_long_shots|mentality_aggression|mentality_interceptions|mentality_positioning|mentality_vision|mentality_penalties|mentality_composure|defending_marking_awareness|defending_standing_tackle|defending_sliding_tackle|goalkeeping_diving|goalkeeping_handling|goalkeeping_kicking|goalkeeping_positioning|goalkeeping_reflexes|goalkeeping_speed|  ls|  st|  rs| lw| lf| cf| rf| rw| lam| cam| ram|  lm| lcm|  cm| rcm|  rm| lwb| ldm| cdm| rdm| rwb|  lb| lcb|  cb| rcb|  rb|  gk|     player_face_url|\n",
            "+---------+--------------------+------------+-----------+----------------+--------------+--------------------+----------------+-------+---------+---------+--------+---+----------+---------+---------+---------+--------------+------------+------------+-------------------+-------------+------------------+----------------+----------------+------------------------------+--------------+----------------+--------------+---------------+--------------------+--------------+---------+-----------+------------------------+-------------+----------------+---------+------------------+--------------------+--------------------+----+--------+-------+---------+---------+------+------------------+-------------------+--------------------------+-----------------------+-----------------+---------------+-----------+-----------------+------------------+------------------+---------------------+---------------------+----------------+------------------+----------------+----------------+-------------+-------------+--------------+----------------+--------------------+-----------------------+---------------------+----------------+-------------------+-------------------+---------------------------+-------------------------+------------------------+------------------+--------------------+-------------------+-----------------------+--------------------+-----------------+----+----+----+---+---+---+---+---+----+----+----+----+----+----+----+----+----+----+----+----+----+----+----+----+----+----+----+--------------------+\n",
            "|   158023|/player/158023/li...|          23|          9|      2023-01-13|      L. Messi|Lionel Andrés Mes...|              RW|     91|       91|    5.4E7|  195000| 35|1987-06-24|      169|       67|       16|       Ligue 1|           1|          73|Paris Saint Germain|           RS|                30|            null|      2021-08-10|                          2023|            52|       Argentina|          1369|             RW|                  10|          Left|        4|          4|                       5|      Low/Low|          Unique|      Yes|          99900000|#Dribbler, #Dista...|Finesse Shot, Lon...|  81|      89|     90|       94|       34|    64|                84|                 90|                        70|                     91|               88|             95|         93|               93|                90|                93|                   87|                   76|              91|                92|              95|              86|           68|           70|            68|              91|                  44|                     40|                   93|              94|                 75|                 96|                         20|                       35|                      24|                 6|                  11|                 15|                     14|                   8|             null|87+3|87+3|87+3| 90| 91| 91| 91| 90|92-1|92-1|92-1|89+2|85+3|85+3|85+3|89+2|64+3|63+3|63+3|63+3|64+3|59+3|50+3|50+3|50+3|59+3|19+3|https://cdn.sofif...|\n",
            "|   165153|/player/165153/ka...|          23|          9|      2023-01-13|    K. Benzema|       Karim Benzema|          CF, ST|     91|       91|    6.4E7|  450000| 34|1987-12-19|      185|       81|       53|       La Liga|           1|         243|        Real Madrid|           CF|                 9|            null|      2009-07-09|                          2023|            18|          France|          null|           null|                null|         Right|        4|          4|                       4|Medium/Medium|Normal (170-185)|      Yes|         131200000|#Poacher, #Clinic...|Leadership, Fines...|  80|      88|     83|       87|       39|    78|                75|                 92|                        90|                     89|               88|             87|         82|               73|                76|                91|                   79|                   80|              78|                92|              72|              87|           79|           82|            82|              80|                  63|                     39|                   92|              89|                 84|                 90|                         43|                       24|                      18|                13|                  11|                  5|                      5|                   7|             null|89+2|89+2|89+2| 87| 89| 89| 89| 87|88+3|88+3|88+3|86+3|81+3|81+3|81+3|86+3|64+3|64+3|64+3|64+3|64+3|60+3|55+3|55+3|55+3|60+3|18+3|https://cdn.sofif...|\n",
            "|   188545|/player/188545/ro...|          23|          9|      2023-01-13|R. Lewandowski|  Robert Lewandowski|              ST|     91|       91|    8.4E7|  420000| 33|1988-08-21|      185|       81|       53|       La Liga|           1|         241|       FC Barcelona|           ST|                 9|            null|      2022-07-18|                          2025|            37|          Poland|          1353|             ST|                   9|         Right|        4|          4|                       5|  High/Medium|          Unique|      Yes|         172200000|#Aerial Threat, #...|Solid Player, Fin...|  75|      91|     79|       86|       44|    83|                71|                 94|                        91|                     84|               89|             85|         79|               85|                70|                89|                   76|                   75|              77|                93|              82|              91|           85|           76|            87|              84|                  81|                     49|                   94|              81|                 90|                 88|                         35|                       42|                      19|                15|                   6|                 12|                      8|                  10|             null|89+2|89+2|89+2| 85| 88| 88| 88| 85|85+3|85+3|85+3|83+3|80+3|80+3|80+3|83+3|64+3|66+3|66+3|66+3|64+3|61+3|60+3|60+3|60+3|61+3|19+3|https://cdn.sofif...|\n",
            "|   192985|/player/192985/ke...|          23|          9|      2023-01-13|  K. De Bruyne|     Kevin De Bruyne|         CM, CAM|     91|       91|  1.075E8|  350000| 31|1991-06-28|      181|       75|       13|Premier League|           1|          10|    Manchester City|          RCM|                17|            null|      2015-08-30|                          2025|             7|         Belgium|          1325|             RF|                   7|         Right|        5|          4|                       4|  High/Medium|          Unique|      Yes|         198900000|#Dribbler, #Playm...|Injury Prone, Lea...|  74|      88|     93|       87|       63|    77|                94|                 85|                        55|                     93|               83|             87|         89|               83|                93|                90|                   76|                   73|              76|                91|              78|              92|           63|           89|            74|              91|                  75|                     64|                   88|              94|                 83|                 89|                         65|                       65|                      53|                15|                  13|                  5|                     10|                  13|             null|83+3|83+3|83+3| 87| 87| 87| 87| 87|89+2|89+2|89+2|88+3|89+2|89+2|89+2|88+3|78+3|79+3|79+3|79+3|78+3|74+3|68+3|68+3|68+3|74+3|21+3|https://cdn.sofif...|\n",
            "|   231747|/player/231747/ky...|          23|          9|      2023-01-13|     K. Mbappé|Kylian Mbappé Lottin|          ST, LW|     91|       95|  1.905E8|  230000| 23|1998-12-20|      182|       73|       16|       Ligue 1|           1|          73|Paris Saint Germain|           LS|                 7|            null|      2018-07-01|                          2024|            18|          France|          1335|             LW|                  10|         Right|        4|          5|                       4|     High/Low|          Unique|      Yes|         366700000|#Speedster, #Drib...|Solid Player, Fla...|  97|      89|     80|       92|       36|    76|                78|                 93|                        72|                     85|               83|             93|         80|               69|                71|                91|                   97|                   97|              93|                93|              81|              88|           77|           87|            76|              82|                  64|                     38|                   92|              83|                 80|                 88|                         26|                       34|                      32|                13|                   5|                  7|                     11|                   6|             null|89+3|89+3|89+3| 90| 90| 90| 90| 90|89+3|89+3|89+3|89+3|81+3|81+3|81+3|89+3|67+3|63+3|63+3|63+3|67+3|63+3|54+3|54+3|54+3|63+3|18+3|https://cdn.sofif...|\n",
            "+---------+--------------------+------------+-----------+----------------+--------------+--------------------+----------------+-------+---------+---------+--------+---+----------+---------+---------+---------+--------------+------------+------------+-------------------+-------------+------------------+----------------+----------------+------------------------------+--------------+----------------+--------------+---------------+--------------------+--------------+---------+-----------+------------------------+-------------+----------------+---------+------------------+--------------------+--------------------+----+--------+-------+---------+---------+------+------------------+-------------------+--------------------------+-----------------------+-----------------+---------------+-----------+-----------------+------------------+------------------+---------------------+---------------------+----------------+------------------+----------------+----------------+-------------+-------------+--------------+----------------+--------------------+-----------------------+---------------------+----------------+-------------------+-------------------+---------------------------+-------------------------+------------------------+------------------+--------------------+-------------------+-----------------------+--------------------+-----------------+----+----+----+---+---+---+---+---+----+----+----+----+----+----+----+----+----+----+----+----+----+----+----+----+----+----+----+--------------------+\n",
            "only showing top 5 rows\n",
            "\n"
          ]
        }
      ]
    },
    {
      "cell_type": "markdown",
      "source": [
        "**Preparación del Conjunto de Entrenamiento y Prueba\n",
        "El objetivo de esta etapa es dividir el conjunto de datos limpio que hemos obtenido después del preprocesamiento en dos subconjuntos: uno para entrenar el modelo y otro para evaluarlo. A continuación, describiré el proceso de división, la técnica de muestreo que utilizaré y el porcentaje de separación que elegiremos.**"
      ],
      "metadata": {
        "id": "Z9vDQNFS1el6"
      },
      "id": "Z9vDQNFS1el6"
    },
    {
      "cell_type": "markdown",
      "source": [
        "Técnica de Muestreo y Justificación\n",
        "Para la división del conjunto de datos, utilizaremos una técnica de muestreo aleatorio estratificado. Esta técnica nos permite asegurar que cada subconjunto (entrenamiento y prueba) mantenga la misma proporción de clases que el conjunto original. Esto es especialmente importante si estamos trabajando en un problema de clasificación, ya que ayuda a evitar sesgos que pueden surgir si una clase está desproporcionadamente representada en uno de los conjuntos.\n",
        "\n",
        "Justificación del Porcentaje de División: Usualmente, una separación del 70% para entrenamiento y 30% para prueba es estándar en muchos casos, pero también se puede utilizar 80/20 o 75/25. Para esta actividad, propongo utilizar un 80% para el conjunto de entrenamiento y un 20% para el conjunto de prueba. Este balance es efectivo para proporcionar suficiente información al modelo durante el entrenamiento mientras se mantiene un conjunto de datos significativo para evaluación"
      ],
      "metadata": {
        "id": "JBrzpJNJ1g5S"
      },
      "id": "JBrzpJNJ1g5S"
    },
    {
      "cell_type": "markdown",
      "source": [],
      "metadata": {
        "id": "CFz_e0wc1jhq"
      },
      "id": "CFz_e0wc1jhq"
    },
    {
      "cell_type": "markdown",
      "source": [
        "NORMALIZACION DEL DATAFRAME"
      ],
      "metadata": {
        "id": "BZly4_9F1jky"
      },
      "id": "BZly4_9F1jky"
    },
    {
      "cell_type": "code",
      "source": [
        "from pyspark.ml.feature import MinMaxScaler\n",
        "from pyspark.ml.feature import VectorAssembler\n",
        "\n",
        "# VectorAssembler para crear un vector de características\n",
        "assembler = VectorAssembler(inputCols=[\"value_eur\"], outputCol=\"features\")\n",
        "df_vector = assembler.transform(df_cleaned)\n",
        "\n",
        "# Normalización usando MinMaxScaler\n",
        "scaler = MinMaxScaler(inputCol=\"features\", outputCol=\"scaledFeatures\")\n",
        "\n",
        "# Ajustar el normalizador a los datos\n",
        "scalerModel = scaler.fit(df_vector)\n",
        "normalized_df = scalerModel.transform(df_vector)\n",
        "\n",
        "# Mostrar las primeras filas del DataFrame normalizado\n",
        "normalized_df.select(\"value_eur\", \"scaledFeatures\").show(5)"
      ],
      "metadata": {
        "colab": {
          "base_uri": "https://localhost:8080/"
        },
        "id": "h9Y-NvnY1le7",
        "outputId": "50e77f73-64ed-49dc-b198-ffb2a48bfd31"
      },
      "id": "h9Y-NvnY1le7",
      "execution_count": 19,
      "outputs": [
        {
          "output_type": "stream",
          "name": "stdout",
          "text": [
            "+---------+--------------------+\n",
            "|value_eur|      scaledFeatures|\n",
            "+---------+--------------------+\n",
            "|    5.4E7|[0.2783467956020392]|\n",
            "|    6.4E7|[0.3298934530590364]|\n",
            "|    8.4E7|[0.4329867679730308]|\n",
            "|  1.075E8|[0.5541214129969743]|\n",
            "|  1.905E8| [0.981958669890051]|\n",
            "+---------+--------------------+\n",
            "only showing top 5 rows\n",
            "\n"
          ]
        }
      ]
    },
    {
      "cell_type": "markdown",
      "source": [
        "Division de Conjuntos de ENTRENAMIENTO y PRUEBA(TEST)"
      ],
      "metadata": {
        "id": "qIqt1QGT17EB"
      },
      "id": "qIqt1QGT17EB"
    },
    {
      "cell_type": "markdown",
      "source": [],
      "metadata": {
        "id": "pp-_pZgm2DTa"
      },
      "id": "pp-_pZgm2DTa"
    },
    {
      "cell_type": "code",
      "source": [
        "# Definimos el porcentaje de división\n",
        "porcentaje_entrenamiento = 0.80  # 80% para entrenamiento\n",
        "porcentaje_prueba = 0.20  # 20% para prueba\n",
        "\n",
        "# Realizamos la división del DataFrame en conjuntos de entrenamiento y prueba\n",
        "train_df, test_df = normalized_df.randomSplit([porcentaje_entrenamiento, porcentaje_prueba], seed=42)\n",
        "\n",
        "# Verificamos los conteos de cada conjunto\n",
        "print(\"Conteo del conjunto de entrenamiento:\", train_df.count())\n",
        "print(\"Conteo del conjunto de prueba:\", test_df.count())"
      ],
      "metadata": {
        "colab": {
          "base_uri": "https://localhost:8080/"
        },
        "id": "Y78A7_ta2DuF",
        "outputId": "8daa3824-8bae-4b21-d8ea-41a6733e9f70"
      },
      "id": "Y78A7_ta2DuF",
      "execution_count": 20,
      "outputs": [
        {
          "output_type": "stream",
          "name": "stdout",
          "text": [
            "Conteo del conjunto de entrenamiento: 7892805\n",
            "Conteo del conjunto de prueba: 1974653\n"
          ]
        }
      ]
    },
    {
      "cell_type": "markdown",
      "source": [],
      "metadata": {
        "id": "tYl04mKS80BJ"
      },
      "id": "tYl04mKS80BJ"
    },
    {
      "cell_type": "markdown",
      "source": [],
      "metadata": {
        "id": "MdSwgKDl9I87"
      },
      "id": "MdSwgKDl9I87"
    },
    {
      "cell_type": "markdown",
      "source": [],
      "metadata": {
        "id": "OMaTUy-W80Dw"
      },
      "id": "OMaTUy-W80Dw"
    },
    {
      "cell_type": "markdown",
      "source": [],
      "metadata": {
        "id": "kf2u6fFU8iHh"
      },
      "id": "kf2u6fFU8iHh"
    },
    {
      "cell_type": "markdown",
      "source": [
        "#Modelo de Aprendizaje Supervisado y No Supervisado"
      ],
      "metadata": {
        "id": "HS23i__h8c66"
      },
      "id": "HS23i__h8c66"
    },
    {
      "cell_type": "markdown",
      "source": [
        "Diferentes Objetivos de Análisis:\n",
        "\n",
        "Árbol de Decisión: Este modelo se utiliza para realizar predicciones sobre valores específicos, en este caso, el valor en euros de los futbolistas, con base en ciertas características (como la edad). Esta capacidad de realizar predicciones numéricas permite a los clubes evaluar potenciales fichajes y tomar decisiones informadas de inversión en talentos. Al ser un modelo supervisado, cuenta con la capacidad de aprender de los datos etiquetados (en este caso, el valor registrado de los jugadores) y presenta una interpretación clara de las decisiones que toma.\n",
        "\n",
        "K-Means: Este modelo se emplea para agrupar datos no etiquetados, en este caso, jugadores basándose en características similares. K-Means permite identificar patrones entre los jugadores y crear grupos (clusters) que pueden facilitar la comprensión de la estructura del mercado. Por ejemplo, los clubes pueden usar esta información para segmentar a los jugadores según sus perfiles de rendimiento, lo que puede ayudar en la estrategia de contratación y desarrollo.\n",
        "\n",
        "Complementariedad de Técnicas:\n",
        "\n",
        "La combinación de aprendizaje supervisado y no supervisado proporciona un enfoque más completo para el análisis de datos. Mientras que el modelo supervisado ayuda a prever y establecer expectativas sobre valores específicos, el modelo no supervisado permite una exploración más profunda, detectando estructuras y relaciones en los datos que podrían no ser evidentes. Esto puede revelar insights valiosos que pueden influir en las decisiones estratégicas del club.\n",
        "Mejor Toma de Decisiones:\n",
        "\n",
        "Al tener ambos modelos, se puede cross-referencear los resultados: por ejemplo, al observar las predicciones del valor de los jugadores en relación con los clusters de K-Means, se pueden identificar tendencias, como si los jugadores de alto valor pertenecen a un determinado grupo demográfico o perfil de rendimiento. Esto permite a los clubes no solo basarse en predicciones individuales, sino también en la dinámica del mercado general.\n",
        "Exploración de Datos en Diferentes Dimensiones:\n",
        "\n",
        "Ambos modelos permiten explorar y analizar los datos desde perspectivas diferentes. El modelo supervisado se centra en predecir un valor basado en ciertas variables, mientras que el modelo no supervisado se centra en entender cómo los datos se agrupan. Esta diversidad en el análisis es crucial para obtener un panorama más completo de la situación actual y de las tendencias que pueden surgir en el futuro."
      ],
      "metadata": {
        "id": "LRB3l2tr9J6p"
      },
      "id": "LRB3l2tr9J6p"
    },
    {
      "cell_type": "markdown",
      "source": [
        "Modelo de Aprendizaje Supervisado\n",
        "Usaremos un solo algoritmo, como Árbol de Decisión, para predecir la variable value_eur.\n",
        "\n"
      ],
      "metadata": {
        "id": "gyCTfGaw8fLh"
      },
      "id": "gyCTfGaw8fLh"
    },
    {
      "cell_type": "code",
      "source": [
        "from pyspark.ml.feature import VectorAssembler\n",
        "from pyspark.ml.regression import DecisionTreeRegressor\n",
        "from pyspark.ml.evaluation import RegressionEvaluator\n",
        "\n",
        "# Definición de la variable objetivo y características\n",
        "target_col = \"value_eur\"\n",
        "feature_cols = [\"age\"]  # Puedes agregar más variables según consideres necesario\n",
        "\n",
        "# Crear el vector de características\n",
        "# Primero asegurar que 'features' no exista ya\n",
        "if 'features' in train_df.columns:\n",
        "    train_df = train_df.drop('features')\n",
        "\n",
        "if 'features' in test_df.columns:\n",
        "    test_df = test_df.drop('features')\n",
        "\n",
        "# Ahora crear el vector\n",
        "assembler = VectorAssembler(inputCols=feature_cols, outputCol=\"features\")\n",
        "train_df = assembler.transform(train_df)\n",
        "test_df = assembler.transform(test_df)\n",
        "\n",
        "# Entrenamiento del modelo de Árbol de Decisión\n",
        "decision_tree = DecisionTreeRegressor(featuresCol='features', labelCol=target_col)\n",
        "decision_tree_model = decision_tree.fit(train_df)\n",
        "\n",
        "# Predicciones en el conjunto de prueba\n",
        "predictions = decision_tree_model.transform(test_df)\n",
        "\n",
        "# Evaluación del modelo\n",
        "evaluator = RegressionEvaluator(labelCol=target_col, predictionCol=\"prediction\", metricName=\"rmse\")\n",
        "rmse = evaluator.evaluate(predictions)\n",
        "\n",
        "print(f\"Root Mean Squared Error (RMSE) del modelo de Árbol de Decisión: {rmse}\")"
      ],
      "metadata": {
        "colab": {
          "base_uri": "https://localhost:8080/"
        },
        "id": "sDBYL94i8i0L",
        "outputId": "a80cc6a7-98a7-4949-cf3d-b35e979457eb"
      },
      "id": "sDBYL94i8i0L",
      "execution_count": 22,
      "outputs": [
        {
          "output_type": "stream",
          "name": "stdout",
          "text": [
            "Root Mean Squared Error (RMSE) del modelo de Árbol de Decisión: 5694426.73536433\n"
          ]
        }
      ]
    },
    {
      "cell_type": "markdown",
      "source": [
        "El Root Mean Squared Error (RMSE) obtenido para el modelo de Árbol de Decisión, de aproximadamente 5,694,427 euros, sugiere que, si bien el modelo proporciona predicciones, la desviación promedio con respecto a los valores reales es considerable. Esto indica que podría ser necesario mejorar el rendimiento del modelo al considerar la inclusión de más características relevantes, como estadísticas de rendimiento jugador por jugador, posición en el campo, y otros atributos. Además, explorar modelos alternativos como Random Forest o Gradient Boosted Trees podría resultar en una mejor precisión, dado que estos modelos manejan interacciones complejas entre las variables de entrada de manera más efectiva. Adicionalmente, es aconsejable realizar un análisis de los errores de predicción para identificar patrones específicos y utilizar visualizaciones gráficas para comparar las predicciones con los valores reales, lo cual podría proporcionar información valiosa sobre el comportamiento del modelo."
      ],
      "metadata": {
        "id": "IpvRMYsCBhDJ"
      },
      "id": "IpvRMYsCBhDJ"
    },
    {
      "cell_type": "markdown",
      "source": [],
      "metadata": {
        "id": "hquGsltQ80xs"
      },
      "id": "hquGsltQ80xs"
    },
    {
      "cell_type": "markdown",
      "source": [],
      "metadata": {
        "id": "GnWkXti2800F"
      },
      "id": "GnWkXti2800F"
    },
    {
      "cell_type": "code",
      "source": [
        " Import the necessary libraries for K-Means\n",
        "from pyspark.ml.feature import VectorAssembler\n",
        "from pyspark.ml.clustering import KMeans\n",
        "import pyspark.sql.functions as F\n",
        "\n",
        "# Define the features to be used for clustering (age and value_eur)\n",
        "feature_cols_kmeans = [\"age\", \"value_eur\"]\n",
        "\n",
        "# Ensure to drop the 'features' column if it already exists in train_df\n",
        "if 'features' in train_df.columns:\n",
        "    train_df = train_df.drop('features')\n",
        "\n",
        "# Create a VectorAssembler to create the features column\n",
        "assembler_kmeans = VectorAssembler(inputCols=feature_cols_kmeans, outputCol=\"features\")\n",
        "train_kmeans_df = assembler_kmeans.transform(train_df)\n",
        "\n",
        "# Define the number of clusters you want to create\n",
        "num_clusters = 3  # You can adjust this number based on your analysis\n",
        "\n",
        "# Create and train the KMeans model\n",
        "kmeans = KMeans(k=num_clusters, seed=1)  # set a random seed for reproducibility\n",
        "kmeans_model = kmeans.fit(train_kmeans_df)\n",
        "\n",
        "# Make predictions based on the clustering\n",
        "kmeans_predictions = kmeans_model.transform(train_kmeans_df)\n",
        "\n",
        "# Show the results with the original features and the assigned cluster\n",
        "print(\"Results of K-Means:\")\n",
        "kmeans_predictions.select(\"age\", \"value_eur\", \"prediction\").show(5)\n",
        "\n",
        "# Optionally, we can group by prediction to see the average age and value in each cluster\n",
        "cluster_summary = kmeans_predictions.groupBy(\"prediction\").agg(\n",
        "    F.avg(\"age\").alias(\"avg_age\"),\n",
        "    F.avg(\"value_eur\").alias(\"avg_value_eur\"),\n",
        "    F.count(\"*\").alias(\"count\")\n",
        ")\n",
        "\n",
        "print(\"Cluster Summary:\")\n",
        "cluster_summary.show()"
      ],
      "metadata": {
        "colab": {
          "base_uri": "https://localhost:8080/",
          "height": 110
        },
        "id": "nEdKsp0J808g",
        "outputId": "ca5fcbb1-7f74-4579-eff0-9b2b4f8c9bce"
      },
      "id": "nEdKsp0J808g",
      "execution_count": 28,
      "outputs": [
        {
          "output_type": "error",
          "ename": "SyntaxError",
          "evalue": "invalid syntax (<ipython-input-28-ff74fd3b92da>, line 1)",
          "traceback": [
            "\u001b[0;36m  File \u001b[0;32m\"<ipython-input-28-ff74fd3b92da>\"\u001b[0;36m, line \u001b[0;32m1\u001b[0m\n\u001b[0;31m    Import the necessary libraries for K-Means\u001b[0m\n\u001b[0m           ^\u001b[0m\n\u001b[0;31mSyntaxError\u001b[0m\u001b[0;31m:\u001b[0m invalid syntax\n"
          ]
        }
      ]
    },
    {
      "cell_type": "code",
      "source": [
        "# Import the necessary libraries for K-Means\n",
        "from pyspark.ml.feature import VectorAssembler\n",
        "from pyspark.ml.clustering import KMeans\n",
        "import pyspark.sql.functions as F\n",
        "\n",
        "# Define the features to be used for clustering (age and value_eur)\n",
        "feature_cols_kmeans = [\"age\", \"value_eur\"]\n",
        "\n",
        "# Ensure to drop the 'features' column if it already exists in train_df\n",
        "if 'features' in train_df.columns:\n",
        "    train_df = train_df.drop('features')\n",
        "\n",
        "# Create a VectorAssembler to create the features column\n",
        "assembler_kmeans = VectorAssembler(inputCols=feature_cols_kmeans, outputCol=\"features\")\n",
        "train_kmeans_df = assembler_kmeans.transform(train_df)\n",
        "\n",
        "# Define the number of clusters you want to create\n",
        "num_clusters = 3  # You can adjust this number based on your analysis\n",
        "\n",
        "# Create and train the KMeans model\n",
        "kmeans = KMeans(k=num_clusters, seed=1)  # Set a random seed for reproducibility\n",
        "kmeans_model = kmeans.fit(train_kmeans_df)\n",
        "\n",
        "# Make predictions based on the clustering\n",
        "kmeans_predictions = kmeans_model.transform(train_kmeans_df)\n",
        "\n",
        "# Show the results with the original features and the assigned cluster\n",
        "print(\"Results of K-Means:\")\n",
        "kmeans_predictions.select(\"age\", \"value_eur\", \"prediction\").show(5)\n",
        "\n",
        "# Optionally, we can group by prediction to see the average age and value in each cluster\n",
        "cluster_summary = kmeans_predictions.groupBy(\"prediction\").agg(\n",
        "    F.avg(\"age\").alias(\"avg_age\"),\n",
        "    F.avg(\"value_eur\").alias(\"avg_value_eur\"),\n",
        "    F.count(\"*\").alias(\"count\")\n",
        ")\n",
        "\n",
        "print(\"Cluster Summary:\")\n",
        "cluster_summary.show()"
      ],
      "metadata": {
        "colab": {
          "base_uri": "https://localhost:8080/"
        },
        "id": "5rsbvMvj81Bs",
        "outputId": "ac89770c-6f51-4302-b168-162f28ed0c0e"
      },
      "id": "5rsbvMvj81Bs",
      "execution_count": 29,
      "outputs": [
        {
          "output_type": "stream",
          "name": "stdout",
          "text": [
            "Results of K-Means:\n",
            "+---+---------+----------+\n",
            "|age|value_eur|prediction|\n",
            "+---+---------+----------+\n",
            "| 37|5500000.0|         0|\n",
            "| 37|5500000.0|         0|\n",
            "| 37|5500000.0|         0|\n",
            "| 38| 625000.0|         0|\n",
            "| 38| 625000.0|         0|\n",
            "+---+---------+----------+\n",
            "only showing top 5 rows\n",
            "\n",
            "Cluster Summary:\n",
            "+----------+------------------+--------------------+-------+\n",
            "|prediction|           avg_age|       avg_value_eur|  count|\n",
            "+----------+------------------+--------------------+-------+\n",
            "|         1|25.681383878456014|1.5927152595407052E7| 393734|\n",
            "|         2| 25.95602417067456| 5.820239240350228E7|  40545|\n",
            "|         0|24.737552031058147|  1270288.6668223722|7458526|\n",
            "+----------+------------------+--------------------+-------+\n",
            "\n"
          ]
        }
      ]
    },
    {
      "cell_type": "markdown",
      "source": [
        "En esta actividad, realizamos un análisis exhaustivo de un conjunto de datos relacionado con el fútbol, enfocándonos en enfoques de aprendizaje supervisado y no supervisado para extraer información valiosa sobre la valoración y las características de los jugadores. A continuación, se presenta un resumen de lo que logramos:\n",
        "\n",
        "Preparación y Preprocesamiento de Datos:\n",
        "\n",
        "Comenzamos con un conjunto de datos grande que contenía estadísticas de los jugadores y sus valores de mercado. A través de una rigurosa fase de preprocesamiento, manejamos los valores faltantes, ajustamos los tipos de datos y gestionamos los outliers, asegurando que nuestros datos fueran de alta calidad para un análisis posterior. El conjunto final, después del preprocesamiento, consistió en 7,892,805 registros para el conjunto de entrenamiento y 1,974,653 registros para el conjunto de prueba.\n",
        "Enfoque de Modelado:\n",
        "\n",
        "Aprendizaje Supervisado: Implementamos un Regresor de Árbol de Decisión, seleccionando value_eur como la variable objetivo. El modelo tenía como objetivo predecir el valor de mercado de los jugadores a partir de su edad. El modelo produjo un Root Mean Squared Error (RMSE) de aproximadamente 5,694,427 euros. Esta métrica indica que nuestras predicciones tuvieron una variabilidad considerable, lo que sugiere la necesidad de refinar el modelo en términos de selección de modelo o incorporación de características adicionales para mejorar la precisión.\n",
        "Aprendizaje No Supervisado: Utilizamos el algoritmo de K-Means para explorar y agrupar a los jugadores en función de su edad y valor de mercado. Los clusters resultantes indicaron que los jugadores se agruparon principalmente según características similares, y observamos que la mayoría de los jugadores fueron asignados al cluster 0. Este enfoque de agrupamiento permitió descubrir patrones en el conjunto de datos, mostrando cómo diversos perfiles de jugadores podían ser agregados en función de sus atributos.\n",
        "Perspectivas e Análisis:\n",
        "\n",
        "El análisis proporcionó información valiosa sobre cómo diferentes grupos de edad se relacionan con el valor de mercado, sugiriendo que ciertos perfiles (por ejemplo, jugadores jóvenes con altas valoraciones) podrían ser objetivos para la búsqueda y la inversión. La capacidad de visualizar los clusters reveló tendencias en la edad y el valor de los jugadores, lo que puede respaldar la toma de decisiones en las estrategias de reclutamiento.\n",
        "Evaluación de Modelos:\n",
        "\n",
        "El RMSE del modelo de Árbol de Decisión destacó los desafíos para predecir con precisión los valores de los jugadores basándose únicamente en la edad, lo que sugiere que podrían ser necesarias características adicionales relacionadas con el rendimiento y la posición del jugador para mejorar la precisión.\n",
        "Los resúmenes y visualizaciones del agrupamiento de K-Means ofrecieron una perspectiva útil sobre la demografía de los jugadores, revelando grupos distintos y respaldando la noción de estrategias específicas para la adquisición y desarrollo de jugadores.\n",
        "Recomendaciones para el Futuro:\n",
        "\n",
        "Los análisis futuros deberían considerar la mejora de los conjuntos de características al incorporar más variables (por ejemplo, estadísticas de rendimiento, posición del jugador, etc.) para refinar la precisión predictiva en el modelo supervisado.\n",
        "Probar diferentes algoritmos, como Random Forest y Gradient Boosted Trees, podría producir mejoras en el rendimiento predictivo en comparación con el actual modelo de Árbol de Decisión.\n",
        "Para el componente no supervisado, experimentar con diferentes números de clusters y visualizar los resultados puede mejorar la comprensión de la distribución de los jugadores en el mercado.\n",
        "La incorporación de datos temporales podría ayudar a entender las trayectorias de valor de los jugadores a lo largo del tiempo, añadiendo profundidad a las estrategias de reclutamiento.\n",
        "Conclusión\n",
        "Esta actividad demostró la eficacia de las técnicas de aprendizaje supervisado y no supervisado en el análisis de conjuntos de datos complejos, especialmente en el contexto de la analítica deportiva. Al aprovechar estas técnicas, las organizaciones pueden obtener información basada en datos, mejorando su posicionamiento estratégico en un mercado competitivo. La combinación de una rigurosa preparación de datos, una selección de modelos cuidadosa y un análisis detallado sienta una base sólida para una exploración adicional en la ciencia de datos en deportes.\n"
      ],
      "metadata": {
        "id": "tFRRVyaoJSqh"
      },
      "id": "tFRRVyaoJSqh"
    },
    {
      "cell_type": "markdown",
      "source": [],
      "metadata": {
        "id": "mMHwxWRy8fPS"
      },
      "id": "mMHwxWRy8fPS"
    },
    {
      "cell_type": "markdown",
      "source": [],
      "metadata": {
        "id": "aR0EY29M8fS8"
      },
      "id": "aR0EY29M8fS8"
    }
  ],
  "metadata": {
    "kernelspec": {
      "display_name": "Python 3",
      "name": "python3"
    },
    "language_info": {
      "codemirror_mode": {
        "name": "ipython",
        "version": 3
      },
      "file_extension": ".py",
      "mimetype": "text/x-python",
      "name": "python",
      "nbconvert_exporter": "python",
      "pygments_lexer": "ipython3",
      "version": "3.12.7"
    },
    "varInspector": {
      "cols": {
        "lenName": 16,
        "lenType": 16,
        "lenVar": 40
      },
      "kernels_config": {
        "python": {
          "delete_cmd_postfix": "",
          "delete_cmd_prefix": "del ",
          "library": "var_list.py",
          "varRefreshCmd": "print(var_dic_list())"
        },
        "r": {
          "delete_cmd_postfix": ") ",
          "delete_cmd_prefix": "rm(",
          "library": "var_list.r",
          "varRefreshCmd": "cat(var_dic_list()) "
        }
      },
      "types_to_exclude": [
        "module",
        "function",
        "builtin_function_or_method",
        "instance",
        "_Feature"
      ],
      "window_display": false
    },
    "colab": {
      "provenance": [],
      "machine_shape": "hm",
      "gpuType": "T4"
    },
    "accelerator": "GPU"
  },
  "nbformat": 4,
  "nbformat_minor": 5
}