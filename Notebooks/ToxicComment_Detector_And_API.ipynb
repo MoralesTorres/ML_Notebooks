{
  "nbformat": 4,
  "nbformat_minor": 0,
  "metadata": {
    "colab": {
      "name": "Copia de ToxicComment_Detector_And_API.ipynb",
      "provenance": [],
      "collapsed_sections": []
    },
    "kernelspec": {
      "name": "python3",
      "display_name": "Python 3"
    }
  },
  "cells": [
    {
      "cell_type": "markdown",
      "metadata": {
        "id": "sbFohvuZNLdx",
        "colab_type": "text"
      },
      "source": [
        "# Toxic Comment Detector\n",
        "Sentiment analysis is an important task among machine learning that aims to understand the attitude or sentiment of a person about a theme. In this workshop we will build a Sentiment Analysis for toxic comments detection using a database provided by Jigsaw https://www.kaggle.com/c/jigsaw-toxic-comment-classification-challenge using Keras."
      ]
    },
    {
      "cell_type": "markdown",
      "metadata": {
        "id": "aXV_5E57PQyE",
        "colab_type": "text"
      },
      "source": [
        "## Download the database\n",
        "Let's download the database and explore some of the data"
      ]
    },
    {
      "cell_type": "code",
      "metadata": {
        "id": "l-0jT1T3NFCJ",
        "colab_type": "code",
        "outputId": "0c3fbb7d-88c3-44bf-d2e6-51f90dc773b3",
        "colab": {
          "base_uri": "https://localhost:8080/",
          "height": 505
        }
      },
      "source": [
        "!wget http://tiny.cc/data_compressed"
      ],
      "execution_count": 0,
      "outputs": [
        {
          "output_type": "stream",
          "text": [
            "--2020-04-16 22:20:52--  http://tiny.cc/data_compressed\n",
            "Resolving tiny.cc (tiny.cc)... 192.241.240.89\n",
            "Connecting to tiny.cc (tiny.cc)|192.241.240.89|:80... connected.\n",
            "HTTP request sent, awaiting response... 301 Moved Permanently\n",
            "Location: https://tiny.cc/data_compressed [following]\n",
            "--2020-04-16 22:20:52--  https://tiny.cc/data_compressed\n",
            "Connecting to tiny.cc (tiny.cc)|192.241.240.89|:443... connected.\n",
            "HTTP request sent, awaiting response... 303 See Other\n",
            "Location: https://drive.google.com/u/1/uc?id=1BTOJA6eInOK2FHl3DoWmC2UPj5Lt3Pl2&export=download [following]\n",
            "--2020-04-16 22:20:53--  https://drive.google.com/u/1/uc?id=1BTOJA6eInOK2FHl3DoWmC2UPj5Lt3Pl2&export=download\n",
            "Resolving drive.google.com (drive.google.com)... 108.177.125.102, 108.177.125.100, 108.177.125.138, ...\n",
            "Connecting to drive.google.com (drive.google.com)|108.177.125.102|:443... connected.\n",
            "HTTP request sent, awaiting response... 302 Moved Temporarily\n",
            "Location: https://doc-10-18-docs.googleusercontent.com/docs/securesc/ha0ro937gcuc7l7deffksulhg5h7mbp1/hhsp5ecqi6b0fo34bfmdtaok6e9io6ui/1587075600000/11044999704971133240/*/1BTOJA6eInOK2FHl3DoWmC2UPj5Lt3Pl2?e=download [following]\n",
            "Warning: wildcards not supported in HTTP.\n",
            "--2020-04-16 22:20:58--  https://doc-10-18-docs.googleusercontent.com/docs/securesc/ha0ro937gcuc7l7deffksulhg5h7mbp1/hhsp5ecqi6b0fo34bfmdtaok6e9io6ui/1587075600000/11044999704971133240/*/1BTOJA6eInOK2FHl3DoWmC2UPj5Lt3Pl2?e=download\n",
            "Resolving doc-10-18-docs.googleusercontent.com (doc-10-18-docs.googleusercontent.com)... 108.177.125.132, 2404:6800:4008:c01::84\n",
            "Connecting to doc-10-18-docs.googleusercontent.com (doc-10-18-docs.googleusercontent.com)|108.177.125.132|:443... connected.\n",
            "HTTP request sent, awaiting response... 200 OK\n",
            "Length: unspecified [application/x-xz]\n",
            "Saving to: ‘data_compressed’\n",
            "\n",
            "data_compressed         [  <=>               ]  18.08M  41.3MB/s    in 0.4s    \n",
            "\n",
            "2020-04-16 22:20:59 (41.3 MB/s) - ‘data_compressed’ saved [18959376]\n",
            "\n"
          ],
          "name": "stdout"
        }
      ]
    },
    {
      "cell_type": "code",
      "metadata": {
        "id": "Lr1pNrAISsBA",
        "colab_type": "code",
        "outputId": "44266efc-6da9-4913-e1bc-15faee45eeb3",
        "colab": {
          "base_uri": "https://localhost:8080/",
          "height": 35
        }
      },
      "source": [
        "!ls"
      ],
      "execution_count": 0,
      "outputs": [
        {
          "output_type": "stream",
          "text": [
            "data_compressed  sample_data\n"
          ],
          "name": "stdout"
        }
      ]
    },
    {
      "cell_type": "code",
      "metadata": {
        "id": "zFuHCVSI3Rd9",
        "colab_type": "code",
        "outputId": "beccab67-c4d2-4069-8de6-7f1b4bdd7179",
        "colab": {
          "base_uri": "https://localhost:8080/",
          "height": 35
        }
      },
      "source": [
        "!mv data_compressed train.tar.xz\n",
        "!ls"
      ],
      "execution_count": 0,
      "outputs": [
        {
          "output_type": "stream",
          "text": [
            "sample_data  train.tar.xz\n"
          ],
          "name": "stdout"
        }
      ]
    },
    {
      "cell_type": "code",
      "metadata": {
        "id": "3P2UoCMhoaLt",
        "colab_type": "code",
        "outputId": "d1c585d1-02c2-4b44-ca59-c1229fc83e89",
        "colab": {
          "base_uri": "https://localhost:8080/",
          "height": 35
        }
      },
      "source": [
        "!tar xf train.tar.xz\n",
        "!ls"
      ],
      "execution_count": 0,
      "outputs": [
        {
          "output_type": "stream",
          "text": [
            "sample_data  train.csv\ttrain.tar.xz\n"
          ],
          "name": "stdout"
        }
      ]
    },
    {
      "cell_type": "code",
      "metadata": {
        "id": "1n84WcmISs1K",
        "colab_type": "code",
        "outputId": "24856791-20cf-4490-e41c-8a3ba5a2d529",
        "colab": {
          "base_uri": "https://localhost:8080/",
          "height": 204
        }
      },
      "source": [
        "import pandas as pd, numpy as np\n",
        "train = pd.read_csv('./train.csv')\n",
        "train.head()"
      ],
      "execution_count": 0,
      "outputs": [
        {
          "output_type": "execute_result",
          "data": {
            "text/html": [
              "<div>\n",
              "<style scoped>\n",
              "    .dataframe tbody tr th:only-of-type {\n",
              "        vertical-align: middle;\n",
              "    }\n",
              "\n",
              "    .dataframe tbody tr th {\n",
              "        vertical-align: top;\n",
              "    }\n",
              "\n",
              "    .dataframe thead th {\n",
              "        text-align: right;\n",
              "    }\n",
              "</style>\n",
              "<table border=\"1\" class=\"dataframe\">\n",
              "  <thead>\n",
              "    <tr style=\"text-align: right;\">\n",
              "      <th></th>\n",
              "      <th>id</th>\n",
              "      <th>comment_text</th>\n",
              "      <th>toxic</th>\n",
              "      <th>severe_toxic</th>\n",
              "      <th>obscene</th>\n",
              "      <th>threat</th>\n",
              "      <th>insult</th>\n",
              "      <th>identity_hate</th>\n",
              "    </tr>\n",
              "  </thead>\n",
              "  <tbody>\n",
              "    <tr>\n",
              "      <th>0</th>\n",
              "      <td>0000997932d777bf</td>\n",
              "      <td>Explanation\\nWhy the edits made under my usern...</td>\n",
              "      <td>0</td>\n",
              "      <td>0</td>\n",
              "      <td>0</td>\n",
              "      <td>0</td>\n",
              "      <td>0</td>\n",
              "      <td>0</td>\n",
              "    </tr>\n",
              "    <tr>\n",
              "      <th>1</th>\n",
              "      <td>000103f0d9cfb60f</td>\n",
              "      <td>D'aww! He matches this background colour I'm s...</td>\n",
              "      <td>0</td>\n",
              "      <td>0</td>\n",
              "      <td>0</td>\n",
              "      <td>0</td>\n",
              "      <td>0</td>\n",
              "      <td>0</td>\n",
              "    </tr>\n",
              "    <tr>\n",
              "      <th>2</th>\n",
              "      <td>000113f07ec002fd</td>\n",
              "      <td>Hey man, I'm really not trying to edit war. It...</td>\n",
              "      <td>0</td>\n",
              "      <td>0</td>\n",
              "      <td>0</td>\n",
              "      <td>0</td>\n",
              "      <td>0</td>\n",
              "      <td>0</td>\n",
              "    </tr>\n",
              "    <tr>\n",
              "      <th>3</th>\n",
              "      <td>0001b41b1c6bb37e</td>\n",
              "      <td>\"\\nMore\\nI can't make any real suggestions on ...</td>\n",
              "      <td>0</td>\n",
              "      <td>0</td>\n",
              "      <td>0</td>\n",
              "      <td>0</td>\n",
              "      <td>0</td>\n",
              "      <td>0</td>\n",
              "    </tr>\n",
              "    <tr>\n",
              "      <th>4</th>\n",
              "      <td>0001d958c54c6e35</td>\n",
              "      <td>You, sir, are my hero. Any chance you remember...</td>\n",
              "      <td>0</td>\n",
              "      <td>0</td>\n",
              "      <td>0</td>\n",
              "      <td>0</td>\n",
              "      <td>0</td>\n",
              "      <td>0</td>\n",
              "    </tr>\n",
              "  </tbody>\n",
              "</table>\n",
              "</div>"
            ],
            "text/plain": [
              "                 id  ... identity_hate\n",
              "0  0000997932d777bf  ...             0\n",
              "1  000103f0d9cfb60f  ...             0\n",
              "2  000113f07ec002fd  ...             0\n",
              "3  0001b41b1c6bb37e  ...             0\n",
              "4  0001d958c54c6e35  ...             0\n",
              "\n",
              "[5 rows x 8 columns]"
            ]
          },
          "metadata": {
            "tags": []
          },
          "execution_count": 5
        }
      ]
    },
    {
      "cell_type": "markdown",
      "metadata": {
        "id": "xfjdWQFd3hrk",
        "colab_type": "text"
      },
      "source": [
        "## Data preprocessing\n",
        "Check for null values and replace it with anything."
      ]
    },
    {
      "cell_type": "code",
      "metadata": {
        "id": "CyyHligASw_C",
        "colab_type": "code",
        "outputId": "1ffe8091-ec4b-48c6-d72c-219aef4bbec4",
        "colab": {
          "base_uri": "https://localhost:8080/",
          "height": 179
        }
      },
      "source": [
        "train.isnull().any()"
      ],
      "execution_count": 0,
      "outputs": [
        {
          "output_type": "execute_result",
          "data": {
            "text/plain": [
              "id               False\n",
              "comment_text     False\n",
              "toxic            False\n",
              "severe_toxic     False\n",
              "obscene          False\n",
              "threat           False\n",
              "insult           False\n",
              "identity_hate    False\n",
              "dtype: bool"
            ]
          },
          "metadata": {
            "tags": []
          },
          "execution_count": 6
        }
      ]
    },
    {
      "cell_type": "markdown",
      "metadata": {
        "id": "4_H1KN1G4Zq-",
        "colab_type": "text"
      },
      "source": [
        "Install sutil library and perform the preprocessing."
      ]
    },
    {
      "cell_type": "code",
      "metadata": {
        "id": "jwONwzgP4e7O",
        "colab_type": "code",
        "outputId": "695a5526-f9b8-49a4-fb53-c9a019ad540d",
        "colab": {
          "base_uri": "https://localhost:8080/",
          "height": 89
        }
      },
      "source": [
        "!pip install soldai-utils"
      ],
      "execution_count": 0,
      "outputs": [
        {
          "output_type": "stream",
          "text": [
            "Collecting soldai-utils\n",
            "  Downloading https://files.pythonhosted.org/packages/23/30/a99ee738b6599cf06df09e0c21202b4cc0188500ca346af7df36b29e688a/soldai_utils-0.0.1-py3-none-any.whl\n",
            "Installing collected packages: soldai-utils\n",
            "Successfully installed soldai-utils-0.0.1\n"
          ],
          "name": "stdout"
        }
      ]
    },
    {
      "cell_type": "code",
      "metadata": {
        "id": "OH7R3M5Z4iVl",
        "colab_type": "code",
        "colab": {}
      },
      "source": [
        "from sutil.text.StringJanitor import StringJanitor\n",
        "janitor = StringJanitor(space_char=' ')\n",
        "train['clean'] = train.comment_text.apply(janitor.clean)"
      ],
      "execution_count": 0,
      "outputs": []
    },
    {
      "cell_type": "code",
      "metadata": {
        "id": "CQ8Q-ZhZ5Wam",
        "colab_type": "code",
        "outputId": "b41c5ea8-bcdd-45a9-babe-fb92414997e6",
        "colab": {
          "base_uri": "https://localhost:8080/",
          "height": 204
        }
      },
      "source": [
        "train.head()"
      ],
      "execution_count": 0,
      "outputs": [
        {
          "output_type": "execute_result",
          "data": {
            "text/html": [
              "<div>\n",
              "<style scoped>\n",
              "    .dataframe tbody tr th:only-of-type {\n",
              "        vertical-align: middle;\n",
              "    }\n",
              "\n",
              "    .dataframe tbody tr th {\n",
              "        vertical-align: top;\n",
              "    }\n",
              "\n",
              "    .dataframe thead th {\n",
              "        text-align: right;\n",
              "    }\n",
              "</style>\n",
              "<table border=\"1\" class=\"dataframe\">\n",
              "  <thead>\n",
              "    <tr style=\"text-align: right;\">\n",
              "      <th></th>\n",
              "      <th>id</th>\n",
              "      <th>comment_text</th>\n",
              "      <th>toxic</th>\n",
              "      <th>severe_toxic</th>\n",
              "      <th>obscene</th>\n",
              "      <th>threat</th>\n",
              "      <th>insult</th>\n",
              "      <th>identity_hate</th>\n",
              "      <th>clean</th>\n",
              "    </tr>\n",
              "  </thead>\n",
              "  <tbody>\n",
              "    <tr>\n",
              "      <th>0</th>\n",
              "      <td>0000997932d777bf</td>\n",
              "      <td>Explanation\\nWhy the edits made under my usern...</td>\n",
              "      <td>0</td>\n",
              "      <td>0</td>\n",
              "      <td>0</td>\n",
              "      <td>0</td>\n",
              "      <td>0</td>\n",
              "      <td>0</td>\n",
              "      <td>explanation why the edits made under my userna...</td>\n",
              "    </tr>\n",
              "    <tr>\n",
              "      <th>1</th>\n",
              "      <td>000103f0d9cfb60f</td>\n",
              "      <td>D'aww! He matches this background colour I'm s...</td>\n",
              "      <td>0</td>\n",
              "      <td>0</td>\n",
              "      <td>0</td>\n",
              "      <td>0</td>\n",
              "      <td>0</td>\n",
              "      <td>0</td>\n",
              "      <td>daww he matches this background colour im seem...</td>\n",
              "    </tr>\n",
              "    <tr>\n",
              "      <th>2</th>\n",
              "      <td>000113f07ec002fd</td>\n",
              "      <td>Hey man, I'm really not trying to edit war. It...</td>\n",
              "      <td>0</td>\n",
              "      <td>0</td>\n",
              "      <td>0</td>\n",
              "      <td>0</td>\n",
              "      <td>0</td>\n",
              "      <td>0</td>\n",
              "      <td>hey man im really not trying to edit war its j...</td>\n",
              "    </tr>\n",
              "    <tr>\n",
              "      <th>3</th>\n",
              "      <td>0001b41b1c6bb37e</td>\n",
              "      <td>\"\\nMore\\nI can't make any real suggestions on ...</td>\n",
              "      <td>0</td>\n",
              "      <td>0</td>\n",
              "      <td>0</td>\n",
              "      <td>0</td>\n",
              "      <td>0</td>\n",
              "      <td>0</td>\n",
              "      <td>more i cant make any real suggestions on impr...</td>\n",
              "    </tr>\n",
              "    <tr>\n",
              "      <th>4</th>\n",
              "      <td>0001d958c54c6e35</td>\n",
              "      <td>You, sir, are my hero. Any chance you remember...</td>\n",
              "      <td>0</td>\n",
              "      <td>0</td>\n",
              "      <td>0</td>\n",
              "      <td>0</td>\n",
              "      <td>0</td>\n",
              "      <td>0</td>\n",
              "      <td>you sir are my hero any chance you remember wh...</td>\n",
              "    </tr>\n",
              "  </tbody>\n",
              "</table>\n",
              "</div>"
            ],
            "text/plain": [
              "                 id  ...                                              clean\n",
              "0  0000997932d777bf  ...  explanation why the edits made under my userna...\n",
              "1  000103f0d9cfb60f  ...  daww he matches this background colour im seem...\n",
              "2  000113f07ec002fd  ...  hey man im really not trying to edit war its j...\n",
              "3  0001b41b1c6bb37e  ...   more i cant make any real suggestions on impr...\n",
              "4  0001d958c54c6e35  ...  you sir are my hero any chance you remember wh...\n",
              "\n",
              "[5 rows x 9 columns]"
            ]
          },
          "metadata": {
            "tags": []
          },
          "execution_count": 9
        }
      ]
    },
    {
      "cell_type": "code",
      "metadata": {
        "id": "irHlZzsC8get",
        "colab_type": "code",
        "outputId": "003cdeb2-56c4-4847-cb2b-42a525977558",
        "colab": {
          "base_uri": "https://localhost:8080/",
          "height": 204
        }
      },
      "source": [
        "toxic = train[train.toxic == 1]\n",
        "toxic.head()"
      ],
      "execution_count": 0,
      "outputs": [
        {
          "output_type": "execute_result",
          "data": {
            "text/html": [
              "<div>\n",
              "<style scoped>\n",
              "    .dataframe tbody tr th:only-of-type {\n",
              "        vertical-align: middle;\n",
              "    }\n",
              "\n",
              "    .dataframe tbody tr th {\n",
              "        vertical-align: top;\n",
              "    }\n",
              "\n",
              "    .dataframe thead th {\n",
              "        text-align: right;\n",
              "    }\n",
              "</style>\n",
              "<table border=\"1\" class=\"dataframe\">\n",
              "  <thead>\n",
              "    <tr style=\"text-align: right;\">\n",
              "      <th></th>\n",
              "      <th>id</th>\n",
              "      <th>comment_text</th>\n",
              "      <th>toxic</th>\n",
              "      <th>severe_toxic</th>\n",
              "      <th>obscene</th>\n",
              "      <th>threat</th>\n",
              "      <th>insult</th>\n",
              "      <th>identity_hate</th>\n",
              "      <th>clean</th>\n",
              "    </tr>\n",
              "  </thead>\n",
              "  <tbody>\n",
              "    <tr>\n",
              "      <th>6</th>\n",
              "      <td>0002bcb3da6cb337</td>\n",
              "      <td>COCKSUCKER BEFORE YOU PISS AROUND ON MY WORK</td>\n",
              "      <td>1</td>\n",
              "      <td>1</td>\n",
              "      <td>1</td>\n",
              "      <td>0</td>\n",
              "      <td>1</td>\n",
              "      <td>0</td>\n",
              "      <td>cocksucker before you piss around on my work</td>\n",
              "    </tr>\n",
              "    <tr>\n",
              "      <th>12</th>\n",
              "      <td>0005c987bdfc9d4b</td>\n",
              "      <td>Hey... what is it..\\n@ | talk .\\nWhat is it......</td>\n",
              "      <td>1</td>\n",
              "      <td>0</td>\n",
              "      <td>0</td>\n",
              "      <td>0</td>\n",
              "      <td>0</td>\n",
              "      <td>0</td>\n",
              "      <td>hey what is it   talk  what is it an exclusive...</td>\n",
              "    </tr>\n",
              "    <tr>\n",
              "      <th>16</th>\n",
              "      <td>0007e25b2121310b</td>\n",
              "      <td>Bye! \\n\\nDon't look, come or think of comming ...</td>\n",
              "      <td>1</td>\n",
              "      <td>0</td>\n",
              "      <td>0</td>\n",
              "      <td>0</td>\n",
              "      <td>0</td>\n",
              "      <td>0</td>\n",
              "      <td>bye dont look come or think of comming back to...</td>\n",
              "    </tr>\n",
              "    <tr>\n",
              "      <th>42</th>\n",
              "      <td>001810bf8c45bf5f</td>\n",
              "      <td>You are gay or antisemmitian? \\n\\nArchangel WH...</td>\n",
              "      <td>1</td>\n",
              "      <td>0</td>\n",
              "      <td>1</td>\n",
              "      <td>0</td>\n",
              "      <td>1</td>\n",
              "      <td>1</td>\n",
              "      <td>you are gay or antisemmitian archangel white t...</td>\n",
              "    </tr>\n",
              "    <tr>\n",
              "      <th>43</th>\n",
              "      <td>00190820581d90ce</td>\n",
              "      <td>FUCK YOUR FILTHY MOTHER IN THE ASS, DRY!</td>\n",
              "      <td>1</td>\n",
              "      <td>0</td>\n",
              "      <td>1</td>\n",
              "      <td>0</td>\n",
              "      <td>1</td>\n",
              "      <td>0</td>\n",
              "      <td>fuck your filthy mother in the ass dry</td>\n",
              "    </tr>\n",
              "  </tbody>\n",
              "</table>\n",
              "</div>"
            ],
            "text/plain": [
              "                  id  ...                                              clean\n",
              "6   0002bcb3da6cb337  ...       cocksucker before you piss around on my work\n",
              "12  0005c987bdfc9d4b  ...  hey what is it   talk  what is it an exclusive...\n",
              "16  0007e25b2121310b  ...  bye dont look come or think of comming back to...\n",
              "42  001810bf8c45bf5f  ...  you are gay or antisemmitian archangel white t...\n",
              "43  00190820581d90ce  ...             fuck your filthy mother in the ass dry\n",
              "\n",
              "[5 rows x 9 columns]"
            ]
          },
          "metadata": {
            "tags": []
          },
          "execution_count": 10
        }
      ]
    },
    {
      "cell_type": "markdown",
      "metadata": {
        "id": "lM88U_EQoG_4",
        "colab_type": "text"
      },
      "source": [
        "## Balance the classes"
      ]
    },
    {
      "cell_type": "code",
      "metadata": {
        "id": "764-yOyWoK93",
        "colab_type": "code",
        "outputId": "cbff5546-204a-4882-9a27-f89269e2f877",
        "colab": {
          "base_uri": "https://localhost:8080/",
          "height": 240
        }
      },
      "source": [
        "toxic = train[train.toxic == 1]\n",
        "non_toxic = train[train.toxic == 0].sample(n = len(toxic))\n",
        "print(len(toxic), len(non_toxic))\n",
        "balanced = pd.concat([toxic, non_toxic]).sample(n= 2*len(toxic))\n",
        "print(len(balanced))\n",
        "balanced.reset_index()\n",
        "balanced.head()"
      ],
      "execution_count": 0,
      "outputs": [
        {
          "output_type": "stream",
          "text": [
            "15294 15294\n",
            "30588\n"
          ],
          "name": "stdout"
        },
        {
          "output_type": "execute_result",
          "data": {
            "text/html": [
              "<div>\n",
              "<style scoped>\n",
              "    .dataframe tbody tr th:only-of-type {\n",
              "        vertical-align: middle;\n",
              "    }\n",
              "\n",
              "    .dataframe tbody tr th {\n",
              "        vertical-align: top;\n",
              "    }\n",
              "\n",
              "    .dataframe thead th {\n",
              "        text-align: right;\n",
              "    }\n",
              "</style>\n",
              "<table border=\"1\" class=\"dataframe\">\n",
              "  <thead>\n",
              "    <tr style=\"text-align: right;\">\n",
              "      <th></th>\n",
              "      <th>id</th>\n",
              "      <th>comment_text</th>\n",
              "      <th>toxic</th>\n",
              "      <th>severe_toxic</th>\n",
              "      <th>obscene</th>\n",
              "      <th>threat</th>\n",
              "      <th>insult</th>\n",
              "      <th>identity_hate</th>\n",
              "      <th>clean</th>\n",
              "    </tr>\n",
              "  </thead>\n",
              "  <tbody>\n",
              "    <tr>\n",
              "      <th>126065</th>\n",
              "      <td>a233bffade1608ce</td>\n",
              "      <td>Thanks for the inf on US churches. I don't hav...</td>\n",
              "      <td>0</td>\n",
              "      <td>0</td>\n",
              "      <td>0</td>\n",
              "      <td>0</td>\n",
              "      <td>0</td>\n",
              "      <td>0</td>\n",
              "      <td>thanks for the inf on us churches i dont have ...</td>\n",
              "    </tr>\n",
              "    <tr>\n",
              "      <th>42069</th>\n",
              "      <td>703b4ea98127e95d</td>\n",
              "      <td>Race \\nHey. I'm writing from Imperial College,...</td>\n",
              "      <td>1</td>\n",
              "      <td>0</td>\n",
              "      <td>1</td>\n",
              "      <td>0</td>\n",
              "      <td>0</td>\n",
              "      <td>0</td>\n",
              "      <td>race hey im writing from imperial college uk t...</td>\n",
              "    </tr>\n",
              "    <tr>\n",
              "      <th>132217</th>\n",
              "      <td>c38f1015c3171475</td>\n",
              "      <td>Read this \\n\\nLuister Pejman. Learn better the...</td>\n",
              "      <td>0</td>\n",
              "      <td>0</td>\n",
              "      <td>0</td>\n",
              "      <td>0</td>\n",
              "      <td>0</td>\n",
              "      <td>0</td>\n",
              "      <td>read this luister pejman learn better the dutc...</td>\n",
              "    </tr>\n",
              "    <tr>\n",
              "      <th>146028</th>\n",
              "      <td>25d070a38cd25d61</td>\n",
              "      <td>\"{| width=\"\"100%\"\" style=\"\"background:transpar...</td>\n",
              "      <td>0</td>\n",
              "      <td>0</td>\n",
              "      <td>0</td>\n",
              "      <td>0</td>\n",
              "      <td>0</td>\n",
              "      <td>0</td>\n",
              "      <td>width100 stylebackgroundtransparent hello  an...</td>\n",
              "    </tr>\n",
              "    <tr>\n",
              "      <th>13320</th>\n",
              "      <td>23336bcfa6fea700</td>\n",
              "      <td>Hey John, it wasn't a fucking test moron</td>\n",
              "      <td>1</td>\n",
              "      <td>1</td>\n",
              "      <td>1</td>\n",
              "      <td>0</td>\n",
              "      <td>1</td>\n",
              "      <td>0</td>\n",
              "      <td>hey john it wasnt a fucking test moron</td>\n",
              "    </tr>\n",
              "  </tbody>\n",
              "</table>\n",
              "</div>"
            ],
            "text/plain": [
              "                      id  ...                                              clean\n",
              "126065  a233bffade1608ce  ...  thanks for the inf on us churches i dont have ...\n",
              "42069   703b4ea98127e95d  ...  race hey im writing from imperial college uk t...\n",
              "132217  c38f1015c3171475  ...  read this luister pejman learn better the dutc...\n",
              "146028  25d070a38cd25d61  ...   width100 stylebackgroundtransparent hello  an...\n",
              "13320   23336bcfa6fea700  ...             hey john it wasnt a fucking test moron\n",
              "\n",
              "[5 rows x 9 columns]"
            ]
          },
          "metadata": {
            "tags": []
          },
          "execution_count": 11
        }
      ]
    },
    {
      "cell_type": "markdown",
      "metadata": {
        "id": "JJ_iwu-l5uXq",
        "colab_type": "text"
      },
      "source": [
        "## Create the features from text\n",
        "Let's create the features from the clean text"
      ]
    },
    {
      "cell_type": "code",
      "metadata": {
        "id": "wUtW1Lg35fPH",
        "colab_type": "code",
        "colab": {}
      },
      "source": [
        "import sys, os, re, csv, codecs, numpy as np\n",
        "import matplotlib.pyplot as plt\n",
        "%matplotlib inline\n",
        "from tensorflow.keras.preprocessing.text import Tokenizer\n",
        "from tensorflow.keras.preprocessing.sequence import pad_sequences\n",
        "from tensorflow.keras.layers import Dense, Input, LSTM, Embedding, Dropout, Activation\n",
        "from tensorflow.keras.layers import Bidirectional, GlobalMaxPool1D\n",
        "from tensorflow.keras.models import Model\n",
        "from tensorflow.keras import initializers, regularizers, constraints, optimizers, layers\n",
        "from sklearn.model_selection import train_test_split"
      ],
      "execution_count": 0,
      "outputs": []
    },
    {
      "cell_type": "code",
      "metadata": {
        "id": "YDWXYGhm6Abe",
        "colab_type": "code",
        "colab": {}
      },
      "source": [
        "list_classes = [\"toxic\"]\n",
        "y = balanced[list_classes].values\n",
        "list_sentences_train = balanced[\"clean\"]\n",
        "max_features = 20000\n",
        "tokenizer = Tokenizer(num_words=max_features)\n",
        "tokenizer.fit_on_texts(list(list_sentences_train))\n",
        "list_tokenized_train = tokenizer.texts_to_sequences(list_sentences_train)"
      ],
      "execution_count": 0,
      "outputs": []
    },
    {
      "cell_type": "markdown",
      "metadata": {
        "id": "W21L9udf9Vq4",
        "colab_type": "text"
      },
      "source": [
        "## Create the train and test sets"
      ]
    },
    {
      "cell_type": "code",
      "metadata": {
        "id": "k-4UArjE6Lj5",
        "colab_type": "code",
        "colab": {}
      },
      "source": [
        "maxlen = 200\n",
        "X_t = pad_sequences(list_tokenized_train, maxlen=maxlen)"
      ],
      "execution_count": 0,
      "outputs": []
    },
    {
      "cell_type": "code",
      "metadata": {
        "id": "GMJ_jOIf9FY6",
        "colab_type": "code",
        "outputId": "e1d3a863-443f-41fb-9473-c8806ce21ecc",
        "colab": {
          "base_uri": "https://localhost:8080/",
          "height": 35
        }
      },
      "source": [
        "X_train, X_test, Y_train, Y_test = train_test_split(X_t, y, test_size = 0.2)\n",
        "print(X_train.shape, Y_train.shape, X_test.shape, Y_test.shape)"
      ],
      "execution_count": 0,
      "outputs": [
        {
          "output_type": "stream",
          "text": [
            "(24470, 200) (24470, 1) (6118, 200) (6118, 1)\n"
          ],
          "name": "stdout"
        }
      ]
    },
    {
      "cell_type": "markdown",
      "metadata": {
        "id": "uV0oKN5w9fPs",
        "colab_type": "text"
      },
      "source": [
        "## Create the model"
      ]
    },
    {
      "cell_type": "code",
      "metadata": {
        "id": "R3aPdZWv9Qgn",
        "colab_type": "code",
        "outputId": "ace7f1b6-68ad-4a17-c0b7-65eb503bedfa",
        "colab": {
          "base_uri": "https://localhost:8080/",
          "height": 449
        }
      },
      "source": [
        "def createModel():\n",
        "    inp = Input(shape=(maxlen, )) #maxlen=200 as defined earlier\n",
        "    embed_size = 128\n",
        "    x = Embedding(max_features, embed_size)(inp)\n",
        "    x = LSTM(60, return_sequences=True,name='lstm_layer')(x)\n",
        "    x = GlobalMaxPool1D()(x)\n",
        "    x = Dropout(0.1)(x)\n",
        "    x = Dense(50, activation=\"relu\")(x)\n",
        "    x = Dropout(0.1)(x)\n",
        "    x = Dense(1, activation=\"sigmoid\")(x)\n",
        "    model = Model(inputs=inp, outputs=x)\n",
        "    model.compile(loss='binary_crossentropy',\n",
        "                  optimizer='adam',\n",
        "                  metrics=['accuracy'])\n",
        "    return model\n",
        "model = createModel()\n",
        "model.summary()"
      ],
      "execution_count": 0,
      "outputs": [
        {
          "output_type": "stream",
          "text": [
            "Model: \"model\"\n",
            "_________________________________________________________________\n",
            "Layer (type)                 Output Shape              Param #   \n",
            "=================================================================\n",
            "input_1 (InputLayer)         [(None, 200)]             0         \n",
            "_________________________________________________________________\n",
            "embedding (Embedding)        (None, 200, 128)          2560000   \n",
            "_________________________________________________________________\n",
            "lstm_layer (LSTM)            (None, 200, 60)           45360     \n",
            "_________________________________________________________________\n",
            "global_max_pooling1d (Global (None, 60)                0         \n",
            "_________________________________________________________________\n",
            "dropout (Dropout)            (None, 60)                0         \n",
            "_________________________________________________________________\n",
            "dense (Dense)                (None, 50)                3050      \n",
            "_________________________________________________________________\n",
            "dropout_1 (Dropout)          (None, 50)                0         \n",
            "_________________________________________________________________\n",
            "dense_1 (Dense)              (None, 1)                 51        \n",
            "=================================================================\n",
            "Total params: 2,608,461\n",
            "Trainable params: 2,608,461\n",
            "Non-trainable params: 0\n",
            "_________________________________________________________________\n"
          ],
          "name": "stdout"
        }
      ]
    },
    {
      "cell_type": "code",
      "metadata": {
        "id": "_yC9NmFq9eLy",
        "colab_type": "code",
        "outputId": "5b78c9fc-73ef-4b9d-cbd6-e9935a9fb32e",
        "colab": {
          "base_uri": "https://localhost:8080/",
          "height": 107
        }
      },
      "source": [
        "batch_size = 64\n",
        "epochs = 2\n",
        "model.fit(X_train,Y_train, batch_size=batch_size, epochs=epochs, validation_split=0.1)"
      ],
      "execution_count": 0,
      "outputs": [
        {
          "output_type": "stream",
          "text": [
            "Epoch 1/2\n",
            "345/345 [==============================] - 61s 178ms/step - loss: 0.3407 - accuracy: 0.8480 - val_loss: 0.2367 - val_accuracy: 0.9097\n",
            "Epoch 2/2\n",
            "345/345 [==============================] - 62s 181ms/step - loss: 0.1660 - accuracy: 0.9379 - val_loss: 0.2462 - val_accuracy: 0.9085\n"
          ],
          "name": "stdout"
        },
        {
          "output_type": "execute_result",
          "data": {
            "text/plain": [
              "<tensorflow.python.keras.callbacks.History at 0x7fd4b9e5e160>"
            ]
          },
          "metadata": {
            "tags": []
          },
          "execution_count": 18
        }
      ]
    },
    {
      "cell_type": "markdown",
      "metadata": {
        "id": "Rq3E5179-EHT",
        "colab_type": "text"
      },
      "source": [
        "## Plot the loss"
      ]
    },
    {
      "cell_type": "code",
      "metadata": {
        "id": "G6QNGX5B917W",
        "colab_type": "code",
        "outputId": "a06179d7-6364-431d-adc8-dae3856a49fc",
        "colab": {
          "base_uri": "https://localhost:8080/",
          "height": 563
        }
      },
      "source": [
        "history = model.history\n",
        "acc = history.history['accuracy']\n",
        "val_acc = history.history['val_accuracy']\n",
        "loss = history.history['loss']\n",
        "val_loss = history.history['val_loss']\n",
        "# Get number of epochs\\n\",\n",
        "epochs = range(len(acc))\n",
        "\n",
        "# Plot training and validation accuracy per epoch\\n\",\n",
        "plt.plot(epochs, acc)\n",
        "plt.plot(epochs, val_acc)\n",
        "plt.title('Training and validation accuracy')\n",
        "plt.figure()\n",
        "\n",
        "# Plot training and validation loss per epoch\\n\",\n",
        "plt.plot(epochs, loss)\n",
        "plt.plot(epochs, val_loss)\n",
        "plt.title('Training and validation loss')"
      ],
      "execution_count": 0,
      "outputs": [
        {
          "output_type": "execute_result",
          "data": {
            "text/plain": [
              "Text(0.5, 1.0, 'Training and validation loss')"
            ]
          },
          "metadata": {
            "tags": []
          },
          "execution_count": 22
        },
        {
          "output_type": "display_data",
          "data": {
            "image/png": "[encoded data removed]",
            "text/plain": [
              "<Figure size 432x288 with 1 Axes>"
            ]
          },
          "metadata": {
            "tags": [],
            "needs_background": "light"
          }
        },
        {
          "output_type": "display_data",
          "data": {
            "image/png": "[encoded data removed]",
            "text/plain": [
              "<Figure size 432x288 with 1 Axes>"
            ]
          },
          "metadata": {
            "tags": [],
            "needs_background": "light"
          }
        }
      ]
    },
    {
      "cell_type": "markdown",
      "metadata": {
        "id": "6FJO-zQXPe5f",
        "colab_type": "text"
      },
      "source": [
        "## Evaluate the model"
      ]
    },
    {
      "cell_type": "code",
      "metadata": {
        "id": "vV3CSw63PaMu",
        "colab_type": "code",
        "outputId": "f05de8ac-fffd-4730-ca46-f307575a8ca6",
        "colab": {
          "base_uri": "https://localhost:8080/",
          "height": 53
        }
      },
      "source": [
        "model.evaluate(X_test, Y_test, verbose=1)"
      ],
      "execution_count": 0,
      "outputs": [
        {
          "output_type": "stream",
          "text": [
            "192/192 [==============================] - 5s 24ms/step - loss: 0.2320 - accuracy: 0.9106\n"
          ],
          "name": "stdout"
        },
        {
          "output_type": "execute_result",
          "data": {
            "text/plain": [
              "[0.23200273513793945, 0.910591721534729]"
            ]
          },
          "metadata": {
            "tags": []
          },
          "execution_count": 23
        }
      ]
    },
    {
      "cell_type": "code",
      "metadata": {
        "id": "cXycJpQm3H-E",
        "colab_type": "code",
        "outputId": "114c9ccf-765b-4907-bad8-a8c732156576",
        "colab": {
          "base_uri": "https://localhost:8080/",
          "height": 179
        }
      },
      "source": [
        "from sklearn.metrics import classification_report\n",
        "predictions = model.predict(X_test)\n",
        "binarized = [0 if p < 0.5 else 1 for p in predictions]\n",
        "print(classification_report(Y_test, binarized))"
      ],
      "execution_count": 0,
      "outputs": [
        {
          "output_type": "stream",
          "text": [
            "              precision    recall  f1-score   support\n",
            "\n",
            "           0       0.90      0.92      0.91      3060\n",
            "           1       0.92      0.90      0.91      3058\n",
            "\n",
            "    accuracy                           0.91      6118\n",
            "   macro avg       0.91      0.91      0.91      6118\n",
            "weighted avg       0.91      0.91      0.91      6118\n",
            "\n"
          ],
          "name": "stdout"
        }
      ]
    },
    {
      "cell_type": "markdown",
      "metadata": {
        "id": "voRkcHm-Ccjt",
        "colab_type": "text"
      },
      "source": [
        "## Save your model"
      ]
    },
    {
      "cell_type": "code",
      "metadata": {
        "id": "0XRa18LWCfN0",
        "colab_type": "code",
        "outputId": "761dd5c5-b3e9-4f31-e52a-c649a345cbb0",
        "colab": {
          "base_uri": "https://localhost:8080/",
          "height": 71
        }
      },
      "source": [
        "!pip install h5py"
      ],
      "execution_count": 0,
      "outputs": [
        {
          "output_type": "stream",
          "text": [
            "Requirement already satisfied: h5py in /usr/local/lib/python3.6/dist-packages (2.8.0)\n",
            "Requirement already satisfied: numpy>=1.7 in /usr/local/lib/python3.6/dist-packages (from h5py) (1.17.5)\n",
            "Requirement already satisfied: six in /usr/local/lib/python3.6/dist-packages (from h5py) (1.12.0)\n"
          ],
          "name": "stdout"
        }
      ]
    },
    {
      "cell_type": "code",
      "metadata": {
        "id": "H3yA4JlAFaFQ",
        "colab_type": "code",
        "outputId": "dadce52b-1f7b-4f1d-cbff-26c9a89a3833",
        "colab": {
          "base_uri": "https://localhost:8080/",
          "height": 35
        }
      },
      "source": [
        "model.save_weights(\"model.h5\")\n",
        "print(\"Saved model to disk\")"
      ],
      "execution_count": 0,
      "outputs": [
        {
          "output_type": "stream",
          "text": [
            "Saved model to disk\n"
          ],
          "name": "stdout"
        }
      ]
    },
    {
      "cell_type": "markdown",
      "metadata": {
        "id": "WAjKV52jABPv",
        "colab_type": "text"
      },
      "source": [
        "# Create the API\n",
        "\n",
        "Let's create a simple API to run our model and make it acessible using the web with flask"
      ]
    },
    {
      "cell_type": "markdown",
      "metadata": {
        "id": "f0fDK_GuAPrR",
        "colab_type": "text"
      },
      "source": [
        "## Create the dependencies"
      ]
    },
    {
      "cell_type": "code",
      "metadata": {
        "id": "Xmp-RVGoAOcd",
        "colab_type": "code",
        "outputId": "f18bc23d-9e2d-4728-ab73-9f8ca1f2152c",
        "colab": {
          "base_uri": "https://localhost:8080/",
          "height": 287
        }
      },
      "source": [
        "!pip install flask-ngrok"
      ],
      "execution_count": 0,
      "outputs": [
        {
          "output_type": "stream",
          "text": [
            "Collecting flask-ngrok\n",
            "  Downloading https://files.pythonhosted.org/packages/af/6c/f54cb686ad1129e27d125d182f90f52b32f284e6c8df58c1bae54fa1adbc/flask_ngrok-0.0.25-py3-none-any.whl\n",
            "Requirement already satisfied: requests in /usr/local/lib/python3.6/dist-packages (from flask-ngrok) (2.21.0)\n",
            "Requirement already satisfied: Flask>=0.8 in /usr/local/lib/python3.6/dist-packages (from flask-ngrok) (1.1.2)\n",
            "Requirement already satisfied: certifi>=2017.4.17 in /usr/local/lib/python3.6/dist-packages (from requests->flask-ngrok) (2020.4.5.1)\n",
            "Requirement already satisfied: chardet<3.1.0,>=3.0.2 in /usr/local/lib/python3.6/dist-packages (from requests->flask-ngrok) (3.0.4)\n",
            "Requirement already satisfied: idna<2.9,>=2.5 in /usr/local/lib/python3.6/dist-packages (from requests->flask-ngrok) (2.8)\n",
            "Requirement already satisfied: urllib3<1.25,>=1.21.1 in /usr/local/lib/python3.6/dist-packages (from requests->flask-ngrok) (1.24.3)\n",
            "Requirement already satisfied: click>=5.1 in /usr/local/lib/python3.6/dist-packages (from Flask>=0.8->flask-ngrok) (7.1.1)\n",
            "Requirement already satisfied: itsdangerous>=0.24 in /usr/local/lib/python3.6/dist-packages (from Flask>=0.8->flask-ngrok) (1.1.0)\n",
            "Requirement already satisfied: Jinja2>=2.10.1 in /usr/local/lib/python3.6/dist-packages (from Flask>=0.8->flask-ngrok) (2.11.2)\n",
            "Requirement already satisfied: Werkzeug>=0.15 in /usr/local/lib/python3.6/dist-packages (from Flask>=0.8->flask-ngrok) (1.0.1)\n",
            "Requirement already satisfied: MarkupSafe>=0.23 in /usr/local/lib/python3.6/dist-packages (from Jinja2>=2.10.1->Flask>=0.8->flask-ngrok) (1.1.1)\n",
            "Installing collected packages: flask-ngrok\n",
            "Successfully installed flask-ngrok-0.0.25\n"
          ],
          "name": "stdout"
        }
      ]
    },
    {
      "cell_type": "code",
      "metadata": {
        "id": "CmRbrqaCANB9",
        "colab_type": "code",
        "colab": {}
      },
      "source": [
        "from flask_ngrok import run_with_ngrok\n",
        "from flask import Flask"
      ],
      "execution_count": 0,
      "outputs": []
    },
    {
      "cell_type": "markdown",
      "metadata": {
        "id": "tXjQkheyJa_l",
        "colab_type": "text"
      },
      "source": [
        "## Load the model"
      ]
    },
    {
      "cell_type": "code",
      "metadata": {
        "id": "n6TgX_WL_l-H",
        "colab_type": "code",
        "outputId": "bf955933-c750-4f21-e27c-9f21f4d92d7c",
        "colab": {
          "base_uri": "https://localhost:8080/",
          "height": 467
        }
      },
      "source": [
        "from keras.models import load_model \n",
        "from tensorflow import keras\n",
        "import tensorflow as tf\n",
        "\n",
        "# Reproduce the model\n",
        "learn = createModel()\n",
        "# load model\n",
        "learn.load_weights('model.h5')\n",
        "# summarize model.\n",
        "learn.summary()\n",
        "# Make the predict function\n",
        "learn.make_predict_function()"
      ],
      "execution_count": 0,
      "outputs": [
        {
          "output_type": "stream",
          "text": [
            "Model: \"model_1\"\n",
            "_________________________________________________________________\n",
            "Layer (type)                 Output Shape              Param #   \n",
            "=================================================================\n",
            "input_2 (InputLayer)         [(None, 200)]             0         \n",
            "_________________________________________________________________\n",
            "embedding_1 (Embedding)      (None, 200, 128)          2560000   \n",
            "_________________________________________________________________\n",
            "lstm_layer (LSTM)            (None, 200, 60)           45360     \n",
            "_________________________________________________________________\n",
            "global_max_pooling1d_1 (Glob (None, 60)                0         \n",
            "_________________________________________________________________\n",
            "dropout_2 (Dropout)          (None, 60)                0         \n",
            "_________________________________________________________________\n",
            "dense_2 (Dense)              (None, 50)                3050      \n",
            "_________________________________________________________________\n",
            "dropout_3 (Dropout)          (None, 50)                0         \n",
            "_________________________________________________________________\n",
            "dense_3 (Dense)              (None, 1)                 51        \n",
            "=================================================================\n",
            "Total params: 2,608,461\n",
            "Trainable params: 2,608,461\n",
            "Non-trainable params: 0\n",
            "_________________________________________________________________\n"
          ],
          "name": "stdout"
        },
        {
          "output_type": "execute_result",
          "data": {
            "text/plain": [
              "<tensorflow.python.eager.def_function.Function at 0x7fd4b548d940>"
            ]
          },
          "metadata": {
            "tags": []
          },
          "execution_count": 36
        }
      ]
    },
    {
      "cell_type": "markdown",
      "metadata": {
        "id": "p4jstTylJgb9",
        "colab_type": "text"
      },
      "source": [
        "## Define the web API"
      ]
    },
    {
      "cell_type": "markdown",
      "metadata": {
        "id": "zvO64-FRa4jp",
        "colab_type": "text"
      },
      "source": [
        "Run the web server defined below, once the server is running you will have an http://xxxxxxxxx.ngrok.io url to access your server from internet. To test your API do the following:\n",
        "\n",
        "* Access to https://reqbin.com/curl:\n",
        "\n",
        "* Run the following curl command to test your server replacing the url for the one generated in the notebook:"
      ]
    },
    {
      "cell_type": "code",
      "metadata": {
        "id": "HU2GXuv4deEM",
        "colab_type": "code",
        "outputId": "f99fc0b7-f030-42f1-a61b-ff6977dd43e7",
        "colab": {
          "base_uri": "https://localhost:8080/",
          "height": 35
        }
      },
      "source": [
        "!curl --header \"Content-Type: application/json\" \\\n",
        "  --request POST \\\n",
        "  --data '{\"comportia_question_tokens\": [\"They are awful I hate them\"]}' \\\n",
        "  http://b2975e2c.ngrok.io/toxic"
      ],
      "execution_count": 0,
      "outputs": [
        {
          "output_type": "stream",
          "text": [
            "Tunnel b2975e2c.ngrok.io not found"
          ],
          "name": "stdout"
        }
      ]
    },
    {
      "cell_type": "code",
      "metadata": {
        "id": "FcH7shmXJfiS",
        "colab_type": "code",
        "outputId": "47d409c0-bc3c-4d23-b348-ad80570ad825",
        "colab": {
          "base_uri": "https://localhost:8080/",
          "height": 505
        }
      },
      "source": [
        "import random\n",
        "from flask_ngrok import run_with_ngrok\n",
        "from flask import Flask\n",
        "from flask import jsonify\n",
        "from flask import request\n",
        "from sutil.text.StringJanitor import StringJanitor\n",
        "from tensorflow.keras.preprocessing.text import Tokenizer\n",
        "from tensorflow.keras.preprocessing.sequence import pad_sequences\n",
        "\n",
        "app = Flask(__name__)\n",
        "run_with_ngrok(app)   #starts ngrok when the app is run\n",
        "\n",
        "\n",
        "def preProcessText(text, tokenizer):\n",
        "    janitor = StringJanitor(space_char=' ')\n",
        "    cleaned = janitor.clean(text)\n",
        "    maxlen = 200\n",
        "    tokenized_text = tokenizer.texts_to_sequences([text])\n",
        "    X_t = pad_sequences(tokenized_text, maxlen=maxlen)\n",
        "    return X_t\n",
        "    \n",
        "def isToxic(text):\n",
        "    featured = preProcessText(text, tokenizer)\n",
        "    global session\n",
        "    try:\n",
        "        predictions = learn.predict(featured)\n",
        "        print(predictions)\n",
        "        if predictions[0][0] > 0.5:\n",
        "          return True\n",
        "    except Exception as ex:\n",
        "        print(\"An error was encontered during the prediction\")\n",
        "        print(ex)\n",
        "    return False\n",
        "\n",
        "@app.route(\"/\")\n",
        "def home():\n",
        "    body = \"<h1>Use this Toxic API!</h1>\"\n",
        "    body += \"<p> send the toxic comment using POST to /toxic </p>\"\n",
        "    return body\n",
        "\n",
        "@app.route(\"/check\")\n",
        "def check():\n",
        "    body = \"<h1>Running Flask on Google Colab!</h1>\"\n",
        "    body += \"<p> The model is ready </p>\"\n",
        "    return body\n",
        "\n",
        "@app.route(\"/toxic\", methods=['POST'])\n",
        "def toxic():\n",
        "    print(request.json)\n",
        "    comment = request.json[\"comportia_question_tokens\"][0]\n",
        "    #comment = request.json[\"comment\"]\n",
        "    toxic = {'text': comment, 'toxic': isToxic(comment)}\n",
        "    print(toxic)\n",
        "    return jsonify(toxic)\n",
        "\n",
        "app.run()"
      ],
      "execution_count": 0,
      "outputs": [
        {
          "output_type": "stream",
          "text": [
            " * Serving Flask app \"__main__\" (lazy loading)\n",
            " * Environment: production\n",
            "\u001b[31m   WARNING: This is a development server. Do not use it in a production deployment.\u001b[0m\n",
            "\u001b[2m   Use a production WSGI server instead.\u001b[0m\n",
            " * Debug mode: off\n"
          ],
          "name": "stdout"
        },
        {
          "output_type": "stream",
          "text": [
            " * Running on http://127.0.0.1:5000/ (Press CTRL+C to quit)\n"
          ],
          "name": "stderr"
        },
        {
          "output_type": "stream",
          "text": [
            " * Running on http://21985e39.ngrok.io\n",
            " * Traffic stats available on http://127.0.0.1:4040\n"
          ],
          "name": "stdout"
        },
        {
          "output_type": "stream",
          "text": [
            "127.0.0.1 - - [16/Apr/2020 23:07:17] \"\u001b[37mGET / HTTP/1.1\u001b[0m\" 200 -\n",
            "127.0.0.1 - - [16/Apr/2020 23:07:18] \"\u001b[33mGET /favicon.ico HTTP/1.1\u001b[0m\" 404 -\n"
          ],
          "name": "stderr"
        },
        {
          "output_type": "stream",
          "text": [
            "{'comportia_question_tokens': ['They are awful I hate them']}\n"
          ],
          "name": "stdout"
        },
        {
          "output_type": "stream",
          "text": [
            "127.0.0.1 - - [16/Apr/2020 23:07:36] \"\u001b[37mPOST /toxic HTTP/1.1\u001b[0m\" 200 -\n"
          ],
          "name": "stderr"
        },
        {
          "output_type": "stream",
          "text": [
            "[[0.88980633]]\n",
            "{'text': 'They are awful I hate them', 'toxic': True}\n"
          ],
          "name": "stdout"
        },
        {
          "output_type": "stream",
          "text": [
            "127.0.0.1 - - [16/Apr/2020 23:28:33] \"\u001b[37mPOST /toxic?comportia_question=They%20are%20awful%20I%20hate%20them HTTP/1.1\u001b[0m\" 200 -\n"
          ],
          "name": "stderr"
        },
        {
          "output_type": "stream",
          "text": [
            "{'comportia_info': {'topic_info': {'name': 'Senseless', 'probability': '1.00', 'answer': \"I can't answer you right now, because I have no information about your question\"}}, 'comportia_question_tokens': ['they are awful i hate them']}\n",
            "[[0.88980633]]\n",
            "{'text': 'they are awful i hate them', 'toxic': True}\n"
          ],
          "name": "stdout"
        },
        {
          "output_type": "stream",
          "text": [
            "127.0.0.1 - - [16/Apr/2020 23:29:55] \"\u001b[37mPOST /toxic?comportia_question=They%20are%20awesome%20I%20love%20them HTTP/1.1\u001b[0m\" 200 -\n"
          ],
          "name": "stderr"
        },
        {
          "output_type": "stream",
          "text": [
            "{'comportia_info': {'topic_info': {'name': 'Senseless', 'probability': '1.00', 'answer': \"I can't answer you right now, because I have no information about your question\"}}, 'comportia_question_tokens': ['they are awesome i love them']}\n",
            "[[0.2783615]]\n",
            "{'text': 'they are awesome i love them', 'toxic': False}\n"
          ],
          "name": "stdout"
        },
        {
          "output_type": "stream",
          "text": [
            "127.0.0.1 - - [16/Apr/2020 23:43:51] \"\u001b[37mPOST /toxic?comportia_question=They%20are%20awful%20i%20hate%20them HTTP/1.1\u001b[0m\" 200 -\n"
          ],
          "name": "stderr"
        },
        {
          "output_type": "stream",
          "text": [
            "{'comportia_info': {'topic_info': {'name': 'Senseless', 'probability': '1.00', 'answer': 'I have no knowledge about that topic, I will try to figure out the meaning so I could answer you soon'}}, 'comportia_question_tokens': ['they are awful i hate them']}\n",
            "[[0.88980633]]\n",
            "{'text': 'they are awful i hate them', 'toxic': True}\n"
          ],
          "name": "stdout"
        }
      ]
    },
    {
      "cell_type": "code",
      "metadata": {
        "id": "I5IN9owiJ0gi",
        "colab_type": "code",
        "colab": {}
      },
      "source": [
        ""
      ],
      "execution_count": 0,
      "outputs": []
    }
  ]
}